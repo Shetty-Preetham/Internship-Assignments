{
 "cells": [
  {
   "cell_type": "code",
   "execution_count": 1,
   "id": "92852af2",
   "metadata": {},
   "outputs": [],
   "source": [
    "import pandas as pd\n",
    "import numpy as np\n",
    "import matplotlib as plt"
   ]
  },
  {
   "cell_type": "code",
   "execution_count": 2,
   "id": "9903436a",
   "metadata": {},
   "outputs": [],
   "source": [
    "df=pd.read_csv(\"forestfires.csv\")"
   ]
  },
  {
   "cell_type": "code",
   "execution_count": 3,
   "id": "ed17a027",
   "metadata": {},
   "outputs": [
    {
     "data": {
      "text/html": [
       "<div>\n",
       "<style scoped>\n",
       "    .dataframe tbody tr th:only-of-type {\n",
       "        vertical-align: middle;\n",
       "    }\n",
       "\n",
       "    .dataframe tbody tr th {\n",
       "        vertical-align: top;\n",
       "    }\n",
       "\n",
       "    .dataframe thead th {\n",
       "        text-align: right;\n",
       "    }\n",
       "</style>\n",
       "<table border=\"1\" class=\"dataframe\">\n",
       "  <thead>\n",
       "    <tr style=\"text-align: right;\">\n",
       "      <th></th>\n",
       "      <th>month</th>\n",
       "      <th>day</th>\n",
       "      <th>FFMC</th>\n",
       "      <th>DMC</th>\n",
       "      <th>DC</th>\n",
       "      <th>ISI</th>\n",
       "      <th>temp</th>\n",
       "      <th>RH</th>\n",
       "      <th>wind</th>\n",
       "      <th>rain</th>\n",
       "      <th>...</th>\n",
       "      <th>monthfeb</th>\n",
       "      <th>monthjan</th>\n",
       "      <th>monthjul</th>\n",
       "      <th>monthjun</th>\n",
       "      <th>monthmar</th>\n",
       "      <th>monthmay</th>\n",
       "      <th>monthnov</th>\n",
       "      <th>monthoct</th>\n",
       "      <th>monthsep</th>\n",
       "      <th>size_category</th>\n",
       "    </tr>\n",
       "  </thead>\n",
       "  <tbody>\n",
       "    <tr>\n",
       "      <th>0</th>\n",
       "      <td>mar</td>\n",
       "      <td>fri</td>\n",
       "      <td>86.2</td>\n",
       "      <td>26.2</td>\n",
       "      <td>94.3</td>\n",
       "      <td>5.1</td>\n",
       "      <td>8.2</td>\n",
       "      <td>51</td>\n",
       "      <td>6.7</td>\n",
       "      <td>0.0</td>\n",
       "      <td>...</td>\n",
       "      <td>0</td>\n",
       "      <td>0</td>\n",
       "      <td>0</td>\n",
       "      <td>0</td>\n",
       "      <td>1</td>\n",
       "      <td>0</td>\n",
       "      <td>0</td>\n",
       "      <td>0</td>\n",
       "      <td>0</td>\n",
       "      <td>small</td>\n",
       "    </tr>\n",
       "    <tr>\n",
       "      <th>1</th>\n",
       "      <td>oct</td>\n",
       "      <td>tue</td>\n",
       "      <td>90.6</td>\n",
       "      <td>35.4</td>\n",
       "      <td>669.1</td>\n",
       "      <td>6.7</td>\n",
       "      <td>18.0</td>\n",
       "      <td>33</td>\n",
       "      <td>0.9</td>\n",
       "      <td>0.0</td>\n",
       "      <td>...</td>\n",
       "      <td>0</td>\n",
       "      <td>0</td>\n",
       "      <td>0</td>\n",
       "      <td>0</td>\n",
       "      <td>0</td>\n",
       "      <td>0</td>\n",
       "      <td>0</td>\n",
       "      <td>1</td>\n",
       "      <td>0</td>\n",
       "      <td>small</td>\n",
       "    </tr>\n",
       "    <tr>\n",
       "      <th>2</th>\n",
       "      <td>oct</td>\n",
       "      <td>sat</td>\n",
       "      <td>90.6</td>\n",
       "      <td>43.7</td>\n",
       "      <td>686.9</td>\n",
       "      <td>6.7</td>\n",
       "      <td>14.6</td>\n",
       "      <td>33</td>\n",
       "      <td>1.3</td>\n",
       "      <td>0.0</td>\n",
       "      <td>...</td>\n",
       "      <td>0</td>\n",
       "      <td>0</td>\n",
       "      <td>0</td>\n",
       "      <td>0</td>\n",
       "      <td>0</td>\n",
       "      <td>0</td>\n",
       "      <td>0</td>\n",
       "      <td>1</td>\n",
       "      <td>0</td>\n",
       "      <td>small</td>\n",
       "    </tr>\n",
       "    <tr>\n",
       "      <th>3</th>\n",
       "      <td>mar</td>\n",
       "      <td>fri</td>\n",
       "      <td>91.7</td>\n",
       "      <td>33.3</td>\n",
       "      <td>77.5</td>\n",
       "      <td>9.0</td>\n",
       "      <td>8.3</td>\n",
       "      <td>97</td>\n",
       "      <td>4.0</td>\n",
       "      <td>0.2</td>\n",
       "      <td>...</td>\n",
       "      <td>0</td>\n",
       "      <td>0</td>\n",
       "      <td>0</td>\n",
       "      <td>0</td>\n",
       "      <td>1</td>\n",
       "      <td>0</td>\n",
       "      <td>0</td>\n",
       "      <td>0</td>\n",
       "      <td>0</td>\n",
       "      <td>small</td>\n",
       "    </tr>\n",
       "    <tr>\n",
       "      <th>4</th>\n",
       "      <td>mar</td>\n",
       "      <td>sun</td>\n",
       "      <td>89.3</td>\n",
       "      <td>51.3</td>\n",
       "      <td>102.2</td>\n",
       "      <td>9.6</td>\n",
       "      <td>11.4</td>\n",
       "      <td>99</td>\n",
       "      <td>1.8</td>\n",
       "      <td>0.0</td>\n",
       "      <td>...</td>\n",
       "      <td>0</td>\n",
       "      <td>0</td>\n",
       "      <td>0</td>\n",
       "      <td>0</td>\n",
       "      <td>1</td>\n",
       "      <td>0</td>\n",
       "      <td>0</td>\n",
       "      <td>0</td>\n",
       "      <td>0</td>\n",
       "      <td>small</td>\n",
       "    </tr>\n",
       "  </tbody>\n",
       "</table>\n",
       "<p>5 rows × 31 columns</p>\n",
       "</div>"
      ],
      "text/plain": [
       "  month  day  FFMC   DMC     DC  ISI  temp  RH  wind  rain  ...  monthfeb  \\\n",
       "0   mar  fri  86.2  26.2   94.3  5.1   8.2  51   6.7   0.0  ...         0   \n",
       "1   oct  tue  90.6  35.4  669.1  6.7  18.0  33   0.9   0.0  ...         0   \n",
       "2   oct  sat  90.6  43.7  686.9  6.7  14.6  33   1.3   0.0  ...         0   \n",
       "3   mar  fri  91.7  33.3   77.5  9.0   8.3  97   4.0   0.2  ...         0   \n",
       "4   mar  sun  89.3  51.3  102.2  9.6  11.4  99   1.8   0.0  ...         0   \n",
       "\n",
       "   monthjan  monthjul  monthjun  monthmar  monthmay  monthnov  monthoct  \\\n",
       "0         0         0         0         1         0         0         0   \n",
       "1         0         0         0         0         0         0         1   \n",
       "2         0         0         0         0         0         0         1   \n",
       "3         0         0         0         1         0         0         0   \n",
       "4         0         0         0         1         0         0         0   \n",
       "\n",
       "   monthsep  size_category  \n",
       "0         0          small  \n",
       "1         0          small  \n",
       "2         0          small  \n",
       "3         0          small  \n",
       "4         0          small  \n",
       "\n",
       "[5 rows x 31 columns]"
      ]
     },
     "execution_count": 3,
     "metadata": {},
     "output_type": "execute_result"
    }
   ],
   "source": [
    "df.head()"
   ]
  },
  {
   "cell_type": "code",
   "execution_count": 4,
   "id": "617bb202",
   "metadata": {},
   "outputs": [],
   "source": [
    "df = df.drop(['month','day'],axis=1)"
   ]
  },
  {
   "cell_type": "code",
   "execution_count": 5,
   "id": "c5d7cc44",
   "metadata": {},
   "outputs": [
    {
     "data": {
      "text/html": [
       "<div>\n",
       "<style scoped>\n",
       "    .dataframe tbody tr th:only-of-type {\n",
       "        vertical-align: middle;\n",
       "    }\n",
       "\n",
       "    .dataframe tbody tr th {\n",
       "        vertical-align: top;\n",
       "    }\n",
       "\n",
       "    .dataframe thead th {\n",
       "        text-align: right;\n",
       "    }\n",
       "</style>\n",
       "<table border=\"1\" class=\"dataframe\">\n",
       "  <thead>\n",
       "    <tr style=\"text-align: right;\">\n",
       "      <th></th>\n",
       "      <th>FFMC</th>\n",
       "      <th>DMC</th>\n",
       "      <th>DC</th>\n",
       "      <th>ISI</th>\n",
       "      <th>temp</th>\n",
       "      <th>RH</th>\n",
       "      <th>wind</th>\n",
       "      <th>rain</th>\n",
       "      <th>area</th>\n",
       "      <th>dayfri</th>\n",
       "      <th>...</th>\n",
       "      <th>monthfeb</th>\n",
       "      <th>monthjan</th>\n",
       "      <th>monthjul</th>\n",
       "      <th>monthjun</th>\n",
       "      <th>monthmar</th>\n",
       "      <th>monthmay</th>\n",
       "      <th>monthnov</th>\n",
       "      <th>monthoct</th>\n",
       "      <th>monthsep</th>\n",
       "      <th>size_category</th>\n",
       "    </tr>\n",
       "  </thead>\n",
       "  <tbody>\n",
       "    <tr>\n",
       "      <th>0</th>\n",
       "      <td>86.2</td>\n",
       "      <td>26.2</td>\n",
       "      <td>94.3</td>\n",
       "      <td>5.1</td>\n",
       "      <td>8.2</td>\n",
       "      <td>51</td>\n",
       "      <td>6.7</td>\n",
       "      <td>0.0</td>\n",
       "      <td>0.0</td>\n",
       "      <td>1</td>\n",
       "      <td>...</td>\n",
       "      <td>0</td>\n",
       "      <td>0</td>\n",
       "      <td>0</td>\n",
       "      <td>0</td>\n",
       "      <td>1</td>\n",
       "      <td>0</td>\n",
       "      <td>0</td>\n",
       "      <td>0</td>\n",
       "      <td>0</td>\n",
       "      <td>small</td>\n",
       "    </tr>\n",
       "    <tr>\n",
       "      <th>1</th>\n",
       "      <td>90.6</td>\n",
       "      <td>35.4</td>\n",
       "      <td>669.1</td>\n",
       "      <td>6.7</td>\n",
       "      <td>18.0</td>\n",
       "      <td>33</td>\n",
       "      <td>0.9</td>\n",
       "      <td>0.0</td>\n",
       "      <td>0.0</td>\n",
       "      <td>0</td>\n",
       "      <td>...</td>\n",
       "      <td>0</td>\n",
       "      <td>0</td>\n",
       "      <td>0</td>\n",
       "      <td>0</td>\n",
       "      <td>0</td>\n",
       "      <td>0</td>\n",
       "      <td>0</td>\n",
       "      <td>1</td>\n",
       "      <td>0</td>\n",
       "      <td>small</td>\n",
       "    </tr>\n",
       "    <tr>\n",
       "      <th>2</th>\n",
       "      <td>90.6</td>\n",
       "      <td>43.7</td>\n",
       "      <td>686.9</td>\n",
       "      <td>6.7</td>\n",
       "      <td>14.6</td>\n",
       "      <td>33</td>\n",
       "      <td>1.3</td>\n",
       "      <td>0.0</td>\n",
       "      <td>0.0</td>\n",
       "      <td>0</td>\n",
       "      <td>...</td>\n",
       "      <td>0</td>\n",
       "      <td>0</td>\n",
       "      <td>0</td>\n",
       "      <td>0</td>\n",
       "      <td>0</td>\n",
       "      <td>0</td>\n",
       "      <td>0</td>\n",
       "      <td>1</td>\n",
       "      <td>0</td>\n",
       "      <td>small</td>\n",
       "    </tr>\n",
       "    <tr>\n",
       "      <th>3</th>\n",
       "      <td>91.7</td>\n",
       "      <td>33.3</td>\n",
       "      <td>77.5</td>\n",
       "      <td>9.0</td>\n",
       "      <td>8.3</td>\n",
       "      <td>97</td>\n",
       "      <td>4.0</td>\n",
       "      <td>0.2</td>\n",
       "      <td>0.0</td>\n",
       "      <td>1</td>\n",
       "      <td>...</td>\n",
       "      <td>0</td>\n",
       "      <td>0</td>\n",
       "      <td>0</td>\n",
       "      <td>0</td>\n",
       "      <td>1</td>\n",
       "      <td>0</td>\n",
       "      <td>0</td>\n",
       "      <td>0</td>\n",
       "      <td>0</td>\n",
       "      <td>small</td>\n",
       "    </tr>\n",
       "    <tr>\n",
       "      <th>4</th>\n",
       "      <td>89.3</td>\n",
       "      <td>51.3</td>\n",
       "      <td>102.2</td>\n",
       "      <td>9.6</td>\n",
       "      <td>11.4</td>\n",
       "      <td>99</td>\n",
       "      <td>1.8</td>\n",
       "      <td>0.0</td>\n",
       "      <td>0.0</td>\n",
       "      <td>0</td>\n",
       "      <td>...</td>\n",
       "      <td>0</td>\n",
       "      <td>0</td>\n",
       "      <td>0</td>\n",
       "      <td>0</td>\n",
       "      <td>1</td>\n",
       "      <td>0</td>\n",
       "      <td>0</td>\n",
       "      <td>0</td>\n",
       "      <td>0</td>\n",
       "      <td>small</td>\n",
       "    </tr>\n",
       "  </tbody>\n",
       "</table>\n",
       "<p>5 rows × 29 columns</p>\n",
       "</div>"
      ],
      "text/plain": [
       "   FFMC   DMC     DC  ISI  temp  RH  wind  rain  area  dayfri  ...  monthfeb  \\\n",
       "0  86.2  26.2   94.3  5.1   8.2  51   6.7   0.0   0.0       1  ...         0   \n",
       "1  90.6  35.4  669.1  6.7  18.0  33   0.9   0.0   0.0       0  ...         0   \n",
       "2  90.6  43.7  686.9  6.7  14.6  33   1.3   0.0   0.0       0  ...         0   \n",
       "3  91.7  33.3   77.5  9.0   8.3  97   4.0   0.2   0.0       1  ...         0   \n",
       "4  89.3  51.3  102.2  9.6  11.4  99   1.8   0.0   0.0       0  ...         0   \n",
       "\n",
       "   monthjan  monthjul  monthjun  monthmar  monthmay  monthnov  monthoct  \\\n",
       "0         0         0         0         1         0         0         0   \n",
       "1         0         0         0         0         0         0         1   \n",
       "2         0         0         0         0         0         0         1   \n",
       "3         0         0         0         1         0         0         0   \n",
       "4         0         0         0         1         0         0         0   \n",
       "\n",
       "   monthsep  size_category  \n",
       "0         0          small  \n",
       "1         0          small  \n",
       "2         0          small  \n",
       "3         0          small  \n",
       "4         0          small  \n",
       "\n",
       "[5 rows x 29 columns]"
      ]
     },
     "execution_count": 5,
     "metadata": {},
     "output_type": "execute_result"
    }
   ],
   "source": [
    "df.head()"
   ]
  },
  {
   "cell_type": "code",
   "execution_count": 6,
   "id": "55a6d49e",
   "metadata": {},
   "outputs": [
    {
     "data": {
      "text/plain": [
       "small    378\n",
       "large    139\n",
       "Name: size_category, dtype: int64"
      ]
     },
     "execution_count": 6,
     "metadata": {},
     "output_type": "execute_result"
    }
   ],
   "source": [
    "df['size_category'].value_counts()"
   ]
  },
  {
   "cell_type": "code",
   "execution_count": 7,
   "id": "f5196bdd",
   "metadata": {},
   "outputs": [],
   "source": [
    "from sklearn.preprocessing import LabelEncoder\n",
    "le = LabelEncoder()\n",
    "df['size_category'] = le.fit_transform(df['size_category'])"
   ]
  },
  {
   "cell_type": "code",
   "execution_count": 8,
   "id": "2c4832fd",
   "metadata": {},
   "outputs": [
    {
     "data": {
      "text/html": [
       "<div>\n",
       "<style scoped>\n",
       "    .dataframe tbody tr th:only-of-type {\n",
       "        vertical-align: middle;\n",
       "    }\n",
       "\n",
       "    .dataframe tbody tr th {\n",
       "        vertical-align: top;\n",
       "    }\n",
       "\n",
       "    .dataframe thead th {\n",
       "        text-align: right;\n",
       "    }\n",
       "</style>\n",
       "<table border=\"1\" class=\"dataframe\">\n",
       "  <thead>\n",
       "    <tr style=\"text-align: right;\">\n",
       "      <th></th>\n",
       "      <th>FFMC</th>\n",
       "      <th>DMC</th>\n",
       "      <th>DC</th>\n",
       "      <th>ISI</th>\n",
       "      <th>temp</th>\n",
       "      <th>RH</th>\n",
       "      <th>wind</th>\n",
       "      <th>rain</th>\n",
       "      <th>area</th>\n",
       "      <th>dayfri</th>\n",
       "      <th>...</th>\n",
       "      <th>monthfeb</th>\n",
       "      <th>monthjan</th>\n",
       "      <th>monthjul</th>\n",
       "      <th>monthjun</th>\n",
       "      <th>monthmar</th>\n",
       "      <th>monthmay</th>\n",
       "      <th>monthnov</th>\n",
       "      <th>monthoct</th>\n",
       "      <th>monthsep</th>\n",
       "      <th>size_category</th>\n",
       "    </tr>\n",
       "  </thead>\n",
       "  <tbody>\n",
       "    <tr>\n",
       "      <th>0</th>\n",
       "      <td>86.2</td>\n",
       "      <td>26.2</td>\n",
       "      <td>94.3</td>\n",
       "      <td>5.1</td>\n",
       "      <td>8.2</td>\n",
       "      <td>51</td>\n",
       "      <td>6.7</td>\n",
       "      <td>0.0</td>\n",
       "      <td>0.0</td>\n",
       "      <td>1</td>\n",
       "      <td>...</td>\n",
       "      <td>0</td>\n",
       "      <td>0</td>\n",
       "      <td>0</td>\n",
       "      <td>0</td>\n",
       "      <td>1</td>\n",
       "      <td>0</td>\n",
       "      <td>0</td>\n",
       "      <td>0</td>\n",
       "      <td>0</td>\n",
       "      <td>1</td>\n",
       "    </tr>\n",
       "    <tr>\n",
       "      <th>1</th>\n",
       "      <td>90.6</td>\n",
       "      <td>35.4</td>\n",
       "      <td>669.1</td>\n",
       "      <td>6.7</td>\n",
       "      <td>18.0</td>\n",
       "      <td>33</td>\n",
       "      <td>0.9</td>\n",
       "      <td>0.0</td>\n",
       "      <td>0.0</td>\n",
       "      <td>0</td>\n",
       "      <td>...</td>\n",
       "      <td>0</td>\n",
       "      <td>0</td>\n",
       "      <td>0</td>\n",
       "      <td>0</td>\n",
       "      <td>0</td>\n",
       "      <td>0</td>\n",
       "      <td>0</td>\n",
       "      <td>1</td>\n",
       "      <td>0</td>\n",
       "      <td>1</td>\n",
       "    </tr>\n",
       "    <tr>\n",
       "      <th>2</th>\n",
       "      <td>90.6</td>\n",
       "      <td>43.7</td>\n",
       "      <td>686.9</td>\n",
       "      <td>6.7</td>\n",
       "      <td>14.6</td>\n",
       "      <td>33</td>\n",
       "      <td>1.3</td>\n",
       "      <td>0.0</td>\n",
       "      <td>0.0</td>\n",
       "      <td>0</td>\n",
       "      <td>...</td>\n",
       "      <td>0</td>\n",
       "      <td>0</td>\n",
       "      <td>0</td>\n",
       "      <td>0</td>\n",
       "      <td>0</td>\n",
       "      <td>0</td>\n",
       "      <td>0</td>\n",
       "      <td>1</td>\n",
       "      <td>0</td>\n",
       "      <td>1</td>\n",
       "    </tr>\n",
       "    <tr>\n",
       "      <th>3</th>\n",
       "      <td>91.7</td>\n",
       "      <td>33.3</td>\n",
       "      <td>77.5</td>\n",
       "      <td>9.0</td>\n",
       "      <td>8.3</td>\n",
       "      <td>97</td>\n",
       "      <td>4.0</td>\n",
       "      <td>0.2</td>\n",
       "      <td>0.0</td>\n",
       "      <td>1</td>\n",
       "      <td>...</td>\n",
       "      <td>0</td>\n",
       "      <td>0</td>\n",
       "      <td>0</td>\n",
       "      <td>0</td>\n",
       "      <td>1</td>\n",
       "      <td>0</td>\n",
       "      <td>0</td>\n",
       "      <td>0</td>\n",
       "      <td>0</td>\n",
       "      <td>1</td>\n",
       "    </tr>\n",
       "    <tr>\n",
       "      <th>4</th>\n",
       "      <td>89.3</td>\n",
       "      <td>51.3</td>\n",
       "      <td>102.2</td>\n",
       "      <td>9.6</td>\n",
       "      <td>11.4</td>\n",
       "      <td>99</td>\n",
       "      <td>1.8</td>\n",
       "      <td>0.0</td>\n",
       "      <td>0.0</td>\n",
       "      <td>0</td>\n",
       "      <td>...</td>\n",
       "      <td>0</td>\n",
       "      <td>0</td>\n",
       "      <td>0</td>\n",
       "      <td>0</td>\n",
       "      <td>1</td>\n",
       "      <td>0</td>\n",
       "      <td>0</td>\n",
       "      <td>0</td>\n",
       "      <td>0</td>\n",
       "      <td>1</td>\n",
       "    </tr>\n",
       "  </tbody>\n",
       "</table>\n",
       "<p>5 rows × 29 columns</p>\n",
       "</div>"
      ],
      "text/plain": [
       "   FFMC   DMC     DC  ISI  temp  RH  wind  rain  area  dayfri  ...  monthfeb  \\\n",
       "0  86.2  26.2   94.3  5.1   8.2  51   6.7   0.0   0.0       1  ...         0   \n",
       "1  90.6  35.4  669.1  6.7  18.0  33   0.9   0.0   0.0       0  ...         0   \n",
       "2  90.6  43.7  686.9  6.7  14.6  33   1.3   0.0   0.0       0  ...         0   \n",
       "3  91.7  33.3   77.5  9.0   8.3  97   4.0   0.2   0.0       1  ...         0   \n",
       "4  89.3  51.3  102.2  9.6  11.4  99   1.8   0.0   0.0       0  ...         0   \n",
       "\n",
       "   monthjan  monthjul  monthjun  monthmar  monthmay  monthnov  monthoct  \\\n",
       "0         0         0         0         1         0         0         0   \n",
       "1         0         0         0         0         0         0         1   \n",
       "2         0         0         0         0         0         0         1   \n",
       "3         0         0         0         1         0         0         0   \n",
       "4         0         0         0         1         0         0         0   \n",
       "\n",
       "   monthsep  size_category  \n",
       "0         0              1  \n",
       "1         0              1  \n",
       "2         0              1  \n",
       "3         0              1  \n",
       "4         0              1  \n",
       "\n",
       "[5 rows x 29 columns]"
      ]
     },
     "execution_count": 8,
     "metadata": {},
     "output_type": "execute_result"
    }
   ],
   "source": [
    "df.head()"
   ]
  },
  {
   "cell_type": "code",
   "execution_count": 9,
   "id": "995830bc",
   "metadata": {},
   "outputs": [
    {
     "data": {
      "text/plain": [
       "1    378\n",
       "0    139\n",
       "Name: size_category, dtype: int64"
      ]
     },
     "execution_count": 9,
     "metadata": {},
     "output_type": "execute_result"
    }
   ],
   "source": [
    "df['size_category'].value_counts()"
   ]
  },
  {
   "cell_type": "code",
   "execution_count": 10,
   "id": "a2d6b8b8",
   "metadata": {},
   "outputs": [
    {
     "data": {
      "text/plain": [
       "FFMC             0\n",
       "DMC              0\n",
       "DC               0\n",
       "ISI              0\n",
       "temp             0\n",
       "RH               0\n",
       "wind             0\n",
       "rain             0\n",
       "area             0\n",
       "dayfri           0\n",
       "daymon           0\n",
       "daysat           0\n",
       "daysun           0\n",
       "daythu           0\n",
       "daytue           0\n",
       "daywed           0\n",
       "monthapr         0\n",
       "monthaug         0\n",
       "monthdec         0\n",
       "monthfeb         0\n",
       "monthjan         0\n",
       "monthjul         0\n",
       "monthjun         0\n",
       "monthmar         0\n",
       "monthmay         0\n",
       "monthnov         0\n",
       "monthoct         0\n",
       "monthsep         0\n",
       "size_category    0\n",
       "dtype: int64"
      ]
     },
     "execution_count": 10,
     "metadata": {},
     "output_type": "execute_result"
    }
   ],
   "source": [
    "df.isnull().sum()"
   ]
  },
  {
   "cell_type": "code",
   "execution_count": 11,
   "id": "b23c271a",
   "metadata": {},
   "outputs": [
    {
     "name": "stdout",
     "output_type": "stream",
     "text": [
      "<class 'pandas.core.frame.DataFrame'>\n",
      "RangeIndex: 517 entries, 0 to 516\n",
      "Data columns (total 29 columns):\n",
      " #   Column         Non-Null Count  Dtype  \n",
      "---  ------         --------------  -----  \n",
      " 0   FFMC           517 non-null    float64\n",
      " 1   DMC            517 non-null    float64\n",
      " 2   DC             517 non-null    float64\n",
      " 3   ISI            517 non-null    float64\n",
      " 4   temp           517 non-null    float64\n",
      " 5   RH             517 non-null    int64  \n",
      " 6   wind           517 non-null    float64\n",
      " 7   rain           517 non-null    float64\n",
      " 8   area           517 non-null    float64\n",
      " 9   dayfri         517 non-null    int64  \n",
      " 10  daymon         517 non-null    int64  \n",
      " 11  daysat         517 non-null    int64  \n",
      " 12  daysun         517 non-null    int64  \n",
      " 13  daythu         517 non-null    int64  \n",
      " 14  daytue         517 non-null    int64  \n",
      " 15  daywed         517 non-null    int64  \n",
      " 16  monthapr       517 non-null    int64  \n",
      " 17  monthaug       517 non-null    int64  \n",
      " 18  monthdec       517 non-null    int64  \n",
      " 19  monthfeb       517 non-null    int64  \n",
      " 20  monthjan       517 non-null    int64  \n",
      " 21  monthjul       517 non-null    int64  \n",
      " 22  monthjun       517 non-null    int64  \n",
      " 23  monthmar       517 non-null    int64  \n",
      " 24  monthmay       517 non-null    int64  \n",
      " 25  monthnov       517 non-null    int64  \n",
      " 26  monthoct       517 non-null    int64  \n",
      " 27  monthsep       517 non-null    int64  \n",
      " 28  size_category  517 non-null    int32  \n",
      "dtypes: float64(8), int32(1), int64(20)\n",
      "memory usage: 115.2 KB\n"
     ]
    }
   ],
   "source": [
    "df.info()"
   ]
  },
  {
   "cell_type": "code",
   "execution_count": 12,
   "id": "fceabc93",
   "metadata": {},
   "outputs": [],
   "source": [
    "#import seaborn as sns\n",
    "#sns.pairplot(data=df, hue = 'size_category')"
   ]
  },
  {
   "cell_type": "code",
   "execution_count": 13,
   "id": "8d34c909",
   "metadata": {},
   "outputs": [],
   "source": [
    "X= df.iloc[:,0:28].values"
   ]
  },
  {
   "cell_type": "code",
   "execution_count": 14,
   "id": "5e38b688",
   "metadata": {},
   "outputs": [
    {
     "data": {
      "text/plain": [
       "array([[ 86.2,  26.2,  94.3, ...,   0. ,   0. ,   0. ],\n",
       "       [ 90.6,  35.4, 669.1, ...,   0. ,   1. ,   0. ],\n",
       "       [ 90.6,  43.7, 686.9, ...,   0. ,   1. ,   0. ],\n",
       "       ...,\n",
       "       [ 81.6,  56.7, 665.6, ...,   0. ,   0. ,   0. ],\n",
       "       [ 94.4, 146. , 614.7, ...,   0. ,   0. ,   0. ],\n",
       "       [ 79.5,   3. , 106.7, ...,   1. ,   0. ,   0. ]])"
      ]
     },
     "execution_count": 14,
     "metadata": {},
     "output_type": "execute_result"
    }
   ],
   "source": [
    "X"
   ]
  },
  {
   "cell_type": "code",
   "execution_count": 15,
   "id": "b28440b5",
   "metadata": {},
   "outputs": [],
   "source": [
    "Y= df['size_category']"
   ]
  },
  {
   "cell_type": "code",
   "execution_count": 16,
   "id": "b462b229",
   "metadata": {},
   "outputs": [],
   "source": [
    "def norm_func(i):\n",
    "    x = (i-i.min())/(i.max()-i.min())\n",
    "    return (x)"
   ]
  },
  {
   "cell_type": "code",
   "execution_count": 17,
   "id": "12cd4b37",
   "metadata": {},
   "outputs": [],
   "source": [
    "X = norm_func(X)"
   ]
  },
  {
   "cell_type": "code",
   "execution_count": 18,
   "id": "dd511739",
   "metadata": {},
   "outputs": [
    {
     "data": {
      "text/plain": [
       "array([[0.07902167, 0.02401819, 0.08644714, ..., 0.        , 0.        ,\n",
       "        0.        ],\n",
       "       [0.08305526, 0.03245206, 0.61338051, ..., 0.        , 0.00091672,\n",
       "        0.        ],\n",
       "       [0.08305526, 0.04006087, 0.62969821, ..., 0.        , 0.00091672,\n",
       "        0.        ],\n",
       "       ...,\n",
       "       [0.07480474, 0.05197829, 0.61017198, ..., 0.        , 0.        ,\n",
       "        0.        ],\n",
       "       [0.08653881, 0.13384181, 0.56351069, ..., 0.        , 0.        ,\n",
       "        0.        ],\n",
       "       [0.07287962, 0.00275017, 0.09781453, ..., 0.00091672, 0.        ,\n",
       "        0.        ]])"
      ]
     },
     "execution_count": 18,
     "metadata": {},
     "output_type": "execute_result"
    }
   ],
   "source": [
    "X"
   ]
  },
  {
   "cell_type": "code",
   "execution_count": 19,
   "id": "3ff75270",
   "metadata": {},
   "outputs": [],
   "source": [
    "from sklearn.model_selection import train_test_split\n",
    "X_train,X_test,y_train,y_test = train_test_split(X,Y,test_size=0.20,random_state=10)"
   ]
  },
  {
   "cell_type": "code",
   "execution_count": 20,
   "id": "d6dd6482",
   "metadata": {},
   "outputs": [],
   "source": [
    "from keras.models import Sequential"
   ]
  },
  {
   "cell_type": "code",
   "execution_count": 21,
   "id": "6d0864f7",
   "metadata": {},
   "outputs": [],
   "source": [
    "from keras.layers import Dense"
   ]
  },
  {
   "cell_type": "code",
   "execution_count": 22,
   "id": "a4e366dd",
   "metadata": {},
   "outputs": [],
   "source": [
    "model = Sequential()\n",
    "model.add(Dense(units=10, input_dim=28 , activation='relu')) #1st layer\n",
    "model.add(Dense(8, activation='relu')) #2nd layer\n",
    "model.add(Dense(1, activation='sigmoid')) #3rd layer or op layer #Output layer"
   ]
  },
  {
   "cell_type": "code",
   "execution_count": 23,
   "id": "a6456270",
   "metadata": {},
   "outputs": [],
   "source": [
    "model.compile(loss='binary_crossentropy', optimizer='adam', metrics=['accuracy'])"
   ]
  },
  {
   "cell_type": "code",
   "execution_count": 24,
   "id": "84d415db",
   "metadata": {},
   "outputs": [
    {
     "name": "stdout",
     "output_type": "stream",
     "text": [
      "Epoch 1/150\n",
      "21/21 [==============================] - 3s 37ms/step - loss: 0.6943 - accuracy: 0.5036 - val_loss: 0.6830 - val_accuracy: 0.7212\n",
      "Epoch 2/150\n",
      "21/21 [==============================] - 0s 6ms/step - loss: 0.6704 - accuracy: 0.7337 - val_loss: 0.6606 - val_accuracy: 0.7212\n",
      "Epoch 3/150\n",
      "21/21 [==============================] - 0s 7ms/step - loss: 0.6516 - accuracy: 0.7337 - val_loss: 0.6436 - val_accuracy: 0.7212\n",
      "Epoch 4/150\n",
      "21/21 [==============================] - 0s 5ms/step - loss: 0.6350 - accuracy: 0.7337 - val_loss: 0.6268 - val_accuracy: 0.7212\n",
      "Epoch 5/150\n",
      "21/21 [==============================] - 0s 6ms/step - loss: 0.6188 - accuracy: 0.7337 - val_loss: 0.6126 - val_accuracy: 0.7212\n",
      "Epoch 6/150\n",
      "21/21 [==============================] - 0s 6ms/step - loss: 0.6046 - accuracy: 0.7337 - val_loss: 0.5999 - val_accuracy: 0.7212\n",
      "Epoch 7/150\n",
      "21/21 [==============================] - 0s 7ms/step - loss: 0.5918 - accuracy: 0.7337 - val_loss: 0.5883 - val_accuracy: 0.7212\n",
      "Epoch 8/150\n",
      "21/21 [==============================] - 0s 6ms/step - loss: 0.5829 - accuracy: 0.7337 - val_loss: 0.5796 - val_accuracy: 0.7212\n",
      "Epoch 9/150\n",
      "21/21 [==============================] - 0s 5ms/step - loss: 0.5763 - accuracy: 0.7337 - val_loss: 0.5769 - val_accuracy: 0.7212\n",
      "Epoch 10/150\n",
      "21/21 [==============================] - 0s 5ms/step - loss: 0.5746 - accuracy: 0.7337 - val_loss: 0.5747 - val_accuracy: 0.7212\n",
      "Epoch 11/150\n",
      "21/21 [==============================] - 0s 4ms/step - loss: 0.5721 - accuracy: 0.7337 - val_loss: 0.5732 - val_accuracy: 0.7212\n",
      "Epoch 12/150\n",
      "21/21 [==============================] - 0s 5ms/step - loss: 0.5702 - accuracy: 0.7337 - val_loss: 0.5720 - val_accuracy: 0.7308\n",
      "Epoch 13/150\n",
      "21/21 [==============================] - 0s 6ms/step - loss: 0.5682 - accuracy: 0.7337 - val_loss: 0.5705 - val_accuracy: 0.7308\n",
      "Epoch 14/150\n",
      "21/21 [==============================] - 0s 7ms/step - loss: 0.5667 - accuracy: 0.7361 - val_loss: 0.5685 - val_accuracy: 0.7308\n",
      "Epoch 15/150\n",
      "21/21 [==============================] - 0s 6ms/step - loss: 0.5648 - accuracy: 0.7361 - val_loss: 0.5668 - val_accuracy: 0.7308\n",
      "Epoch 16/150\n",
      "21/21 [==============================] - 0s 6ms/step - loss: 0.5630 - accuracy: 0.7361 - val_loss: 0.5652 - val_accuracy: 0.7308\n",
      "Epoch 17/150\n",
      "21/21 [==============================] - 0s 6ms/step - loss: 0.5616 - accuracy: 0.7361 - val_loss: 0.5637 - val_accuracy: 0.7308\n",
      "Epoch 18/150\n",
      "21/21 [==============================] - 0s 6ms/step - loss: 0.5601 - accuracy: 0.7361 - val_loss: 0.5619 - val_accuracy: 0.7308\n",
      "Epoch 19/150\n",
      "21/21 [==============================] - 0s 6ms/step - loss: 0.5582 - accuracy: 0.7361 - val_loss: 0.5599 - val_accuracy: 0.7308\n",
      "Epoch 20/150\n",
      "21/21 [==============================] - 0s 6ms/step - loss: 0.5559 - accuracy: 0.7385 - val_loss: 0.5571 - val_accuracy: 0.7308\n",
      "Epoch 21/150\n",
      "21/21 [==============================] - 0s 5ms/step - loss: 0.5531 - accuracy: 0.7385 - val_loss: 0.5553 - val_accuracy: 0.7308\n",
      "Epoch 22/150\n",
      "21/21 [==============================] - 0s 6ms/step - loss: 0.5512 - accuracy: 0.7385 - val_loss: 0.5534 - val_accuracy: 0.7308\n",
      "Epoch 23/150\n",
      "21/21 [==============================] - 0s 4ms/step - loss: 0.5486 - accuracy: 0.7409 - val_loss: 0.5514 - val_accuracy: 0.7308\n",
      "Epoch 24/150\n",
      "21/21 [==============================] - 0s 5ms/step - loss: 0.5459 - accuracy: 0.7458 - val_loss: 0.5491 - val_accuracy: 0.7308\n",
      "Epoch 25/150\n",
      "21/21 [==============================] - 0s 6ms/step - loss: 0.5439 - accuracy: 0.7482 - val_loss: 0.5473 - val_accuracy: 0.7404\n",
      "Epoch 26/150\n",
      "21/21 [==============================] - 0s 7ms/step - loss: 0.5429 - accuracy: 0.7482 - val_loss: 0.5453 - val_accuracy: 0.7404\n",
      "Epoch 27/150\n",
      "21/21 [==============================] - 0s 8ms/step - loss: 0.5391 - accuracy: 0.7482 - val_loss: 0.5430 - val_accuracy: 0.7404\n",
      "Epoch 28/150\n",
      "21/21 [==============================] - 0s 7ms/step - loss: 0.5367 - accuracy: 0.7506 - val_loss: 0.5414 - val_accuracy: 0.7404\n",
      "Epoch 29/150\n",
      "21/21 [==============================] - 0s 7ms/step - loss: 0.5352 - accuracy: 0.7506 - val_loss: 0.5386 - val_accuracy: 0.7404\n",
      "Epoch 30/150\n",
      "21/21 [==============================] - 0s 7ms/step - loss: 0.5316 - accuracy: 0.7506 - val_loss: 0.5366 - val_accuracy: 0.7404\n",
      "Epoch 31/150\n",
      "21/21 [==============================] - 0s 5ms/step - loss: 0.5299 - accuracy: 0.7506 - val_loss: 0.5347 - val_accuracy: 0.7404\n",
      "Epoch 32/150\n",
      "21/21 [==============================] - 0s 6ms/step - loss: 0.5271 - accuracy: 0.7506 - val_loss: 0.5318 - val_accuracy: 0.7404\n",
      "Epoch 33/150\n",
      "21/21 [==============================] - 0s 6ms/step - loss: 0.5246 - accuracy: 0.7579 - val_loss: 0.5292 - val_accuracy: 0.7500\n",
      "Epoch 34/150\n",
      "21/21 [==============================] - 0s 5ms/step - loss: 0.5212 - accuracy: 0.7579 - val_loss: 0.5252 - val_accuracy: 0.7500\n",
      "Epoch 35/150\n",
      "21/21 [==============================] - 0s 5ms/step - loss: 0.5169 - accuracy: 0.7627 - val_loss: 0.5223 - val_accuracy: 0.7596\n",
      "Epoch 36/150\n",
      "21/21 [==============================] - 0s 5ms/step - loss: 0.5136 - accuracy: 0.7627 - val_loss: 0.5180 - val_accuracy: 0.7596\n",
      "Epoch 37/150\n",
      "21/21 [==============================] - 0s 6ms/step - loss: 0.5107 - accuracy: 0.7627 - val_loss: 0.5148 - val_accuracy: 0.7596\n",
      "Epoch 38/150\n",
      "21/21 [==============================] - 0s 8ms/step - loss: 0.5069 - accuracy: 0.7627 - val_loss: 0.5105 - val_accuracy: 0.7596\n",
      "Epoch 39/150\n",
      "21/21 [==============================] - 0s 6ms/step - loss: 0.5039 - accuracy: 0.7627 - val_loss: 0.5062 - val_accuracy: 0.7596\n",
      "Epoch 40/150\n",
      "21/21 [==============================] - 0s 6ms/step - loss: 0.5002 - accuracy: 0.7627 - val_loss: 0.5022 - val_accuracy: 0.7596\n",
      "Epoch 41/150\n",
      "21/21 [==============================] - 0s 6ms/step - loss: 0.4963 - accuracy: 0.7651 - val_loss: 0.4989 - val_accuracy: 0.7692\n",
      "Epoch 42/150\n",
      "21/21 [==============================] - 0s 6ms/step - loss: 0.4928 - accuracy: 0.7676 - val_loss: 0.4941 - val_accuracy: 0.7692\n",
      "Epoch 43/150\n",
      "21/21 [==============================] - 0s 6ms/step - loss: 0.4898 - accuracy: 0.7651 - val_loss: 0.4900 - val_accuracy: 0.7692\n",
      "Epoch 44/150\n",
      "21/21 [==============================] - 0s 6ms/step - loss: 0.4861 - accuracy: 0.7748 - val_loss: 0.4864 - val_accuracy: 0.7692\n",
      "Epoch 45/150\n",
      "21/21 [==============================] - 0s 7ms/step - loss: 0.4815 - accuracy: 0.7700 - val_loss: 0.4809 - val_accuracy: 0.7788\n",
      "Epoch 46/150\n",
      "21/21 [==============================] - 0s 5ms/step - loss: 0.4768 - accuracy: 0.7700 - val_loss: 0.4764 - val_accuracy: 0.7788\n",
      "Epoch 47/150\n",
      "21/21 [==============================] - 0s 6ms/step - loss: 0.4752 - accuracy: 0.7845 - val_loss: 0.4721 - val_accuracy: 0.7788\n",
      "Epoch 48/150\n",
      "21/21 [==============================] - 0s 5ms/step - loss: 0.4748 - accuracy: 0.7772 - val_loss: 0.4698 - val_accuracy: 0.7981\n",
      "Epoch 49/150\n",
      "21/21 [==============================] - 0s 8ms/step - loss: 0.4689 - accuracy: 0.7797 - val_loss: 0.4648 - val_accuracy: 0.7981\n",
      "Epoch 50/150\n",
      "21/21 [==============================] - 0s 8ms/step - loss: 0.4620 - accuracy: 0.7845 - val_loss: 0.4608 - val_accuracy: 0.7981\n",
      "Epoch 51/150\n",
      "21/21 [==============================] - 0s 8ms/step - loss: 0.4586 - accuracy: 0.7869 - val_loss: 0.4542 - val_accuracy: 0.7981\n",
      "Epoch 52/150\n",
      "21/21 [==============================] - 0s 6ms/step - loss: 0.4559 - accuracy: 0.7845 - val_loss: 0.4518 - val_accuracy: 0.8077\n",
      "Epoch 53/150\n",
      "21/21 [==============================] - 0s 6ms/step - loss: 0.4535 - accuracy: 0.7869 - val_loss: 0.4461 - val_accuracy: 0.7981\n",
      "Epoch 54/150\n",
      "21/21 [==============================] - 0s 6ms/step - loss: 0.4466 - accuracy: 0.7918 - val_loss: 0.4455 - val_accuracy: 0.8173\n",
      "Epoch 55/150\n",
      "21/21 [==============================] - 0s 5ms/step - loss: 0.4450 - accuracy: 0.7893 - val_loss: 0.4366 - val_accuracy: 0.8173\n",
      "Epoch 56/150\n",
      "21/21 [==============================] - 0s 6ms/step - loss: 0.4379 - accuracy: 0.7918 - val_loss: 0.4344 - val_accuracy: 0.8173\n",
      "Epoch 57/150\n",
      "21/21 [==============================] - 0s 5ms/step - loss: 0.4338 - accuracy: 0.7942 - val_loss: 0.4290 - val_accuracy: 0.8173\n",
      "Epoch 58/150\n",
      "21/21 [==============================] - 0s 5ms/step - loss: 0.4319 - accuracy: 0.8039 - val_loss: 0.4244 - val_accuracy: 0.8173\n",
      "Epoch 59/150\n",
      "21/21 [==============================] - 0s 4ms/step - loss: 0.4321 - accuracy: 0.8039 - val_loss: 0.4192 - val_accuracy: 0.8173\n",
      "Epoch 60/150\n",
      "21/21 [==============================] - 0s 5ms/step - loss: 0.4243 - accuracy: 0.7990 - val_loss: 0.4167 - val_accuracy: 0.8269\n",
      "Epoch 61/150\n",
      "21/21 [==============================] - 0s 6ms/step - loss: 0.4194 - accuracy: 0.8015 - val_loss: 0.4136 - val_accuracy: 0.8269\n",
      "Epoch 62/150\n",
      "21/21 [==============================] - 0s 6ms/step - loss: 0.4140 - accuracy: 0.8015 - val_loss: 0.4083 - val_accuracy: 0.8269\n",
      "Epoch 63/150\n",
      "21/21 [==============================] - 0s 5ms/step - loss: 0.4101 - accuracy: 0.8184 - val_loss: 0.4012 - val_accuracy: 0.8269\n",
      "Epoch 64/150\n",
      "21/21 [==============================] - 0s 6ms/step - loss: 0.4054 - accuracy: 0.8063 - val_loss: 0.3977 - val_accuracy: 0.8269\n",
      "Epoch 65/150\n",
      "21/21 [==============================] - 0s 6ms/step - loss: 0.4006 - accuracy: 0.8184 - val_loss: 0.3932 - val_accuracy: 0.8269\n",
      "Epoch 66/150\n",
      "21/21 [==============================] - 0s 5ms/step - loss: 0.3965 - accuracy: 0.8232 - val_loss: 0.3887 - val_accuracy: 0.8269\n",
      "Epoch 67/150\n",
      "21/21 [==============================] - 0s 6ms/step - loss: 0.3931 - accuracy: 0.8136 - val_loss: 0.3896 - val_accuracy: 0.8462\n",
      "Epoch 68/150\n",
      "21/21 [==============================] - 0s 6ms/step - loss: 0.3929 - accuracy: 0.8257 - val_loss: 0.3799 - val_accuracy: 0.8269\n",
      "Epoch 69/150\n",
      "21/21 [==============================] - 0s 5ms/step - loss: 0.3823 - accuracy: 0.8257 - val_loss: 0.3823 - val_accuracy: 0.8558\n",
      "Epoch 70/150\n",
      "21/21 [==============================] - 0s 5ms/step - loss: 0.3780 - accuracy: 0.8305 - val_loss: 0.3716 - val_accuracy: 0.8462\n",
      "Epoch 71/150\n",
      "21/21 [==============================] - 0s 4ms/step - loss: 0.3762 - accuracy: 0.8232 - val_loss: 0.3733 - val_accuracy: 0.8558\n",
      "Epoch 72/150\n",
      "21/21 [==============================] - 0s 5ms/step - loss: 0.3717 - accuracy: 0.8426 - val_loss: 0.3634 - val_accuracy: 0.8558\n",
      "Epoch 73/150\n",
      "21/21 [==============================] - 0s 6ms/step - loss: 0.3657 - accuracy: 0.8329 - val_loss: 0.3608 - val_accuracy: 0.8558\n",
      "Epoch 74/150\n",
      "21/21 [==============================] - 0s 6ms/step - loss: 0.3618 - accuracy: 0.8329 - val_loss: 0.3603 - val_accuracy: 0.8654\n",
      "Epoch 75/150\n",
      "21/21 [==============================] - 0s 5ms/step - loss: 0.3581 - accuracy: 0.8378 - val_loss: 0.3533 - val_accuracy: 0.8654\n",
      "Epoch 76/150\n",
      "21/21 [==============================] - 0s 6ms/step - loss: 0.3545 - accuracy: 0.8499 - val_loss: 0.3475 - val_accuracy: 0.8558\n",
      "Epoch 77/150\n",
      "21/21 [==============================] - 0s 6ms/step - loss: 0.3484 - accuracy: 0.8450 - val_loss: 0.3494 - val_accuracy: 0.8654\n",
      "Epoch 78/150\n",
      "21/21 [==============================] - 0s 6ms/step - loss: 0.3464 - accuracy: 0.8547 - val_loss: 0.3399 - val_accuracy: 0.8558\n",
      "Epoch 79/150\n",
      "21/21 [==============================] - 0s 6ms/step - loss: 0.3431 - accuracy: 0.8523 - val_loss: 0.3361 - val_accuracy: 0.8654\n",
      "Epoch 80/150\n",
      "21/21 [==============================] - 0s 5ms/step - loss: 0.3382 - accuracy: 0.8547 - val_loss: 0.3320 - val_accuracy: 0.8654\n",
      "Epoch 81/150\n",
      "21/21 [==============================] - 0s 6ms/step - loss: 0.3340 - accuracy: 0.8402 - val_loss: 0.3385 - val_accuracy: 0.8750\n",
      "Epoch 82/150\n",
      "21/21 [==============================] - 0s 4ms/step - loss: 0.3322 - accuracy: 0.8547 - val_loss: 0.3271 - val_accuracy: 0.8654\n",
      "Epoch 83/150\n",
      "21/21 [==============================] - 0s 5ms/step - loss: 0.3267 - accuracy: 0.8596 - val_loss: 0.3263 - val_accuracy: 0.8654\n",
      "Epoch 84/150\n",
      "21/21 [==============================] - 0s 4ms/step - loss: 0.3214 - accuracy: 0.8668 - val_loss: 0.3231 - val_accuracy: 0.8654\n",
      "Epoch 85/150\n",
      "21/21 [==============================] - 0s 6ms/step - loss: 0.3193 - accuracy: 0.8523 - val_loss: 0.3179 - val_accuracy: 0.8654\n",
      "Epoch 86/150\n",
      "21/21 [==============================] - 0s 6ms/step - loss: 0.3155 - accuracy: 0.8741 - val_loss: 0.3127 - val_accuracy: 0.8654\n",
      "Epoch 87/150\n",
      "21/21 [==============================] - 0s 6ms/step - loss: 0.3114 - accuracy: 0.8571 - val_loss: 0.3202 - val_accuracy: 0.8750\n",
      "Epoch 88/150\n",
      "21/21 [==============================] - 0s 8ms/step - loss: 0.3070 - accuracy: 0.8644 - val_loss: 0.3101 - val_accuracy: 0.8654\n",
      "Epoch 89/150\n",
      "21/21 [==============================] - 0s 6ms/step - loss: 0.3090 - accuracy: 0.8692 - val_loss: 0.3041 - val_accuracy: 0.8654\n",
      "Epoch 90/150\n",
      "21/21 [==============================] - 0s 5ms/step - loss: 0.3000 - accuracy: 0.8717 - val_loss: 0.2992 - val_accuracy: 0.8654\n",
      "Epoch 91/150\n",
      "21/21 [==============================] - 0s 5ms/step - loss: 0.2976 - accuracy: 0.8692 - val_loss: 0.2979 - val_accuracy: 0.8654\n",
      "Epoch 92/150\n",
      "21/21 [==============================] - 0s 5ms/step - loss: 0.2922 - accuracy: 0.8644 - val_loss: 0.2945 - val_accuracy: 0.8654\n",
      "Epoch 93/150\n",
      "21/21 [==============================] - 0s 7ms/step - loss: 0.2875 - accuracy: 0.8741 - val_loss: 0.2913 - val_accuracy: 0.8654\n",
      "Epoch 94/150\n",
      "21/21 [==============================] - 0s 5ms/step - loss: 0.2833 - accuracy: 0.8692 - val_loss: 0.2919 - val_accuracy: 0.8846\n",
      "Epoch 95/150\n",
      "21/21 [==============================] - 0s 5ms/step - loss: 0.2841 - accuracy: 0.8789 - val_loss: 0.2853 - val_accuracy: 0.8654\n",
      "Epoch 96/150\n",
      "21/21 [==============================] - 0s 4ms/step - loss: 0.2783 - accuracy: 0.8765 - val_loss: 0.2847 - val_accuracy: 0.8942\n",
      "Epoch 97/150\n",
      "21/21 [==============================] - 0s 7ms/step - loss: 0.2772 - accuracy: 0.8692 - val_loss: 0.2857 - val_accuracy: 0.8942\n",
      "Epoch 98/150\n",
      "21/21 [==============================] - 0s 6ms/step - loss: 0.2730 - accuracy: 0.8814 - val_loss: 0.2760 - val_accuracy: 0.8654\n",
      "Epoch 99/150\n",
      "21/21 [==============================] - 0s 6ms/step - loss: 0.2668 - accuracy: 0.8765 - val_loss: 0.2812 - val_accuracy: 0.8942\n",
      "Epoch 100/150\n",
      "21/21 [==============================] - 0s 6ms/step - loss: 0.2651 - accuracy: 0.8789 - val_loss: 0.2703 - val_accuracy: 0.8654\n",
      "Epoch 101/150\n",
      "21/21 [==============================] - 0s 6ms/step - loss: 0.2628 - accuracy: 0.8789 - val_loss: 0.2680 - val_accuracy: 0.8846\n",
      "Epoch 102/150\n",
      "21/21 [==============================] - 0s 6ms/step - loss: 0.2590 - accuracy: 0.8741 - val_loss: 0.2650 - val_accuracy: 0.8846\n",
      "Epoch 103/150\n",
      "21/21 [==============================] - 0s 6ms/step - loss: 0.2543 - accuracy: 0.8910 - val_loss: 0.2639 - val_accuracy: 0.8942\n",
      "Epoch 104/150\n",
      "21/21 [==============================] - 0s 6ms/step - loss: 0.2516 - accuracy: 0.8910 - val_loss: 0.2599 - val_accuracy: 0.8846\n",
      "Epoch 105/150\n",
      "21/21 [==============================] - 0s 5ms/step - loss: 0.2515 - accuracy: 0.8862 - val_loss: 0.2581 - val_accuracy: 0.8750\n",
      "Epoch 106/150\n",
      "21/21 [==============================] - 0s 4ms/step - loss: 0.2489 - accuracy: 0.8838 - val_loss: 0.2585 - val_accuracy: 0.8942\n",
      "Epoch 107/150\n",
      "21/21 [==============================] - 0s 5ms/step - loss: 0.2436 - accuracy: 0.8789 - val_loss: 0.2569 - val_accuracy: 0.8942\n",
      "Epoch 108/150\n",
      "21/21 [==============================] - 0s 4ms/step - loss: 0.2439 - accuracy: 0.8910 - val_loss: 0.2556 - val_accuracy: 0.8942\n",
      "Epoch 109/150\n",
      "21/21 [==============================] - 0s 6ms/step - loss: 0.2367 - accuracy: 0.9031 - val_loss: 0.2480 - val_accuracy: 0.8942\n",
      "Epoch 110/150\n",
      "21/21 [==============================] - 0s 5ms/step - loss: 0.2339 - accuracy: 0.8886 - val_loss: 0.2470 - val_accuracy: 0.8942\n",
      "Epoch 111/150\n",
      "21/21 [==============================] - 0s 6ms/step - loss: 0.2324 - accuracy: 0.8959 - val_loss: 0.2466 - val_accuracy: 0.8942\n",
      "Epoch 112/150\n",
      "21/21 [==============================] - 0s 6ms/step - loss: 0.2295 - accuracy: 0.9007 - val_loss: 0.2414 - val_accuracy: 0.8942\n",
      "Epoch 113/150\n",
      "21/21 [==============================] - 0s 7ms/step - loss: 0.2279 - accuracy: 0.9031 - val_loss: 0.2446 - val_accuracy: 0.8942\n",
      "Epoch 114/150\n",
      "21/21 [==============================] - 0s 7ms/step - loss: 0.2237 - accuracy: 0.8983 - val_loss: 0.2367 - val_accuracy: 0.8942\n",
      "Epoch 115/150\n",
      "21/21 [==============================] - 0s 7ms/step - loss: 0.2207 - accuracy: 0.9153 - val_loss: 0.2335 - val_accuracy: 0.8942\n",
      "Epoch 116/150\n",
      "21/21 [==============================] - 0s 7ms/step - loss: 0.2216 - accuracy: 0.9056 - val_loss: 0.2318 - val_accuracy: 0.8942\n",
      "Epoch 117/150\n",
      "21/21 [==============================] - 0s 7ms/step - loss: 0.2136 - accuracy: 0.9056 - val_loss: 0.2366 - val_accuracy: 0.8942\n",
      "Epoch 118/150\n",
      "21/21 [==============================] - 0s 5ms/step - loss: 0.2131 - accuracy: 0.9177 - val_loss: 0.2270 - val_accuracy: 0.8942\n",
      "Epoch 119/150\n",
      "21/21 [==============================] - 0s 4ms/step - loss: 0.2100 - accuracy: 0.9080 - val_loss: 0.2235 - val_accuracy: 0.8942\n",
      "Epoch 120/150\n",
      "21/21 [==============================] - 0s 5ms/step - loss: 0.2082 - accuracy: 0.9177 - val_loss: 0.2226 - val_accuracy: 0.8942\n",
      "Epoch 121/150\n",
      "21/21 [==============================] - 0s 6ms/step - loss: 0.2069 - accuracy: 0.9080 - val_loss: 0.2240 - val_accuracy: 0.8942\n",
      "Epoch 122/150\n",
      "21/21 [==============================] - 0s 6ms/step - loss: 0.2015 - accuracy: 0.9177 - val_loss: 0.2178 - val_accuracy: 0.8942\n",
      "Epoch 123/150\n",
      "21/21 [==============================] - 0s 6ms/step - loss: 0.1989 - accuracy: 0.9249 - val_loss: 0.2179 - val_accuracy: 0.8942\n",
      "Epoch 124/150\n",
      "21/21 [==============================] - 0s 6ms/step - loss: 0.1964 - accuracy: 0.9225 - val_loss: 0.2139 - val_accuracy: 0.8942\n",
      "Epoch 125/150\n",
      "21/21 [==============================] - 0s 6ms/step - loss: 0.1978 - accuracy: 0.9201 - val_loss: 0.2118 - val_accuracy: 0.8942\n",
      "Epoch 126/150\n",
      "21/21 [==============================] - 0s 8ms/step - loss: 0.1916 - accuracy: 0.9225 - val_loss: 0.2101 - val_accuracy: 0.8942\n",
      "Epoch 127/150\n",
      "21/21 [==============================] - 0s 6ms/step - loss: 0.1895 - accuracy: 0.9201 - val_loss: 0.2076 - val_accuracy: 0.8942\n",
      "Epoch 128/150\n",
      "21/21 [==============================] - 0s 7ms/step - loss: 0.1876 - accuracy: 0.9201 - val_loss: 0.2100 - val_accuracy: 0.9135\n",
      "Epoch 129/150\n",
      "21/21 [==============================] - 0s 7ms/step - loss: 0.1848 - accuracy: 0.9201 - val_loss: 0.2037 - val_accuracy: 0.8942\n",
      "Epoch 130/150\n",
      "21/21 [==============================] - 0s 5ms/step - loss: 0.1827 - accuracy: 0.9274 - val_loss: 0.2036 - val_accuracy: 0.9135\n",
      "Epoch 131/150\n",
      "21/21 [==============================] - 0s 5ms/step - loss: 0.1815 - accuracy: 0.9322 - val_loss: 0.2029 - val_accuracy: 0.9231\n",
      "Epoch 132/150\n",
      "21/21 [==============================] - 0s 4ms/step - loss: 0.1785 - accuracy: 0.9322 - val_loss: 0.2005 - val_accuracy: 0.9135\n",
      "Epoch 133/150\n",
      "21/21 [==============================] - 0s 7ms/step - loss: 0.1770 - accuracy: 0.9395 - val_loss: 0.1962 - val_accuracy: 0.9135\n",
      "Epoch 134/150\n",
      "21/21 [==============================] - 0s 6ms/step - loss: 0.1757 - accuracy: 0.9370 - val_loss: 0.1947 - val_accuracy: 0.8942\n",
      "Epoch 135/150\n",
      "21/21 [==============================] - 0s 7ms/step - loss: 0.1725 - accuracy: 0.9419 - val_loss: 0.1922 - val_accuracy: 0.9135\n",
      "Epoch 136/150\n",
      "21/21 [==============================] - 0s 7ms/step - loss: 0.1698 - accuracy: 0.9370 - val_loss: 0.1908 - val_accuracy: 0.9038\n",
      "Epoch 137/150\n",
      "21/21 [==============================] - 0s 6ms/step - loss: 0.1679 - accuracy: 0.9322 - val_loss: 0.1915 - val_accuracy: 0.9231\n",
      "Epoch 138/150\n",
      "21/21 [==============================] - 0s 6ms/step - loss: 0.1667 - accuracy: 0.9467 - val_loss: 0.1895 - val_accuracy: 0.9231\n",
      "Epoch 139/150\n",
      "21/21 [==============================] - 0s 6ms/step - loss: 0.1645 - accuracy: 0.9443 - val_loss: 0.1855 - val_accuracy: 0.8942\n",
      "Epoch 140/150\n",
      "21/21 [==============================] - 0s 5ms/step - loss: 0.1632 - accuracy: 0.9395 - val_loss: 0.1831 - val_accuracy: 0.9231\n",
      "Epoch 141/150\n",
      "21/21 [==============================] - 0s 5ms/step - loss: 0.1633 - accuracy: 0.9395 - val_loss: 0.1941 - val_accuracy: 0.9327\n",
      "Epoch 142/150\n",
      "21/21 [==============================] - 0s 5ms/step - loss: 0.1603 - accuracy: 0.9467 - val_loss: 0.1795 - val_accuracy: 0.9231\n",
      "Epoch 143/150\n",
      "21/21 [==============================] - 0s 5ms/step - loss: 0.1562 - accuracy: 0.9492 - val_loss: 0.1809 - val_accuracy: 0.9327\n",
      "Epoch 144/150\n",
      "21/21 [==============================] - 0s 5ms/step - loss: 0.1556 - accuracy: 0.9419 - val_loss: 0.1768 - val_accuracy: 0.9038\n",
      "Epoch 145/150\n",
      "21/21 [==============================] - 0s 9ms/step - loss: 0.1532 - accuracy: 0.9564 - val_loss: 0.1761 - val_accuracy: 0.9327\n",
      "Epoch 146/150\n",
      "21/21 [==============================] - 0s 6ms/step - loss: 0.1557 - accuracy: 0.9395 - val_loss: 0.1904 - val_accuracy: 0.9615\n",
      "Epoch 147/150\n",
      "21/21 [==============================] - 0s 5ms/step - loss: 0.1544 - accuracy: 0.9540 - val_loss: 0.1728 - val_accuracy: 0.9327\n",
      "Epoch 148/150\n",
      "21/21 [==============================] - 0s 6ms/step - loss: 0.1501 - accuracy: 0.9467 - val_loss: 0.1686 - val_accuracy: 0.9231\n",
      "Epoch 149/150\n",
      "21/21 [==============================] - 0s 5ms/step - loss: 0.1470 - accuracy: 0.9564 - val_loss: 0.1673 - val_accuracy: 0.9231\n",
      "Epoch 150/150\n",
      "21/21 [==============================] - 0s 6ms/step - loss: 0.1443 - accuracy: 0.9492 - val_loss: 0.1657 - val_accuracy: 0.9327\n"
     ]
    }
   ],
   "source": [
    "result = model.fit(X_train, y_train, validation_data=(X_test,y_test), epochs=150, batch_size=20)"
   ]
  },
  {
   "cell_type": "code",
   "execution_count": 25,
   "id": "c824a4cf",
   "metadata": {},
   "outputs": [
    {
     "name": "stdout",
     "output_type": "stream",
     "text": [
      "4/4 [==============================] - 0s 3ms/step - loss: 0.1657 - accuracy: 0.9327\n"
     ]
    }
   ],
   "source": [
    "scores = model.evaluate(X_test,y_test)"
   ]
  },
  {
   "cell_type": "code",
   "execution_count": 26,
   "id": "c8349906",
   "metadata": {},
   "outputs": [],
   "source": [
    "key = result.history.keys()"
   ]
  },
  {
   "cell_type": "code",
   "execution_count": 27,
   "id": "f91d197e",
   "metadata": {},
   "outputs": [
    {
     "data": {
      "text/plain": [
       "dict_keys(['loss', 'accuracy', 'val_loss', 'val_accuracy'])"
      ]
     },
     "execution_count": 27,
     "metadata": {},
     "output_type": "execute_result"
    }
   ],
   "source": [
    "key"
   ]
  },
  {
   "cell_type": "code",
   "execution_count": 28,
   "id": "722d96e9",
   "metadata": {},
   "outputs": [
    {
     "name": "stdout",
     "output_type": "stream",
     "text": [
      "Accuracy is  0.932692289352417\n"
     ]
    }
   ],
   "source": [
    "print(\"Accuracy is \", scores[1])"
   ]
  },
  {
   "cell_type": "code",
   "execution_count": 29,
   "id": "a9b33b72",
   "metadata": {},
   "outputs": [
    {
     "data": {
      "image/png": "[encoded data removed]",
      "text/plain": [
       "<Figure size 432x288 with 1 Axes>"
      ]
     },
     "metadata": {
      "needs_background": "light"
     },
     "output_type": "display_data"
    }
   ],
   "source": [
    "import matplotlib.pyplot as plt\n",
    "plt.plot(result.history['accuracy'])\n",
    "plt.plot(result.history['val_accuracy'])\n",
    "plt.title('model accuracy')\n",
    "plt.ylabel('accuracy')\n",
    "plt.xlabel('epoch')\n",
    "plt.legend(['train', 'test'], loc='upper left')\n",
    "plt.show()"
   ]
  },
  {
   "cell_type": "code",
   "execution_count": 30,
   "id": "252741e7",
   "metadata": {},
   "outputs": [
    {
     "data": {
      "image/png": "[encoded data removed]",
      "text/plain": [
       "<Figure size 432x288 with 1 Axes>"
      ]
     },
     "metadata": {
      "needs_background": "light"
     },
     "output_type": "display_data"
    }
   ],
   "source": [
    "# summarize history for loss\n",
    "plt.plot(result.history['loss'])\n",
    "plt.plot(result.history['val_loss'])\n",
    "plt.title('model loss')\n",
    "plt.ylabel('loss')\n",
    "plt.xlabel('epoch')\n",
    "plt.legend(['train', 'test'], loc='upper left')\n",
    "plt.show()"
   ]
  },
  {
   "cell_type": "markdown",
   "id": "b7829bc3",
   "metadata": {},
   "source": [
    "Hyper Parameter tunning"
   ]
  },
  {
   "cell_type": "code",
   "execution_count": 31,
   "id": "e36a2c9c",
   "metadata": {},
   "outputs": [],
   "source": [
    "# Importing the necessary packages\n",
    "from sklearn.model_selection import GridSearchCV, KFold\n",
    "from keras.wrappers.scikit_learn import KerasClassifier\n",
    "from keras.optimizers import Adam"
   ]
  },
  {
   "cell_type": "code",
   "execution_count": 32,
   "id": "7f54b7ab",
   "metadata": {},
   "outputs": [],
   "source": [
    "def create_model(activation,init,neuron1,neuron2):\n",
    "    model = Sequential()\n",
    "    model.add(Dense(neuron1, input_dim=28,kernel_initializer=init , activation=activation)) #1st layer\n",
    "    model.add(Dense(neuron2,kernel_initializer=init, activation=activation)) #2nd layer\n",
    "    model.add(Dense(1, activation='sigmoid')) #3rd layer or op layer #Output layer\n",
    "\n",
    "    adam=Adam(lr=0.01) #eta\n",
    "    model.compile(loss='binary_crossentropy', optimizer='adam', metrics=['accuracy'])\n",
    "    \n",
    "    return model"
   ]
  },
  {
   "cell_type": "code",
   "execution_count": 33,
   "id": "cdca11c5",
   "metadata": {},
   "outputs": [],
   "source": [
    "kfold = KFold(n_splits =10)"
   ]
  },
  {
   "cell_type": "code",
   "execution_count": 34,
   "id": "6b106dfe",
   "metadata": {},
   "outputs": [
    {
     "name": "stderr",
     "output_type": "stream",
     "text": [
      "C:\\Users\\Shamikarani\\AppData\\Local\\Temp\\ipykernel_3252\\4096538497.py:1: DeprecationWarning: KerasClassifier is deprecated, use Sci-Keras (https://github.com/adriangb/scikeras) instead. See https://www.adriangb.com/scikeras/stable/migration.html for help migrating.\n",
      "  model = KerasClassifier(build_fn=create_model,verbose =0)\n"
     ]
    }
   ],
   "source": [
    "model = KerasClassifier(build_fn=create_model,verbose =0)"
   ]
  },
  {
   "cell_type": "code",
   "execution_count": 35,
   "id": "a9f015f4",
   "metadata": {},
   "outputs": [
    {
     "data": {
      "text/plain": [
       "{'activation': ['relu', 'tanh'],\n",
       " 'init': ['uniform', 'normal'],\n",
       " 'neuron1': [10, 12, 8],\n",
       " 'neuron2': [7, 8, 9]}"
      ]
     },
     "execution_count": 35,
     "metadata": {},
     "output_type": "execute_result"
    }
   ],
   "source": [
    "activation =['relu','tanh']\n",
    "init = ['uniform','normal']\n",
    "neuron1 = [10,12,8]\n",
    "neuron2 = [7,8,9]\n",
    "\n",
    "param = dict(activation=activation,init=init,neuron1=neuron1,neuron2=neuron2)\n",
    "param"
   ]
  },
  {
   "cell_type": "code",
   "execution_count": 36,
   "id": "2fe898d1",
   "metadata": {},
   "outputs": [],
   "source": [
    "grid_cv = GridSearchCV(estimator=model,param_grid=param,verbose =10,cv=kfold)"
   ]
  },
  {
   "cell_type": "code",
   "execution_count": 37,
   "id": "9d21832b",
   "metadata": {},
   "outputs": [
    {
     "name": "stdout",
     "output_type": "stream",
     "text": [
      "Fitting 10 folds for each of 36 candidates, totalling 360 fits\n",
      "[CV 1/10; 1/36] START activation=relu, init=uniform, neuron1=10, neuron2=7......\n"
     ]
    },
    {
     "name": "stderr",
     "output_type": "stream",
     "text": [
      "C:\\Users\\Shamikarani\\anaconda3\\lib\\site-packages\\keras\\optimizers\\optimizer_v2\\adam.py:114: UserWarning: The `lr` argument is deprecated, use `learning_rate` instead.\n",
      "  super().__init__(name, **kwargs)\n"
     ]
    },
    {
     "name": "stdout",
     "output_type": "stream",
     "text": [
      "[CV 1/10; 1/36] END activation=relu, init=uniform, neuron1=10, neuron2=7;, score=0.714 total time=   2.5s\n",
      "[CV 2/10; 1/36] START activation=relu, init=uniform, neuron1=10, neuron2=7......\n"
     ]
    },
    {
     "name": "stderr",
     "output_type": "stream",
     "text": [
      "C:\\Users\\Shamikarani\\anaconda3\\lib\\site-packages\\keras\\optimizers\\optimizer_v2\\adam.py:114: UserWarning: The `lr` argument is deprecated, use `learning_rate` instead.\n",
      "  super().__init__(name, **kwargs)\n"
     ]
    },
    {
     "name": "stdout",
     "output_type": "stream",
     "text": [
      "[CV 2/10; 1/36] END activation=relu, init=uniform, neuron1=10, neuron2=7;, score=0.714 total time=   2.8s\n",
      "[CV 3/10; 1/36] START activation=relu, init=uniform, neuron1=10, neuron2=7......\n"
     ]
    },
    {
     "name": "stderr",
     "output_type": "stream",
     "text": [
      "C:\\Users\\Shamikarani\\anaconda3\\lib\\site-packages\\keras\\optimizers\\optimizer_v2\\adam.py:114: UserWarning: The `lr` argument is deprecated, use `learning_rate` instead.\n",
      "  super().__init__(name, **kwargs)\n"
     ]
    },
    {
     "name": "stdout",
     "output_type": "stream",
     "text": [
      "[CV 3/10; 1/36] END activation=relu, init=uniform, neuron1=10, neuron2=7;, score=0.643 total time=   2.9s\n",
      "[CV 4/10; 1/36] START activation=relu, init=uniform, neuron1=10, neuron2=7......\n"
     ]
    },
    {
     "name": "stderr",
     "output_type": "stream",
     "text": [
      "C:\\Users\\Shamikarani\\anaconda3\\lib\\site-packages\\keras\\optimizers\\optimizer_v2\\adam.py:114: UserWarning: The `lr` argument is deprecated, use `learning_rate` instead.\n",
      "  super().__init__(name, **kwargs)\n"
     ]
    },
    {
     "name": "stdout",
     "output_type": "stream",
     "text": [
      "WARNING:tensorflow:5 out of the last 911 calls to <function Model.make_test_function.<locals>.test_function at 0x000002267C57A160> triggered tf.function retracing. Tracing is expensive and the excessive number of tracings could be due to (1) creating @tf.function repeatedly in a loop, (2) passing tensors with different shapes, (3) passing Python objects instead of tensors. For (1), please define your @tf.function outside of the loop. For (2), @tf.function has reduce_retracing=True option that can avoid unnecessary retracing. For (3), please refer to https://www.tensorflow.org/guide/function#controlling_retracing and https://www.tensorflow.org/api_docs/python/tf/function for  more details.\n",
      "[CV 4/10; 1/36] END activation=relu, init=uniform, neuron1=10, neuron2=7;, score=0.707 total time=   2.6s\n",
      "[CV 5/10; 1/36] START activation=relu, init=uniform, neuron1=10, neuron2=7......\n"
     ]
    },
    {
     "name": "stderr",
     "output_type": "stream",
     "text": [
      "C:\\Users\\Shamikarani\\anaconda3\\lib\\site-packages\\keras\\optimizers\\optimizer_v2\\adam.py:114: UserWarning: The `lr` argument is deprecated, use `learning_rate` instead.\n",
      "  super().__init__(name, **kwargs)\n"
     ]
    },
    {
     "name": "stdout",
     "output_type": "stream",
     "text": [
      "WARNING:tensorflow:6 out of the last 913 calls to <function Model.make_test_function.<locals>.test_function at 0x000002267C451820> triggered tf.function retracing. Tracing is expensive and the excessive number of tracings could be due to (1) creating @tf.function repeatedly in a loop, (2) passing tensors with different shapes, (3) passing Python objects instead of tensors. For (1), please define your @tf.function outside of the loop. For (2), @tf.function has reduce_retracing=True option that can avoid unnecessary retracing. For (3), please refer to https://www.tensorflow.org/guide/function#controlling_retracing and https://www.tensorflow.org/api_docs/python/tf/function for  more details.\n",
      "[CV 5/10; 1/36] END activation=relu, init=uniform, neuron1=10, neuron2=7;, score=0.707 total time=   2.4s\n",
      "[CV 6/10; 1/36] START activation=relu, init=uniform, neuron1=10, neuron2=7......\n"
     ]
    },
    {
     "name": "stderr",
     "output_type": "stream",
     "text": [
      "C:\\Users\\Shamikarani\\anaconda3\\lib\\site-packages\\keras\\optimizers\\optimizer_v2\\adam.py:114: UserWarning: The `lr` argument is deprecated, use `learning_rate` instead.\n",
      "  super().__init__(name, **kwargs)\n"
     ]
    },
    {
     "name": "stdout",
     "output_type": "stream",
     "text": [
      "[CV 6/10; 1/36] END activation=relu, init=uniform, neuron1=10, neuron2=7;, score=0.805 total time=   2.1s\n",
      "[CV 7/10; 1/36] START activation=relu, init=uniform, neuron1=10, neuron2=7......\n"
     ]
    },
    {
     "name": "stderr",
     "output_type": "stream",
     "text": [
      "C:\\Users\\Shamikarani\\anaconda3\\lib\\site-packages\\keras\\optimizers\\optimizer_v2\\adam.py:114: UserWarning: The `lr` argument is deprecated, use `learning_rate` instead.\n",
      "  super().__init__(name, **kwargs)\n"
     ]
    },
    {
     "name": "stdout",
     "output_type": "stream",
     "text": [
      "[CV 7/10; 1/36] END activation=relu, init=uniform, neuron1=10, neuron2=7;, score=0.756 total time=   2.4s\n",
      "[CV 8/10; 1/36] START activation=relu, init=uniform, neuron1=10, neuron2=7......\n"
     ]
    },
    {
     "name": "stderr",
     "output_type": "stream",
     "text": [
      "C:\\Users\\Shamikarani\\anaconda3\\lib\\site-packages\\keras\\optimizers\\optimizer_v2\\adam.py:114: UserWarning: The `lr` argument is deprecated, use `learning_rate` instead.\n",
      "  super().__init__(name, **kwargs)\n"
     ]
    },
    {
     "name": "stdout",
     "output_type": "stream",
     "text": [
      "[CV 8/10; 1/36] END activation=relu, init=uniform, neuron1=10, neuron2=7;, score=0.707 total time=   2.2s\n",
      "[CV 9/10; 1/36] START activation=relu, init=uniform, neuron1=10, neuron2=7......\n"
     ]
    },
    {
     "name": "stderr",
     "output_type": "stream",
     "text": [
      "C:\\Users\\Shamikarani\\anaconda3\\lib\\site-packages\\keras\\optimizers\\optimizer_v2\\adam.py:114: UserWarning: The `lr` argument is deprecated, use `learning_rate` instead.\n",
      "  super().__init__(name, **kwargs)\n"
     ]
    },
    {
     "name": "stdout",
     "output_type": "stream",
     "text": [
      "[CV 9/10; 1/36] END activation=relu, init=uniform, neuron1=10, neuron2=7;, score=0.854 total time=   2.0s\n",
      "[CV 10/10; 1/36] START activation=relu, init=uniform, neuron1=10, neuron2=7.....\n"
     ]
    },
    {
     "name": "stderr",
     "output_type": "stream",
     "text": [
      "C:\\Users\\Shamikarani\\anaconda3\\lib\\site-packages\\keras\\optimizers\\optimizer_v2\\adam.py:114: UserWarning: The `lr` argument is deprecated, use `learning_rate` instead.\n",
      "  super().__init__(name, **kwargs)\n"
     ]
    },
    {
     "name": "stdout",
     "output_type": "stream",
     "text": [
      "[CV 10/10; 1/36] END activation=relu, init=uniform, neuron1=10, neuron2=7;, score=0.732 total time=   2.5s\n",
      "[CV 1/10; 2/36] START activation=relu, init=uniform, neuron1=10, neuron2=8......\n"
     ]
    },
    {
     "name": "stderr",
     "output_type": "stream",
     "text": [
      "C:\\Users\\Shamikarani\\anaconda3\\lib\\site-packages\\keras\\optimizers\\optimizer_v2\\adam.py:114: UserWarning: The `lr` argument is deprecated, use `learning_rate` instead.\n",
      "  super().__init__(name, **kwargs)\n"
     ]
    },
    {
     "name": "stdout",
     "output_type": "stream",
     "text": [
      "[CV 1/10; 2/36] END activation=relu, init=uniform, neuron1=10, neuron2=8;, score=0.714 total time=   2.1s\n",
      "[CV 2/10; 2/36] START activation=relu, init=uniform, neuron1=10, neuron2=8......\n"
     ]
    },
    {
     "name": "stderr",
     "output_type": "stream",
     "text": [
      "C:\\Users\\Shamikarani\\anaconda3\\lib\\site-packages\\keras\\optimizers\\optimizer_v2\\adam.py:114: UserWarning: The `lr` argument is deprecated, use `learning_rate` instead.\n",
      "  super().__init__(name, **kwargs)\n"
     ]
    },
    {
     "name": "stdout",
     "output_type": "stream",
     "text": [
      "[CV 2/10; 2/36] END activation=relu, init=uniform, neuron1=10, neuron2=8;, score=0.714 total time=   2.4s\n",
      "[CV 3/10; 2/36] START activation=relu, init=uniform, neuron1=10, neuron2=8......\n"
     ]
    },
    {
     "name": "stderr",
     "output_type": "stream",
     "text": [
      "C:\\Users\\Shamikarani\\anaconda3\\lib\\site-packages\\keras\\optimizers\\optimizer_v2\\adam.py:114: UserWarning: The `lr` argument is deprecated, use `learning_rate` instead.\n",
      "  super().__init__(name, **kwargs)\n"
     ]
    },
    {
     "name": "stdout",
     "output_type": "stream",
     "text": [
      "[CV 3/10; 2/36] END activation=relu, init=uniform, neuron1=10, neuron2=8;, score=0.643 total time=   2.4s\n",
      "[CV 4/10; 2/36] START activation=relu, init=uniform, neuron1=10, neuron2=8......\n"
     ]
    },
    {
     "name": "stderr",
     "output_type": "stream",
     "text": [
      "C:\\Users\\Shamikarani\\anaconda3\\lib\\site-packages\\keras\\optimizers\\optimizer_v2\\adam.py:114: UserWarning: The `lr` argument is deprecated, use `learning_rate` instead.\n",
      "  super().__init__(name, **kwargs)\n"
     ]
    },
    {
     "name": "stdout",
     "output_type": "stream",
     "text": [
      "[CV 4/10; 2/36] END activation=relu, init=uniform, neuron1=10, neuron2=8;, score=0.707 total time=   2.8s\n",
      "[CV 5/10; 2/36] START activation=relu, init=uniform, neuron1=10, neuron2=8......\n"
     ]
    },
    {
     "name": "stderr",
     "output_type": "stream",
     "text": [
      "C:\\Users\\Shamikarani\\anaconda3\\lib\\site-packages\\keras\\optimizers\\optimizer_v2\\adam.py:114: UserWarning: The `lr` argument is deprecated, use `learning_rate` instead.\n",
      "  super().__init__(name, **kwargs)\n"
     ]
    },
    {
     "name": "stdout",
     "output_type": "stream",
     "text": [
      "[CV 5/10; 2/36] END activation=relu, init=uniform, neuron1=10, neuron2=8;, score=0.707 total time=   2.1s\n",
      "[CV 6/10; 2/36] START activation=relu, init=uniform, neuron1=10, neuron2=8......\n"
     ]
    },
    {
     "name": "stderr",
     "output_type": "stream",
     "text": [
      "C:\\Users\\Shamikarani\\anaconda3\\lib\\site-packages\\keras\\optimizers\\optimizer_v2\\adam.py:114: UserWarning: The `lr` argument is deprecated, use `learning_rate` instead.\n",
      "  super().__init__(name, **kwargs)\n"
     ]
    },
    {
     "name": "stdout",
     "output_type": "stream",
     "text": [
      "[CV 6/10; 2/36] END activation=relu, init=uniform, neuron1=10, neuron2=8;, score=0.805 total time=   2.3s\n",
      "[CV 7/10; 2/36] START activation=relu, init=uniform, neuron1=10, neuron2=8......\n"
     ]
    },
    {
     "name": "stderr",
     "output_type": "stream",
     "text": [
      "C:\\Users\\Shamikarani\\anaconda3\\lib\\site-packages\\keras\\optimizers\\optimizer_v2\\adam.py:114: UserWarning: The `lr` argument is deprecated, use `learning_rate` instead.\n",
      "  super().__init__(name, **kwargs)\n"
     ]
    },
    {
     "name": "stdout",
     "output_type": "stream",
     "text": [
      "[CV 7/10; 2/36] END activation=relu, init=uniform, neuron1=10, neuron2=8;, score=0.756 total time=   2.0s\n",
      "[CV 8/10; 2/36] START activation=relu, init=uniform, neuron1=10, neuron2=8......\n"
     ]
    },
    {
     "name": "stderr",
     "output_type": "stream",
     "text": [
      "C:\\Users\\Shamikarani\\anaconda3\\lib\\site-packages\\keras\\optimizers\\optimizer_v2\\adam.py:114: UserWarning: The `lr` argument is deprecated, use `learning_rate` instead.\n",
      "  super().__init__(name, **kwargs)\n"
     ]
    },
    {
     "name": "stdout",
     "output_type": "stream",
     "text": [
      "[CV 8/10; 2/36] END activation=relu, init=uniform, neuron1=10, neuron2=8;, score=0.707 total time=   2.0s\n",
      "[CV 9/10; 2/36] START activation=relu, init=uniform, neuron1=10, neuron2=8......\n"
     ]
    },
    {
     "name": "stderr",
     "output_type": "stream",
     "text": [
      "C:\\Users\\Shamikarani\\anaconda3\\lib\\site-packages\\keras\\optimizers\\optimizer_v2\\adam.py:114: UserWarning: The `lr` argument is deprecated, use `learning_rate` instead.\n",
      "  super().__init__(name, **kwargs)\n"
     ]
    },
    {
     "name": "stdout",
     "output_type": "stream",
     "text": [
      "[CV 9/10; 2/36] END activation=relu, init=uniform, neuron1=10, neuron2=8;, score=0.854 total time=   2.2s\n",
      "[CV 10/10; 2/36] START activation=relu, init=uniform, neuron1=10, neuron2=8.....\n"
     ]
    },
    {
     "name": "stderr",
     "output_type": "stream",
     "text": [
      "C:\\Users\\Shamikarani\\anaconda3\\lib\\site-packages\\keras\\optimizers\\optimizer_v2\\adam.py:114: UserWarning: The `lr` argument is deprecated, use `learning_rate` instead.\n",
      "  super().__init__(name, **kwargs)\n"
     ]
    },
    {
     "name": "stdout",
     "output_type": "stream",
     "text": [
      "[CV 10/10; 2/36] END activation=relu, init=uniform, neuron1=10, neuron2=8;, score=0.732 total time=   2.5s\n",
      "[CV 1/10; 3/36] START activation=relu, init=uniform, neuron1=10, neuron2=9......\n"
     ]
    },
    {
     "name": "stderr",
     "output_type": "stream",
     "text": [
      "C:\\Users\\Shamikarani\\anaconda3\\lib\\site-packages\\keras\\optimizers\\optimizer_v2\\adam.py:114: UserWarning: The `lr` argument is deprecated, use `learning_rate` instead.\n",
      "  super().__init__(name, **kwargs)\n"
     ]
    },
    {
     "name": "stdout",
     "output_type": "stream",
     "text": [
      "[CV 1/10; 3/36] END activation=relu, init=uniform, neuron1=10, neuron2=9;, score=0.714 total time=   3.0s\n",
      "[CV 2/10; 3/36] START activation=relu, init=uniform, neuron1=10, neuron2=9......\n"
     ]
    },
    {
     "name": "stderr",
     "output_type": "stream",
     "text": [
      "C:\\Users\\Shamikarani\\anaconda3\\lib\\site-packages\\keras\\optimizers\\optimizer_v2\\adam.py:114: UserWarning: The `lr` argument is deprecated, use `learning_rate` instead.\n",
      "  super().__init__(name, **kwargs)\n"
     ]
    },
    {
     "name": "stdout",
     "output_type": "stream",
     "text": [
      "[CV 2/10; 3/36] END activation=relu, init=uniform, neuron1=10, neuron2=9;, score=0.714 total time=   2.3s\n",
      "[CV 3/10; 3/36] START activation=relu, init=uniform, neuron1=10, neuron2=9......\n"
     ]
    },
    {
     "name": "stderr",
     "output_type": "stream",
     "text": [
      "C:\\Users\\Shamikarani\\anaconda3\\lib\\site-packages\\keras\\optimizers\\optimizer_v2\\adam.py:114: UserWarning: The `lr` argument is deprecated, use `learning_rate` instead.\n",
      "  super().__init__(name, **kwargs)\n"
     ]
    },
    {
     "name": "stdout",
     "output_type": "stream",
     "text": [
      "[CV 3/10; 3/36] END activation=relu, init=uniform, neuron1=10, neuron2=9;, score=0.643 total time=   2.2s\n",
      "[CV 4/10; 3/36] START activation=relu, init=uniform, neuron1=10, neuron2=9......\n"
     ]
    },
    {
     "name": "stderr",
     "output_type": "stream",
     "text": [
      "C:\\Users\\Shamikarani\\anaconda3\\lib\\site-packages\\keras\\optimizers\\optimizer_v2\\adam.py:114: UserWarning: The `lr` argument is deprecated, use `learning_rate` instead.\n",
      "  super().__init__(name, **kwargs)\n"
     ]
    },
    {
     "name": "stdout",
     "output_type": "stream",
     "text": [
      "[CV 4/10; 3/36] END activation=relu, init=uniform, neuron1=10, neuron2=9;, score=0.707 total time=   2.8s\n",
      "[CV 5/10; 3/36] START activation=relu, init=uniform, neuron1=10, neuron2=9......\n"
     ]
    },
    {
     "name": "stderr",
     "output_type": "stream",
     "text": [
      "C:\\Users\\Shamikarani\\anaconda3\\lib\\site-packages\\keras\\optimizers\\optimizer_v2\\adam.py:114: UserWarning: The `lr` argument is deprecated, use `learning_rate` instead.\n",
      "  super().__init__(name, **kwargs)\n"
     ]
    },
    {
     "name": "stdout",
     "output_type": "stream",
     "text": [
      "[CV 5/10; 3/36] END activation=relu, init=uniform, neuron1=10, neuron2=9;, score=0.707 total time=   3.1s\n",
      "[CV 6/10; 3/36] START activation=relu, init=uniform, neuron1=10, neuron2=9......\n"
     ]
    },
    {
     "name": "stderr",
     "output_type": "stream",
     "text": [
      "C:\\Users\\Shamikarani\\anaconda3\\lib\\site-packages\\keras\\optimizers\\optimizer_v2\\adam.py:114: UserWarning: The `lr` argument is deprecated, use `learning_rate` instead.\n",
      "  super().__init__(name, **kwargs)\n"
     ]
    },
    {
     "name": "stdout",
     "output_type": "stream",
     "text": [
      "[CV 6/10; 3/36] END activation=relu, init=uniform, neuron1=10, neuron2=9;, score=0.805 total time=   3.2s\n",
      "[CV 7/10; 3/36] START activation=relu, init=uniform, neuron1=10, neuron2=9......\n"
     ]
    },
    {
     "name": "stderr",
     "output_type": "stream",
     "text": [
      "C:\\Users\\Shamikarani\\anaconda3\\lib\\site-packages\\keras\\optimizers\\optimizer_v2\\adam.py:114: UserWarning: The `lr` argument is deprecated, use `learning_rate` instead.\n",
      "  super().__init__(name, **kwargs)\n"
     ]
    },
    {
     "name": "stdout",
     "output_type": "stream",
     "text": [
      "[CV 7/10; 3/36] END activation=relu, init=uniform, neuron1=10, neuron2=9;, score=0.756 total time=   2.4s\n",
      "[CV 8/10; 3/36] START activation=relu, init=uniform, neuron1=10, neuron2=9......\n"
     ]
    },
    {
     "name": "stderr",
     "output_type": "stream",
     "text": [
      "C:\\Users\\Shamikarani\\anaconda3\\lib\\site-packages\\keras\\optimizers\\optimizer_v2\\adam.py:114: UserWarning: The `lr` argument is deprecated, use `learning_rate` instead.\n",
      "  super().__init__(name, **kwargs)\n"
     ]
    },
    {
     "name": "stdout",
     "output_type": "stream",
     "text": [
      "[CV 8/10; 3/36] END activation=relu, init=uniform, neuron1=10, neuron2=9;, score=0.707 total time=   2.0s\n",
      "[CV 9/10; 3/36] START activation=relu, init=uniform, neuron1=10, neuron2=9......\n"
     ]
    },
    {
     "name": "stderr",
     "output_type": "stream",
     "text": [
      "C:\\Users\\Shamikarani\\anaconda3\\lib\\site-packages\\keras\\optimizers\\optimizer_v2\\adam.py:114: UserWarning: The `lr` argument is deprecated, use `learning_rate` instead.\n",
      "  super().__init__(name, **kwargs)\n"
     ]
    },
    {
     "name": "stdout",
     "output_type": "stream",
     "text": [
      "[CV 9/10; 3/36] END activation=relu, init=uniform, neuron1=10, neuron2=9;, score=0.854 total time=   2.4s\n",
      "[CV 10/10; 3/36] START activation=relu, init=uniform, neuron1=10, neuron2=9.....\n"
     ]
    },
    {
     "name": "stderr",
     "output_type": "stream",
     "text": [
      "C:\\Users\\Shamikarani\\anaconda3\\lib\\site-packages\\keras\\optimizers\\optimizer_v2\\adam.py:114: UserWarning: The `lr` argument is deprecated, use `learning_rate` instead.\n",
      "  super().__init__(name, **kwargs)\n"
     ]
    },
    {
     "name": "stdout",
     "output_type": "stream",
     "text": [
      "[CV 10/10; 3/36] END activation=relu, init=uniform, neuron1=10, neuron2=9;, score=0.732 total time=   2.0s\n",
      "[CV 1/10; 4/36] START activation=relu, init=uniform, neuron1=12, neuron2=7......\n"
     ]
    },
    {
     "name": "stderr",
     "output_type": "stream",
     "text": [
      "C:\\Users\\Shamikarani\\anaconda3\\lib\\site-packages\\keras\\optimizers\\optimizer_v2\\adam.py:114: UserWarning: The `lr` argument is deprecated, use `learning_rate` instead.\n",
      "  super().__init__(name, **kwargs)\n"
     ]
    },
    {
     "name": "stdout",
     "output_type": "stream",
     "text": [
      "[CV 1/10; 4/36] END activation=relu, init=uniform, neuron1=12, neuron2=7;, score=0.714 total time=   2.1s\n",
      "[CV 2/10; 4/36] START activation=relu, init=uniform, neuron1=12, neuron2=7......\n"
     ]
    },
    {
     "name": "stderr",
     "output_type": "stream",
     "text": [
      "C:\\Users\\Shamikarani\\anaconda3\\lib\\site-packages\\keras\\optimizers\\optimizer_v2\\adam.py:114: UserWarning: The `lr` argument is deprecated, use `learning_rate` instead.\n",
      "  super().__init__(name, **kwargs)\n"
     ]
    },
    {
     "name": "stdout",
     "output_type": "stream",
     "text": [
      "[CV 2/10; 4/36] END activation=relu, init=uniform, neuron1=12, neuron2=7;, score=0.714 total time=   1.9s\n",
      "[CV 3/10; 4/36] START activation=relu, init=uniform, neuron1=12, neuron2=7......\n"
     ]
    },
    {
     "name": "stderr",
     "output_type": "stream",
     "text": [
      "C:\\Users\\Shamikarani\\anaconda3\\lib\\site-packages\\keras\\optimizers\\optimizer_v2\\adam.py:114: UserWarning: The `lr` argument is deprecated, use `learning_rate` instead.\n",
      "  super().__init__(name, **kwargs)\n"
     ]
    },
    {
     "name": "stdout",
     "output_type": "stream",
     "text": [
      "[CV 3/10; 4/36] END activation=relu, init=uniform, neuron1=12, neuron2=7;, score=0.643 total time=   2.3s\n",
      "[CV 4/10; 4/36] START activation=relu, init=uniform, neuron1=12, neuron2=7......\n"
     ]
    },
    {
     "name": "stderr",
     "output_type": "stream",
     "text": [
      "C:\\Users\\Shamikarani\\anaconda3\\lib\\site-packages\\keras\\optimizers\\optimizer_v2\\adam.py:114: UserWarning: The `lr` argument is deprecated, use `learning_rate` instead.\n",
      "  super().__init__(name, **kwargs)\n"
     ]
    },
    {
     "name": "stdout",
     "output_type": "stream",
     "text": [
      "[CV 4/10; 4/36] END activation=relu, init=uniform, neuron1=12, neuron2=7;, score=0.707 total time=   3.6s\n",
      "[CV 5/10; 4/36] START activation=relu, init=uniform, neuron1=12, neuron2=7......\n"
     ]
    },
    {
     "name": "stderr",
     "output_type": "stream",
     "text": [
      "C:\\Users\\Shamikarani\\anaconda3\\lib\\site-packages\\keras\\optimizers\\optimizer_v2\\adam.py:114: UserWarning: The `lr` argument is deprecated, use `learning_rate` instead.\n",
      "  super().__init__(name, **kwargs)\n"
     ]
    },
    {
     "name": "stdout",
     "output_type": "stream",
     "text": [
      "[CV 5/10; 4/36] END activation=relu, init=uniform, neuron1=12, neuron2=7;, score=0.707 total time=   2.5s\n",
      "[CV 6/10; 4/36] START activation=relu, init=uniform, neuron1=12, neuron2=7......\n"
     ]
    },
    {
     "name": "stderr",
     "output_type": "stream",
     "text": [
      "C:\\Users\\Shamikarani\\anaconda3\\lib\\site-packages\\keras\\optimizers\\optimizer_v2\\adam.py:114: UserWarning: The `lr` argument is deprecated, use `learning_rate` instead.\n",
      "  super().__init__(name, **kwargs)\n"
     ]
    },
    {
     "name": "stdout",
     "output_type": "stream",
     "text": [
      "[CV 6/10; 4/36] END activation=relu, init=uniform, neuron1=12, neuron2=7;, score=0.805 total time=   2.3s\n",
      "[CV 7/10; 4/36] START activation=relu, init=uniform, neuron1=12, neuron2=7......\n"
     ]
    },
    {
     "name": "stderr",
     "output_type": "stream",
     "text": [
      "C:\\Users\\Shamikarani\\anaconda3\\lib\\site-packages\\keras\\optimizers\\optimizer_v2\\adam.py:114: UserWarning: The `lr` argument is deprecated, use `learning_rate` instead.\n",
      "  super().__init__(name, **kwargs)\n"
     ]
    },
    {
     "name": "stdout",
     "output_type": "stream",
     "text": [
      "[CV 7/10; 4/36] END activation=relu, init=uniform, neuron1=12, neuron2=7;, score=0.756 total time=   2.4s\n",
      "[CV 8/10; 4/36] START activation=relu, init=uniform, neuron1=12, neuron2=7......\n"
     ]
    },
    {
     "name": "stderr",
     "output_type": "stream",
     "text": [
      "C:\\Users\\Shamikarani\\anaconda3\\lib\\site-packages\\keras\\optimizers\\optimizer_v2\\adam.py:114: UserWarning: The `lr` argument is deprecated, use `learning_rate` instead.\n",
      "  super().__init__(name, **kwargs)\n"
     ]
    },
    {
     "name": "stdout",
     "output_type": "stream",
     "text": [
      "[CV 8/10; 4/36] END activation=relu, init=uniform, neuron1=12, neuron2=7;, score=0.707 total time=   2.1s\n",
      "[CV 9/10; 4/36] START activation=relu, init=uniform, neuron1=12, neuron2=7......\n"
     ]
    },
    {
     "name": "stderr",
     "output_type": "stream",
     "text": [
      "C:\\Users\\Shamikarani\\anaconda3\\lib\\site-packages\\keras\\optimizers\\optimizer_v2\\adam.py:114: UserWarning: The `lr` argument is deprecated, use `learning_rate` instead.\n",
      "  super().__init__(name, **kwargs)\n"
     ]
    },
    {
     "name": "stdout",
     "output_type": "stream",
     "text": [
      "[CV 9/10; 4/36] END activation=relu, init=uniform, neuron1=12, neuron2=7;, score=0.854 total time=   2.7s\n",
      "[CV 10/10; 4/36] START activation=relu, init=uniform, neuron1=12, neuron2=7.....\n"
     ]
    },
    {
     "name": "stderr",
     "output_type": "stream",
     "text": [
      "C:\\Users\\Shamikarani\\anaconda3\\lib\\site-packages\\keras\\optimizers\\optimizer_v2\\adam.py:114: UserWarning: The `lr` argument is deprecated, use `learning_rate` instead.\n",
      "  super().__init__(name, **kwargs)\n"
     ]
    },
    {
     "name": "stdout",
     "output_type": "stream",
     "text": [
      "[CV 10/10; 4/36] END activation=relu, init=uniform, neuron1=12, neuron2=7;, score=0.732 total time=   2.8s\n",
      "[CV 1/10; 5/36] START activation=relu, init=uniform, neuron1=12, neuron2=8......\n"
     ]
    },
    {
     "name": "stderr",
     "output_type": "stream",
     "text": [
      "C:\\Users\\Shamikarani\\anaconda3\\lib\\site-packages\\keras\\optimizers\\optimizer_v2\\adam.py:114: UserWarning: The `lr` argument is deprecated, use `learning_rate` instead.\n",
      "  super().__init__(name, **kwargs)\n"
     ]
    },
    {
     "name": "stdout",
     "output_type": "stream",
     "text": [
      "[CV 1/10; 5/36] END activation=relu, init=uniform, neuron1=12, neuron2=8;, score=0.714 total time=   3.5s\n",
      "[CV 2/10; 5/36] START activation=relu, init=uniform, neuron1=12, neuron2=8......\n"
     ]
    },
    {
     "name": "stderr",
     "output_type": "stream",
     "text": [
      "C:\\Users\\Shamikarani\\anaconda3\\lib\\site-packages\\keras\\optimizers\\optimizer_v2\\adam.py:114: UserWarning: The `lr` argument is deprecated, use `learning_rate` instead.\n",
      "  super().__init__(name, **kwargs)\n"
     ]
    },
    {
     "name": "stdout",
     "output_type": "stream",
     "text": [
      "[CV 2/10; 5/36] END activation=relu, init=uniform, neuron1=12, neuron2=8;, score=0.714 total time=   2.7s\n",
      "[CV 3/10; 5/36] START activation=relu, init=uniform, neuron1=12, neuron2=8......\n"
     ]
    },
    {
     "name": "stderr",
     "output_type": "stream",
     "text": [
      "C:\\Users\\Shamikarani\\anaconda3\\lib\\site-packages\\keras\\optimizers\\optimizer_v2\\adam.py:114: UserWarning: The `lr` argument is deprecated, use `learning_rate` instead.\n",
      "  super().__init__(name, **kwargs)\n"
     ]
    },
    {
     "name": "stdout",
     "output_type": "stream",
     "text": [
      "[CV 3/10; 5/36] END activation=relu, init=uniform, neuron1=12, neuron2=8;, score=0.643 total time=   2.5s\n",
      "[CV 4/10; 5/36] START activation=relu, init=uniform, neuron1=12, neuron2=8......\n"
     ]
    },
    {
     "name": "stderr",
     "output_type": "stream",
     "text": [
      "C:\\Users\\Shamikarani\\anaconda3\\lib\\site-packages\\keras\\optimizers\\optimizer_v2\\adam.py:114: UserWarning: The `lr` argument is deprecated, use `learning_rate` instead.\n",
      "  super().__init__(name, **kwargs)\n"
     ]
    },
    {
     "name": "stdout",
     "output_type": "stream",
     "text": [
      "[CV 4/10; 5/36] END activation=relu, init=uniform, neuron1=12, neuron2=8;, score=0.707 total time=   3.9s\n",
      "[CV 5/10; 5/36] START activation=relu, init=uniform, neuron1=12, neuron2=8......\n"
     ]
    },
    {
     "name": "stderr",
     "output_type": "stream",
     "text": [
      "C:\\Users\\Shamikarani\\anaconda3\\lib\\site-packages\\keras\\optimizers\\optimizer_v2\\adam.py:114: UserWarning: The `lr` argument is deprecated, use `learning_rate` instead.\n",
      "  super().__init__(name, **kwargs)\n"
     ]
    },
    {
     "name": "stdout",
     "output_type": "stream",
     "text": [
      "[CV 5/10; 5/36] END activation=relu, init=uniform, neuron1=12, neuron2=8;, score=0.707 total time=   2.5s\n",
      "[CV 6/10; 5/36] START activation=relu, init=uniform, neuron1=12, neuron2=8......\n"
     ]
    },
    {
     "name": "stderr",
     "output_type": "stream",
     "text": [
      "C:\\Users\\Shamikarani\\anaconda3\\lib\\site-packages\\keras\\optimizers\\optimizer_v2\\adam.py:114: UserWarning: The `lr` argument is deprecated, use `learning_rate` instead.\n",
      "  super().__init__(name, **kwargs)\n"
     ]
    },
    {
     "name": "stdout",
     "output_type": "stream",
     "text": [
      "[CV 6/10; 5/36] END activation=relu, init=uniform, neuron1=12, neuron2=8;, score=0.805 total time=   2.4s\n",
      "[CV 7/10; 5/36] START activation=relu, init=uniform, neuron1=12, neuron2=8......\n"
     ]
    },
    {
     "name": "stderr",
     "output_type": "stream",
     "text": [
      "C:\\Users\\Shamikarani\\anaconda3\\lib\\site-packages\\keras\\optimizers\\optimizer_v2\\adam.py:114: UserWarning: The `lr` argument is deprecated, use `learning_rate` instead.\n",
      "  super().__init__(name, **kwargs)\n"
     ]
    },
    {
     "name": "stdout",
     "output_type": "stream",
     "text": [
      "[CV 7/10; 5/36] END activation=relu, init=uniform, neuron1=12, neuron2=8;, score=0.756 total time=   2.6s\n",
      "[CV 8/10; 5/36] START activation=relu, init=uniform, neuron1=12, neuron2=8......\n"
     ]
    },
    {
     "name": "stderr",
     "output_type": "stream",
     "text": [
      "C:\\Users\\Shamikarani\\anaconda3\\lib\\site-packages\\keras\\optimizers\\optimizer_v2\\adam.py:114: UserWarning: The `lr` argument is deprecated, use `learning_rate` instead.\n",
      "  super().__init__(name, **kwargs)\n"
     ]
    },
    {
     "name": "stdout",
     "output_type": "stream",
     "text": [
      "[CV 8/10; 5/36] END activation=relu, init=uniform, neuron1=12, neuron2=8;, score=0.707 total time=   2.5s\n",
      "[CV 9/10; 5/36] START activation=relu, init=uniform, neuron1=12, neuron2=8......\n"
     ]
    },
    {
     "name": "stderr",
     "output_type": "stream",
     "text": [
      "C:\\Users\\Shamikarani\\anaconda3\\lib\\site-packages\\keras\\optimizers\\optimizer_v2\\adam.py:114: UserWarning: The `lr` argument is deprecated, use `learning_rate` instead.\n",
      "  super().__init__(name, **kwargs)\n"
     ]
    },
    {
     "name": "stdout",
     "output_type": "stream",
     "text": [
      "[CV 9/10; 5/36] END activation=relu, init=uniform, neuron1=12, neuron2=8;, score=0.854 total time=   2.4s\n",
      "[CV 10/10; 5/36] START activation=relu, init=uniform, neuron1=12, neuron2=8.....\n"
     ]
    },
    {
     "name": "stderr",
     "output_type": "stream",
     "text": [
      "C:\\Users\\Shamikarani\\anaconda3\\lib\\site-packages\\keras\\optimizers\\optimizer_v2\\adam.py:114: UserWarning: The `lr` argument is deprecated, use `learning_rate` instead.\n",
      "  super().__init__(name, **kwargs)\n"
     ]
    },
    {
     "name": "stdout",
     "output_type": "stream",
     "text": [
      "[CV 10/10; 5/36] END activation=relu, init=uniform, neuron1=12, neuron2=8;, score=0.732 total time=   2.7s\n",
      "[CV 1/10; 6/36] START activation=relu, init=uniform, neuron1=12, neuron2=9......\n"
     ]
    },
    {
     "name": "stderr",
     "output_type": "stream",
     "text": [
      "C:\\Users\\Shamikarani\\anaconda3\\lib\\site-packages\\keras\\optimizers\\optimizer_v2\\adam.py:114: UserWarning: The `lr` argument is deprecated, use `learning_rate` instead.\n",
      "  super().__init__(name, **kwargs)\n"
     ]
    },
    {
     "name": "stdout",
     "output_type": "stream",
     "text": [
      "[CV 1/10; 6/36] END activation=relu, init=uniform, neuron1=12, neuron2=9;, score=0.714 total time=   1.8s\n",
      "[CV 2/10; 6/36] START activation=relu, init=uniform, neuron1=12, neuron2=9......\n"
     ]
    },
    {
     "name": "stderr",
     "output_type": "stream",
     "text": [
      "C:\\Users\\Shamikarani\\anaconda3\\lib\\site-packages\\keras\\optimizers\\optimizer_v2\\adam.py:114: UserWarning: The `lr` argument is deprecated, use `learning_rate` instead.\n",
      "  super().__init__(name, **kwargs)\n"
     ]
    },
    {
     "name": "stdout",
     "output_type": "stream",
     "text": [
      "[CV 2/10; 6/36] END activation=relu, init=uniform, neuron1=12, neuron2=9;, score=0.714 total time=   1.2s\n",
      "[CV 3/10; 6/36] START activation=relu, init=uniform, neuron1=12, neuron2=9......\n"
     ]
    },
    {
     "name": "stderr",
     "output_type": "stream",
     "text": [
      "C:\\Users\\Shamikarani\\anaconda3\\lib\\site-packages\\keras\\optimizers\\optimizer_v2\\adam.py:114: UserWarning: The `lr` argument is deprecated, use `learning_rate` instead.\n",
      "  super().__init__(name, **kwargs)\n"
     ]
    },
    {
     "name": "stdout",
     "output_type": "stream",
     "text": [
      "[CV 3/10; 6/36] END activation=relu, init=uniform, neuron1=12, neuron2=9;, score=0.643 total time=   1.7s\n",
      "[CV 4/10; 6/36] START activation=relu, init=uniform, neuron1=12, neuron2=9......\n"
     ]
    },
    {
     "name": "stderr",
     "output_type": "stream",
     "text": [
      "C:\\Users\\Shamikarani\\anaconda3\\lib\\site-packages\\keras\\optimizers\\optimizer_v2\\adam.py:114: UserWarning: The `lr` argument is deprecated, use `learning_rate` instead.\n",
      "  super().__init__(name, **kwargs)\n"
     ]
    },
    {
     "name": "stdout",
     "output_type": "stream",
     "text": [
      "[CV 4/10; 6/36] END activation=relu, init=uniform, neuron1=12, neuron2=9;, score=0.707 total time=   2.0s\n",
      "[CV 5/10; 6/36] START activation=relu, init=uniform, neuron1=12, neuron2=9......\n"
     ]
    },
    {
     "name": "stderr",
     "output_type": "stream",
     "text": [
      "C:\\Users\\Shamikarani\\anaconda3\\lib\\site-packages\\keras\\optimizers\\optimizer_v2\\adam.py:114: UserWarning: The `lr` argument is deprecated, use `learning_rate` instead.\n",
      "  super().__init__(name, **kwargs)\n"
     ]
    },
    {
     "name": "stdout",
     "output_type": "stream",
     "text": [
      "[CV 5/10; 6/36] END activation=relu, init=uniform, neuron1=12, neuron2=9;, score=0.707 total time=   1.6s\n",
      "[CV 6/10; 6/36] START activation=relu, init=uniform, neuron1=12, neuron2=9......\n"
     ]
    },
    {
     "name": "stderr",
     "output_type": "stream",
     "text": [
      "C:\\Users\\Shamikarani\\anaconda3\\lib\\site-packages\\keras\\optimizers\\optimizer_v2\\adam.py:114: UserWarning: The `lr` argument is deprecated, use `learning_rate` instead.\n",
      "  super().__init__(name, **kwargs)\n"
     ]
    },
    {
     "name": "stdout",
     "output_type": "stream",
     "text": [
      "[CV 6/10; 6/36] END activation=relu, init=uniform, neuron1=12, neuron2=9;, score=0.805 total time=   1.2s\n",
      "[CV 7/10; 6/36] START activation=relu, init=uniform, neuron1=12, neuron2=9......\n"
     ]
    },
    {
     "name": "stderr",
     "output_type": "stream",
     "text": [
      "C:\\Users\\Shamikarani\\anaconda3\\lib\\site-packages\\keras\\optimizers\\optimizer_v2\\adam.py:114: UserWarning: The `lr` argument is deprecated, use `learning_rate` instead.\n",
      "  super().__init__(name, **kwargs)\n"
     ]
    },
    {
     "name": "stdout",
     "output_type": "stream",
     "text": [
      "[CV 7/10; 6/36] END activation=relu, init=uniform, neuron1=12, neuron2=9;, score=0.756 total time=   1.3s\n",
      "[CV 8/10; 6/36] START activation=relu, init=uniform, neuron1=12, neuron2=9......\n"
     ]
    },
    {
     "name": "stderr",
     "output_type": "stream",
     "text": [
      "C:\\Users\\Shamikarani\\anaconda3\\lib\\site-packages\\keras\\optimizers\\optimizer_v2\\adam.py:114: UserWarning: The `lr` argument is deprecated, use `learning_rate` instead.\n",
      "  super().__init__(name, **kwargs)\n"
     ]
    },
    {
     "name": "stdout",
     "output_type": "stream",
     "text": [
      "[CV 8/10; 6/36] END activation=relu, init=uniform, neuron1=12, neuron2=9;, score=0.707 total time=   1.2s\n",
      "[CV 9/10; 6/36] START activation=relu, init=uniform, neuron1=12, neuron2=9......\n"
     ]
    },
    {
     "name": "stderr",
     "output_type": "stream",
     "text": [
      "C:\\Users\\Shamikarani\\anaconda3\\lib\\site-packages\\keras\\optimizers\\optimizer_v2\\adam.py:114: UserWarning: The `lr` argument is deprecated, use `learning_rate` instead.\n",
      "  super().__init__(name, **kwargs)\n"
     ]
    },
    {
     "name": "stdout",
     "output_type": "stream",
     "text": [
      "[CV 9/10; 6/36] END activation=relu, init=uniform, neuron1=12, neuron2=9;, score=0.854 total time=   1.3s\n",
      "[CV 10/10; 6/36] START activation=relu, init=uniform, neuron1=12, neuron2=9.....\n"
     ]
    },
    {
     "name": "stderr",
     "output_type": "stream",
     "text": [
      "C:\\Users\\Shamikarani\\anaconda3\\lib\\site-packages\\keras\\optimizers\\optimizer_v2\\adam.py:114: UserWarning: The `lr` argument is deprecated, use `learning_rate` instead.\n",
      "  super().__init__(name, **kwargs)\n"
     ]
    },
    {
     "name": "stdout",
     "output_type": "stream",
     "text": [
      "[CV 10/10; 6/36] END activation=relu, init=uniform, neuron1=12, neuron2=9;, score=0.732 total time=   1.3s\n",
      "[CV 1/10; 7/36] START activation=relu, init=uniform, neuron1=8, neuron2=7.......\n"
     ]
    },
    {
     "name": "stderr",
     "output_type": "stream",
     "text": [
      "C:\\Users\\Shamikarani\\anaconda3\\lib\\site-packages\\keras\\optimizers\\optimizer_v2\\adam.py:114: UserWarning: The `lr` argument is deprecated, use `learning_rate` instead.\n",
      "  super().__init__(name, **kwargs)\n"
     ]
    },
    {
     "name": "stdout",
     "output_type": "stream",
     "text": [
      "[CV 1/10; 7/36] END activation=relu, init=uniform, neuron1=8, neuron2=7;, score=0.714 total time=   1.2s\n",
      "[CV 2/10; 7/36] START activation=relu, init=uniform, neuron1=8, neuron2=7.......\n"
     ]
    },
    {
     "name": "stderr",
     "output_type": "stream",
     "text": [
      "C:\\Users\\Shamikarani\\anaconda3\\lib\\site-packages\\keras\\optimizers\\optimizer_v2\\adam.py:114: UserWarning: The `lr` argument is deprecated, use `learning_rate` instead.\n",
      "  super().__init__(name, **kwargs)\n"
     ]
    },
    {
     "name": "stdout",
     "output_type": "stream",
     "text": [
      "[CV 2/10; 7/36] END activation=relu, init=uniform, neuron1=8, neuron2=7;, score=0.714 total time=   1.2s\n",
      "[CV 3/10; 7/36] START activation=relu, init=uniform, neuron1=8, neuron2=7.......\n"
     ]
    },
    {
     "name": "stderr",
     "output_type": "stream",
     "text": [
      "C:\\Users\\Shamikarani\\anaconda3\\lib\\site-packages\\keras\\optimizers\\optimizer_v2\\adam.py:114: UserWarning: The `lr` argument is deprecated, use `learning_rate` instead.\n",
      "  super().__init__(name, **kwargs)\n"
     ]
    },
    {
     "name": "stdout",
     "output_type": "stream",
     "text": [
      "[CV 3/10; 7/36] END activation=relu, init=uniform, neuron1=8, neuron2=7;, score=0.643 total time=   1.6s\n",
      "[CV 4/10; 7/36] START activation=relu, init=uniform, neuron1=8, neuron2=7.......\n"
     ]
    },
    {
     "name": "stderr",
     "output_type": "stream",
     "text": [
      "C:\\Users\\Shamikarani\\anaconda3\\lib\\site-packages\\keras\\optimizers\\optimizer_v2\\adam.py:114: UserWarning: The `lr` argument is deprecated, use `learning_rate` instead.\n",
      "  super().__init__(name, **kwargs)\n"
     ]
    },
    {
     "name": "stdout",
     "output_type": "stream",
     "text": [
      "[CV 4/10; 7/36] END activation=relu, init=uniform, neuron1=8, neuron2=7;, score=0.707 total time=   1.2s\n",
      "[CV 5/10; 7/36] START activation=relu, init=uniform, neuron1=8, neuron2=7.......\n"
     ]
    },
    {
     "name": "stderr",
     "output_type": "stream",
     "text": [
      "C:\\Users\\Shamikarani\\anaconda3\\lib\\site-packages\\keras\\optimizers\\optimizer_v2\\adam.py:114: UserWarning: The `lr` argument is deprecated, use `learning_rate` instead.\n",
      "  super().__init__(name, **kwargs)\n"
     ]
    },
    {
     "name": "stdout",
     "output_type": "stream",
     "text": [
      "[CV 5/10; 7/36] END activation=relu, init=uniform, neuron1=8, neuron2=7;, score=0.707 total time=   1.4s\n",
      "[CV 6/10; 7/36] START activation=relu, init=uniform, neuron1=8, neuron2=7.......\n"
     ]
    },
    {
     "name": "stderr",
     "output_type": "stream",
     "text": [
      "C:\\Users\\Shamikarani\\anaconda3\\lib\\site-packages\\keras\\optimizers\\optimizer_v2\\adam.py:114: UserWarning: The `lr` argument is deprecated, use `learning_rate` instead.\n",
      "  super().__init__(name, **kwargs)\n"
     ]
    },
    {
     "name": "stdout",
     "output_type": "stream",
     "text": [
      "[CV 6/10; 7/36] END activation=relu, init=uniform, neuron1=8, neuron2=7;, score=0.805 total time=   1.3s\n",
      "[CV 7/10; 7/36] START activation=relu, init=uniform, neuron1=8, neuron2=7.......\n"
     ]
    },
    {
     "name": "stderr",
     "output_type": "stream",
     "text": [
      "C:\\Users\\Shamikarani\\anaconda3\\lib\\site-packages\\keras\\optimizers\\optimizer_v2\\adam.py:114: UserWarning: The `lr` argument is deprecated, use `learning_rate` instead.\n",
      "  super().__init__(name, **kwargs)\n"
     ]
    },
    {
     "name": "stdout",
     "output_type": "stream",
     "text": [
      "[CV 7/10; 7/36] END activation=relu, init=uniform, neuron1=8, neuron2=7;, score=0.756 total time=   1.8s\n",
      "[CV 8/10; 7/36] START activation=relu, init=uniform, neuron1=8, neuron2=7.......\n"
     ]
    },
    {
     "name": "stderr",
     "output_type": "stream",
     "text": [
      "C:\\Users\\Shamikarani\\anaconda3\\lib\\site-packages\\keras\\optimizers\\optimizer_v2\\adam.py:114: UserWarning: The `lr` argument is deprecated, use `learning_rate` instead.\n",
      "  super().__init__(name, **kwargs)\n"
     ]
    },
    {
     "name": "stdout",
     "output_type": "stream",
     "text": [
      "[CV 8/10; 7/36] END activation=relu, init=uniform, neuron1=8, neuron2=7;, score=0.707 total time=   1.3s\n",
      "[CV 9/10; 7/36] START activation=relu, init=uniform, neuron1=8, neuron2=7.......\n"
     ]
    },
    {
     "name": "stderr",
     "output_type": "stream",
     "text": [
      "C:\\Users\\Shamikarani\\anaconda3\\lib\\site-packages\\keras\\optimizers\\optimizer_v2\\adam.py:114: UserWarning: The `lr` argument is deprecated, use `learning_rate` instead.\n",
      "  super().__init__(name, **kwargs)\n"
     ]
    },
    {
     "name": "stdout",
     "output_type": "stream",
     "text": [
      "[CV 9/10; 7/36] END activation=relu, init=uniform, neuron1=8, neuron2=7;, score=0.854 total time=   1.2s\n",
      "[CV 10/10; 7/36] START activation=relu, init=uniform, neuron1=8, neuron2=7......\n"
     ]
    },
    {
     "name": "stderr",
     "output_type": "stream",
     "text": [
      "C:\\Users\\Shamikarani\\anaconda3\\lib\\site-packages\\keras\\optimizers\\optimizer_v2\\adam.py:114: UserWarning: The `lr` argument is deprecated, use `learning_rate` instead.\n",
      "  super().__init__(name, **kwargs)\n"
     ]
    },
    {
     "name": "stdout",
     "output_type": "stream",
     "text": [
      "[CV 10/10; 7/36] END activation=relu, init=uniform, neuron1=8, neuron2=7;, score=0.732 total time=   1.4s\n",
      "[CV 1/10; 8/36] START activation=relu, init=uniform, neuron1=8, neuron2=8.......\n"
     ]
    },
    {
     "name": "stderr",
     "output_type": "stream",
     "text": [
      "C:\\Users\\Shamikarani\\anaconda3\\lib\\site-packages\\keras\\optimizers\\optimizer_v2\\adam.py:114: UserWarning: The `lr` argument is deprecated, use `learning_rate` instead.\n",
      "  super().__init__(name, **kwargs)\n"
     ]
    },
    {
     "name": "stdout",
     "output_type": "stream",
     "text": [
      "[CV 1/10; 8/36] END activation=relu, init=uniform, neuron1=8, neuron2=8;, score=0.714 total time=   1.4s\n",
      "[CV 2/10; 8/36] START activation=relu, init=uniform, neuron1=8, neuron2=8.......\n"
     ]
    },
    {
     "name": "stderr",
     "output_type": "stream",
     "text": [
      "C:\\Users\\Shamikarani\\anaconda3\\lib\\site-packages\\keras\\optimizers\\optimizer_v2\\adam.py:114: UserWarning: The `lr` argument is deprecated, use `learning_rate` instead.\n",
      "  super().__init__(name, **kwargs)\n"
     ]
    },
    {
     "name": "stdout",
     "output_type": "stream",
     "text": [
      "[CV 2/10; 8/36] END activation=relu, init=uniform, neuron1=8, neuron2=8;, score=0.714 total time=   1.3s\n",
      "[CV 3/10; 8/36] START activation=relu, init=uniform, neuron1=8, neuron2=8.......\n"
     ]
    },
    {
     "name": "stderr",
     "output_type": "stream",
     "text": [
      "C:\\Users\\Shamikarani\\anaconda3\\lib\\site-packages\\keras\\optimizers\\optimizer_v2\\adam.py:114: UserWarning: The `lr` argument is deprecated, use `learning_rate` instead.\n",
      "  super().__init__(name, **kwargs)\n"
     ]
    },
    {
     "name": "stdout",
     "output_type": "stream",
     "text": [
      "[CV 3/10; 8/36] END activation=relu, init=uniform, neuron1=8, neuron2=8;, score=0.643 total time=   1.4s\n",
      "[CV 4/10; 8/36] START activation=relu, init=uniform, neuron1=8, neuron2=8.......\n"
     ]
    },
    {
     "name": "stderr",
     "output_type": "stream",
     "text": [
      "C:\\Users\\Shamikarani\\anaconda3\\lib\\site-packages\\keras\\optimizers\\optimizer_v2\\adam.py:114: UserWarning: The `lr` argument is deprecated, use `learning_rate` instead.\n",
      "  super().__init__(name, **kwargs)\n"
     ]
    },
    {
     "name": "stdout",
     "output_type": "stream",
     "text": [
      "[CV 4/10; 8/36] END activation=relu, init=uniform, neuron1=8, neuron2=8;, score=0.707 total time=   1.3s\n",
      "[CV 5/10; 8/36] START activation=relu, init=uniform, neuron1=8, neuron2=8.......\n"
     ]
    },
    {
     "name": "stderr",
     "output_type": "stream",
     "text": [
      "C:\\Users\\Shamikarani\\anaconda3\\lib\\site-packages\\keras\\optimizers\\optimizer_v2\\adam.py:114: UserWarning: The `lr` argument is deprecated, use `learning_rate` instead.\n",
      "  super().__init__(name, **kwargs)\n"
     ]
    },
    {
     "name": "stdout",
     "output_type": "stream",
     "text": [
      "[CV 5/10; 8/36] END activation=relu, init=uniform, neuron1=8, neuron2=8;, score=0.707 total time=   1.3s\n",
      "[CV 6/10; 8/36] START activation=relu, init=uniform, neuron1=8, neuron2=8.......\n"
     ]
    },
    {
     "name": "stderr",
     "output_type": "stream",
     "text": [
      "C:\\Users\\Shamikarani\\anaconda3\\lib\\site-packages\\keras\\optimizers\\optimizer_v2\\adam.py:114: UserWarning: The `lr` argument is deprecated, use `learning_rate` instead.\n",
      "  super().__init__(name, **kwargs)\n"
     ]
    },
    {
     "name": "stdout",
     "output_type": "stream",
     "text": [
      "[CV 6/10; 8/36] END activation=relu, init=uniform, neuron1=8, neuron2=8;, score=0.805 total time=   1.4s\n",
      "[CV 7/10; 8/36] START activation=relu, init=uniform, neuron1=8, neuron2=8.......\n"
     ]
    },
    {
     "name": "stderr",
     "output_type": "stream",
     "text": [
      "C:\\Users\\Shamikarani\\anaconda3\\lib\\site-packages\\keras\\optimizers\\optimizer_v2\\adam.py:114: UserWarning: The `lr` argument is deprecated, use `learning_rate` instead.\n",
      "  super().__init__(name, **kwargs)\n"
     ]
    },
    {
     "name": "stdout",
     "output_type": "stream",
     "text": [
      "[CV 7/10; 8/36] END activation=relu, init=uniform, neuron1=8, neuron2=8;, score=0.756 total time=   1.2s\n",
      "[CV 8/10; 8/36] START activation=relu, init=uniform, neuron1=8, neuron2=8.......\n"
     ]
    },
    {
     "name": "stderr",
     "output_type": "stream",
     "text": [
      "C:\\Users\\Shamikarani\\anaconda3\\lib\\site-packages\\keras\\optimizers\\optimizer_v2\\adam.py:114: UserWarning: The `lr` argument is deprecated, use `learning_rate` instead.\n",
      "  super().__init__(name, **kwargs)\n"
     ]
    },
    {
     "name": "stdout",
     "output_type": "stream",
     "text": [
      "[CV 8/10; 8/36] END activation=relu, init=uniform, neuron1=8, neuron2=8;, score=0.707 total time=   1.4s\n",
      "[CV 9/10; 8/36] START activation=relu, init=uniform, neuron1=8, neuron2=8.......\n"
     ]
    },
    {
     "name": "stderr",
     "output_type": "stream",
     "text": [
      "C:\\Users\\Shamikarani\\anaconda3\\lib\\site-packages\\keras\\optimizers\\optimizer_v2\\adam.py:114: UserWarning: The `lr` argument is deprecated, use `learning_rate` instead.\n",
      "  super().__init__(name, **kwargs)\n"
     ]
    },
    {
     "name": "stdout",
     "output_type": "stream",
     "text": [
      "[CV 9/10; 8/36] END activation=relu, init=uniform, neuron1=8, neuron2=8;, score=0.854 total time=   1.5s\n",
      "[CV 10/10; 8/36] START activation=relu, init=uniform, neuron1=8, neuron2=8......\n"
     ]
    },
    {
     "name": "stderr",
     "output_type": "stream",
     "text": [
      "C:\\Users\\Shamikarani\\anaconda3\\lib\\site-packages\\keras\\optimizers\\optimizer_v2\\adam.py:114: UserWarning: The `lr` argument is deprecated, use `learning_rate` instead.\n",
      "  super().__init__(name, **kwargs)\n"
     ]
    },
    {
     "name": "stdout",
     "output_type": "stream",
     "text": [
      "[CV 10/10; 8/36] END activation=relu, init=uniform, neuron1=8, neuron2=8;, score=0.732 total time=   1.8s\n",
      "[CV 1/10; 9/36] START activation=relu, init=uniform, neuron1=8, neuron2=9.......\n"
     ]
    },
    {
     "name": "stderr",
     "output_type": "stream",
     "text": [
      "C:\\Users\\Shamikarani\\anaconda3\\lib\\site-packages\\keras\\optimizers\\optimizer_v2\\adam.py:114: UserWarning: The `lr` argument is deprecated, use `learning_rate` instead.\n",
      "  super().__init__(name, **kwargs)\n"
     ]
    },
    {
     "name": "stdout",
     "output_type": "stream",
     "text": [
      "[CV 1/10; 9/36] END activation=relu, init=uniform, neuron1=8, neuron2=9;, score=0.714 total time=   1.5s\n",
      "[CV 2/10; 9/36] START activation=relu, init=uniform, neuron1=8, neuron2=9.......\n"
     ]
    },
    {
     "name": "stderr",
     "output_type": "stream",
     "text": [
      "C:\\Users\\Shamikarani\\anaconda3\\lib\\site-packages\\keras\\optimizers\\optimizer_v2\\adam.py:114: UserWarning: The `lr` argument is deprecated, use `learning_rate` instead.\n",
      "  super().__init__(name, **kwargs)\n"
     ]
    },
    {
     "name": "stdout",
     "output_type": "stream",
     "text": [
      "[CV 2/10; 9/36] END activation=relu, init=uniform, neuron1=8, neuron2=9;, score=0.714 total time=   1.5s\n",
      "[CV 3/10; 9/36] START activation=relu, init=uniform, neuron1=8, neuron2=9.......\n"
     ]
    },
    {
     "name": "stderr",
     "output_type": "stream",
     "text": [
      "C:\\Users\\Shamikarani\\anaconda3\\lib\\site-packages\\keras\\optimizers\\optimizer_v2\\adam.py:114: UserWarning: The `lr` argument is deprecated, use `learning_rate` instead.\n",
      "  super().__init__(name, **kwargs)\n"
     ]
    },
    {
     "name": "stdout",
     "output_type": "stream",
     "text": [
      "[CV 3/10; 9/36] END activation=relu, init=uniform, neuron1=8, neuron2=9;, score=0.643 total time=   1.5s\n",
      "[CV 4/10; 9/36] START activation=relu, init=uniform, neuron1=8, neuron2=9.......\n"
     ]
    },
    {
     "name": "stderr",
     "output_type": "stream",
     "text": [
      "C:\\Users\\Shamikarani\\anaconda3\\lib\\site-packages\\keras\\optimizers\\optimizer_v2\\adam.py:114: UserWarning: The `lr` argument is deprecated, use `learning_rate` instead.\n",
      "  super().__init__(name, **kwargs)\n"
     ]
    },
    {
     "name": "stdout",
     "output_type": "stream",
     "text": [
      "[CV 4/10; 9/36] END activation=relu, init=uniform, neuron1=8, neuron2=9;, score=0.707 total time=   1.8s\n",
      "[CV 5/10; 9/36] START activation=relu, init=uniform, neuron1=8, neuron2=9.......\n"
     ]
    },
    {
     "name": "stderr",
     "output_type": "stream",
     "text": [
      "C:\\Users\\Shamikarani\\anaconda3\\lib\\site-packages\\keras\\optimizers\\optimizer_v2\\adam.py:114: UserWarning: The `lr` argument is deprecated, use `learning_rate` instead.\n",
      "  super().__init__(name, **kwargs)\n"
     ]
    },
    {
     "name": "stdout",
     "output_type": "stream",
     "text": [
      "[CV 5/10; 9/36] END activation=relu, init=uniform, neuron1=8, neuron2=9;, score=0.707 total time=   1.9s\n",
      "[CV 6/10; 9/36] START activation=relu, init=uniform, neuron1=8, neuron2=9.......\n"
     ]
    },
    {
     "name": "stderr",
     "output_type": "stream",
     "text": [
      "C:\\Users\\Shamikarani\\anaconda3\\lib\\site-packages\\keras\\optimizers\\optimizer_v2\\adam.py:114: UserWarning: The `lr` argument is deprecated, use `learning_rate` instead.\n",
      "  super().__init__(name, **kwargs)\n"
     ]
    },
    {
     "name": "stdout",
     "output_type": "stream",
     "text": [
      "[CV 6/10; 9/36] END activation=relu, init=uniform, neuron1=8, neuron2=9;, score=0.805 total time=   1.2s\n",
      "[CV 7/10; 9/36] START activation=relu, init=uniform, neuron1=8, neuron2=9.......\n"
     ]
    },
    {
     "name": "stderr",
     "output_type": "stream",
     "text": [
      "C:\\Users\\Shamikarani\\anaconda3\\lib\\site-packages\\keras\\optimizers\\optimizer_v2\\adam.py:114: UserWarning: The `lr` argument is deprecated, use `learning_rate` instead.\n",
      "  super().__init__(name, **kwargs)\n"
     ]
    },
    {
     "name": "stdout",
     "output_type": "stream",
     "text": [
      "[CV 7/10; 9/36] END activation=relu, init=uniform, neuron1=8, neuron2=9;, score=0.756 total time=   1.3s\n",
      "[CV 8/10; 9/36] START activation=relu, init=uniform, neuron1=8, neuron2=9.......\n"
     ]
    },
    {
     "name": "stderr",
     "output_type": "stream",
     "text": [
      "C:\\Users\\Shamikarani\\anaconda3\\lib\\site-packages\\keras\\optimizers\\optimizer_v2\\adam.py:114: UserWarning: The `lr` argument is deprecated, use `learning_rate` instead.\n",
      "  super().__init__(name, **kwargs)\n"
     ]
    },
    {
     "name": "stdout",
     "output_type": "stream",
     "text": [
      "[CV 8/10; 9/36] END activation=relu, init=uniform, neuron1=8, neuron2=9;, score=0.707 total time=   1.2s\n",
      "[CV 9/10; 9/36] START activation=relu, init=uniform, neuron1=8, neuron2=9.......\n"
     ]
    },
    {
     "name": "stderr",
     "output_type": "stream",
     "text": [
      "C:\\Users\\Shamikarani\\anaconda3\\lib\\site-packages\\keras\\optimizers\\optimizer_v2\\adam.py:114: UserWarning: The `lr` argument is deprecated, use `learning_rate` instead.\n",
      "  super().__init__(name, **kwargs)\n"
     ]
    },
    {
     "name": "stdout",
     "output_type": "stream",
     "text": [
      "[CV 9/10; 9/36] END activation=relu, init=uniform, neuron1=8, neuron2=9;, score=0.854 total time=   1.5s\n",
      "[CV 10/10; 9/36] START activation=relu, init=uniform, neuron1=8, neuron2=9......\n"
     ]
    },
    {
     "name": "stderr",
     "output_type": "stream",
     "text": [
      "C:\\Users\\Shamikarani\\anaconda3\\lib\\site-packages\\keras\\optimizers\\optimizer_v2\\adam.py:114: UserWarning: The `lr` argument is deprecated, use `learning_rate` instead.\n",
      "  super().__init__(name, **kwargs)\n"
     ]
    },
    {
     "name": "stdout",
     "output_type": "stream",
     "text": [
      "[CV 10/10; 9/36] END activation=relu, init=uniform, neuron1=8, neuron2=9;, score=0.732 total time=   1.2s\n",
      "[CV 1/10; 10/36] START activation=relu, init=normal, neuron1=10, neuron2=7......\n"
     ]
    },
    {
     "name": "stderr",
     "output_type": "stream",
     "text": [
      "C:\\Users\\Shamikarani\\anaconda3\\lib\\site-packages\\keras\\optimizers\\optimizer_v2\\adam.py:114: UserWarning: The `lr` argument is deprecated, use `learning_rate` instead.\n",
      "  super().__init__(name, **kwargs)\n"
     ]
    },
    {
     "name": "stdout",
     "output_type": "stream",
     "text": [
      "[CV 1/10; 10/36] END activation=relu, init=normal, neuron1=10, neuron2=7;, score=0.714 total time=   1.3s\n",
      "[CV 2/10; 10/36] START activation=relu, init=normal, neuron1=10, neuron2=7......\n"
     ]
    },
    {
     "name": "stderr",
     "output_type": "stream",
     "text": [
      "C:\\Users\\Shamikarani\\anaconda3\\lib\\site-packages\\keras\\optimizers\\optimizer_v2\\adam.py:114: UserWarning: The `lr` argument is deprecated, use `learning_rate` instead.\n",
      "  super().__init__(name, **kwargs)\n"
     ]
    },
    {
     "name": "stdout",
     "output_type": "stream",
     "text": [
      "[CV 2/10; 10/36] END activation=relu, init=normal, neuron1=10, neuron2=7;, score=0.714 total time=   1.2s\n",
      "[CV 3/10; 10/36] START activation=relu, init=normal, neuron1=10, neuron2=7......\n"
     ]
    },
    {
     "name": "stderr",
     "output_type": "stream",
     "text": [
      "C:\\Users\\Shamikarani\\anaconda3\\lib\\site-packages\\keras\\optimizers\\optimizer_v2\\adam.py:114: UserWarning: The `lr` argument is deprecated, use `learning_rate` instead.\n",
      "  super().__init__(name, **kwargs)\n"
     ]
    },
    {
     "name": "stdout",
     "output_type": "stream",
     "text": [
      "[CV 3/10; 10/36] END activation=relu, init=normal, neuron1=10, neuron2=7;, score=0.643 total time=   1.4s\n",
      "[CV 4/10; 10/36] START activation=relu, init=normal, neuron1=10, neuron2=7......\n"
     ]
    },
    {
     "name": "stderr",
     "output_type": "stream",
     "text": [
      "C:\\Users\\Shamikarani\\anaconda3\\lib\\site-packages\\keras\\optimizers\\optimizer_v2\\adam.py:114: UserWarning: The `lr` argument is deprecated, use `learning_rate` instead.\n",
      "  super().__init__(name, **kwargs)\n"
     ]
    },
    {
     "name": "stdout",
     "output_type": "stream",
     "text": [
      "[CV 4/10; 10/36] END activation=relu, init=normal, neuron1=10, neuron2=7;, score=0.707 total time=   2.0s\n",
      "[CV 5/10; 10/36] START activation=relu, init=normal, neuron1=10, neuron2=7......\n"
     ]
    },
    {
     "name": "stderr",
     "output_type": "stream",
     "text": [
      "C:\\Users\\Shamikarani\\anaconda3\\lib\\site-packages\\keras\\optimizers\\optimizer_v2\\adam.py:114: UserWarning: The `lr` argument is deprecated, use `learning_rate` instead.\n",
      "  super().__init__(name, **kwargs)\n"
     ]
    },
    {
     "name": "stdout",
     "output_type": "stream",
     "text": [
      "[CV 5/10; 10/36] END activation=relu, init=normal, neuron1=10, neuron2=7;, score=0.707 total time=   1.2s\n",
      "[CV 6/10; 10/36] START activation=relu, init=normal, neuron1=10, neuron2=7......\n"
     ]
    },
    {
     "name": "stderr",
     "output_type": "stream",
     "text": [
      "C:\\Users\\Shamikarani\\anaconda3\\lib\\site-packages\\keras\\optimizers\\optimizer_v2\\adam.py:114: UserWarning: The `lr` argument is deprecated, use `learning_rate` instead.\n",
      "  super().__init__(name, **kwargs)\n"
     ]
    },
    {
     "name": "stdout",
     "output_type": "stream",
     "text": [
      "[CV 6/10; 10/36] END activation=relu, init=normal, neuron1=10, neuron2=7;, score=0.805 total time=   1.5s\n",
      "[CV 7/10; 10/36] START activation=relu, init=normal, neuron1=10, neuron2=7......\n"
     ]
    },
    {
     "name": "stderr",
     "output_type": "stream",
     "text": [
      "C:\\Users\\Shamikarani\\anaconda3\\lib\\site-packages\\keras\\optimizers\\optimizer_v2\\adam.py:114: UserWarning: The `lr` argument is deprecated, use `learning_rate` instead.\n",
      "  super().__init__(name, **kwargs)\n"
     ]
    },
    {
     "name": "stdout",
     "output_type": "stream",
     "text": [
      "[CV 7/10; 10/36] END activation=relu, init=normal, neuron1=10, neuron2=7;, score=0.756 total time=   1.3s\n",
      "[CV 8/10; 10/36] START activation=relu, init=normal, neuron1=10, neuron2=7......\n"
     ]
    },
    {
     "name": "stderr",
     "output_type": "stream",
     "text": [
      "C:\\Users\\Shamikarani\\anaconda3\\lib\\site-packages\\keras\\optimizers\\optimizer_v2\\adam.py:114: UserWarning: The `lr` argument is deprecated, use `learning_rate` instead.\n",
      "  super().__init__(name, **kwargs)\n"
     ]
    },
    {
     "name": "stdout",
     "output_type": "stream",
     "text": [
      "[CV 8/10; 10/36] END activation=relu, init=normal, neuron1=10, neuron2=7;, score=0.707 total time=   1.6s\n",
      "[CV 9/10; 10/36] START activation=relu, init=normal, neuron1=10, neuron2=7......\n"
     ]
    },
    {
     "name": "stderr",
     "output_type": "stream",
     "text": [
      "C:\\Users\\Shamikarani\\anaconda3\\lib\\site-packages\\keras\\optimizers\\optimizer_v2\\adam.py:114: UserWarning: The `lr` argument is deprecated, use `learning_rate` instead.\n",
      "  super().__init__(name, **kwargs)\n"
     ]
    },
    {
     "name": "stdout",
     "output_type": "stream",
     "text": [
      "[CV 9/10; 10/36] END activation=relu, init=normal, neuron1=10, neuron2=7;, score=0.854 total time=   1.5s\n",
      "[CV 10/10; 10/36] START activation=relu, init=normal, neuron1=10, neuron2=7.....\n"
     ]
    },
    {
     "name": "stderr",
     "output_type": "stream",
     "text": [
      "C:\\Users\\Shamikarani\\anaconda3\\lib\\site-packages\\keras\\optimizers\\optimizer_v2\\adam.py:114: UserWarning: The `lr` argument is deprecated, use `learning_rate` instead.\n",
      "  super().__init__(name, **kwargs)\n"
     ]
    },
    {
     "name": "stdout",
     "output_type": "stream",
     "text": [
      "[CV 10/10; 10/36] END activation=relu, init=normal, neuron1=10, neuron2=7;, score=0.732 total time=   1.9s\n",
      "[CV 1/10; 11/36] START activation=relu, init=normal, neuron1=10, neuron2=8......\n"
     ]
    },
    {
     "name": "stderr",
     "output_type": "stream",
     "text": [
      "C:\\Users\\Shamikarani\\anaconda3\\lib\\site-packages\\keras\\optimizers\\optimizer_v2\\adam.py:114: UserWarning: The `lr` argument is deprecated, use `learning_rate` instead.\n",
      "  super().__init__(name, **kwargs)\n"
     ]
    },
    {
     "name": "stdout",
     "output_type": "stream",
     "text": [
      "[CV 1/10; 11/36] END activation=relu, init=normal, neuron1=10, neuron2=8;, score=0.714 total time=   2.3s\n",
      "[CV 2/10; 11/36] START activation=relu, init=normal, neuron1=10, neuron2=8......\n"
     ]
    },
    {
     "name": "stderr",
     "output_type": "stream",
     "text": [
      "C:\\Users\\Shamikarani\\anaconda3\\lib\\site-packages\\keras\\optimizers\\optimizer_v2\\adam.py:114: UserWarning: The `lr` argument is deprecated, use `learning_rate` instead.\n",
      "  super().__init__(name, **kwargs)\n"
     ]
    },
    {
     "name": "stdout",
     "output_type": "stream",
     "text": [
      "[CV 2/10; 11/36] END activation=relu, init=normal, neuron1=10, neuron2=8;, score=0.714 total time=   1.9s\n",
      "[CV 3/10; 11/36] START activation=relu, init=normal, neuron1=10, neuron2=8......\n"
     ]
    },
    {
     "name": "stderr",
     "output_type": "stream",
     "text": [
      "C:\\Users\\Shamikarani\\anaconda3\\lib\\site-packages\\keras\\optimizers\\optimizer_v2\\adam.py:114: UserWarning: The `lr` argument is deprecated, use `learning_rate` instead.\n",
      "  super().__init__(name, **kwargs)\n"
     ]
    },
    {
     "name": "stdout",
     "output_type": "stream",
     "text": [
      "[CV 3/10; 11/36] END activation=relu, init=normal, neuron1=10, neuron2=8;, score=0.643 total time=   2.3s\n",
      "[CV 4/10; 11/36] START activation=relu, init=normal, neuron1=10, neuron2=8......\n"
     ]
    },
    {
     "name": "stderr",
     "output_type": "stream",
     "text": [
      "C:\\Users\\Shamikarani\\anaconda3\\lib\\site-packages\\keras\\optimizers\\optimizer_v2\\adam.py:114: UserWarning: The `lr` argument is deprecated, use `learning_rate` instead.\n",
      "  super().__init__(name, **kwargs)\n"
     ]
    },
    {
     "name": "stdout",
     "output_type": "stream",
     "text": [
      "[CV 4/10; 11/36] END activation=relu, init=normal, neuron1=10, neuron2=8;, score=0.707 total time=   1.8s\n",
      "[CV 5/10; 11/36] START activation=relu, init=normal, neuron1=10, neuron2=8......\n"
     ]
    },
    {
     "name": "stderr",
     "output_type": "stream",
     "text": [
      "C:\\Users\\Shamikarani\\anaconda3\\lib\\site-packages\\keras\\optimizers\\optimizer_v2\\adam.py:114: UserWarning: The `lr` argument is deprecated, use `learning_rate` instead.\n",
      "  super().__init__(name, **kwargs)\n"
     ]
    },
    {
     "name": "stdout",
     "output_type": "stream",
     "text": [
      "[CV 5/10; 11/36] END activation=relu, init=normal, neuron1=10, neuron2=8;, score=0.707 total time=   1.5s\n",
      "[CV 6/10; 11/36] START activation=relu, init=normal, neuron1=10, neuron2=8......\n"
     ]
    },
    {
     "name": "stderr",
     "output_type": "stream",
     "text": [
      "C:\\Users\\Shamikarani\\anaconda3\\lib\\site-packages\\keras\\optimizers\\optimizer_v2\\adam.py:114: UserWarning: The `lr` argument is deprecated, use `learning_rate` instead.\n",
      "  super().__init__(name, **kwargs)\n"
     ]
    },
    {
     "name": "stdout",
     "output_type": "stream",
     "text": [
      "[CV 6/10; 11/36] END activation=relu, init=normal, neuron1=10, neuron2=8;, score=0.805 total time=   1.7s\n",
      "[CV 7/10; 11/36] START activation=relu, init=normal, neuron1=10, neuron2=8......\n"
     ]
    },
    {
     "name": "stderr",
     "output_type": "stream",
     "text": [
      "C:\\Users\\Shamikarani\\anaconda3\\lib\\site-packages\\keras\\optimizers\\optimizer_v2\\adam.py:114: UserWarning: The `lr` argument is deprecated, use `learning_rate` instead.\n",
      "  super().__init__(name, **kwargs)\n"
     ]
    },
    {
     "name": "stdout",
     "output_type": "stream",
     "text": [
      "[CV 7/10; 11/36] END activation=relu, init=normal, neuron1=10, neuron2=8;, score=0.756 total time=   2.2s\n",
      "[CV 8/10; 11/36] START activation=relu, init=normal, neuron1=10, neuron2=8......\n"
     ]
    },
    {
     "name": "stderr",
     "output_type": "stream",
     "text": [
      "C:\\Users\\Shamikarani\\anaconda3\\lib\\site-packages\\keras\\optimizers\\optimizer_v2\\adam.py:114: UserWarning: The `lr` argument is deprecated, use `learning_rate` instead.\n",
      "  super().__init__(name, **kwargs)\n"
     ]
    },
    {
     "name": "stdout",
     "output_type": "stream",
     "text": [
      "[CV 8/10; 11/36] END activation=relu, init=normal, neuron1=10, neuron2=8;, score=0.707 total time=   1.5s\n",
      "[CV 9/10; 11/36] START activation=relu, init=normal, neuron1=10, neuron2=8......\n"
     ]
    },
    {
     "name": "stderr",
     "output_type": "stream",
     "text": [
      "C:\\Users\\Shamikarani\\anaconda3\\lib\\site-packages\\keras\\optimizers\\optimizer_v2\\adam.py:114: UserWarning: The `lr` argument is deprecated, use `learning_rate` instead.\n",
      "  super().__init__(name, **kwargs)\n"
     ]
    },
    {
     "name": "stdout",
     "output_type": "stream",
     "text": [
      "[CV 9/10; 11/36] END activation=relu, init=normal, neuron1=10, neuron2=8;, score=0.854 total time=   1.6s\n",
      "[CV 10/10; 11/36] START activation=relu, init=normal, neuron1=10, neuron2=8.....\n"
     ]
    },
    {
     "name": "stderr",
     "output_type": "stream",
     "text": [
      "C:\\Users\\Shamikarani\\anaconda3\\lib\\site-packages\\keras\\optimizers\\optimizer_v2\\adam.py:114: UserWarning: The `lr` argument is deprecated, use `learning_rate` instead.\n",
      "  super().__init__(name, **kwargs)\n"
     ]
    },
    {
     "name": "stdout",
     "output_type": "stream",
     "text": [
      "[CV 10/10; 11/36] END activation=relu, init=normal, neuron1=10, neuron2=8;, score=0.732 total time=   1.3s\n",
      "[CV 1/10; 12/36] START activation=relu, init=normal, neuron1=10, neuron2=9......\n"
     ]
    },
    {
     "name": "stderr",
     "output_type": "stream",
     "text": [
      "C:\\Users\\Shamikarani\\anaconda3\\lib\\site-packages\\keras\\optimizers\\optimizer_v2\\adam.py:114: UserWarning: The `lr` argument is deprecated, use `learning_rate` instead.\n",
      "  super().__init__(name, **kwargs)\n"
     ]
    },
    {
     "name": "stdout",
     "output_type": "stream",
     "text": [
      "[CV 1/10; 12/36] END activation=relu, init=normal, neuron1=10, neuron2=9;, score=0.714 total time=   1.4s\n",
      "[CV 2/10; 12/36] START activation=relu, init=normal, neuron1=10, neuron2=9......\n"
     ]
    },
    {
     "name": "stderr",
     "output_type": "stream",
     "text": [
      "C:\\Users\\Shamikarani\\anaconda3\\lib\\site-packages\\keras\\optimizers\\optimizer_v2\\adam.py:114: UserWarning: The `lr` argument is deprecated, use `learning_rate` instead.\n",
      "  super().__init__(name, **kwargs)\n"
     ]
    },
    {
     "name": "stdout",
     "output_type": "stream",
     "text": [
      "[CV 2/10; 12/36] END activation=relu, init=normal, neuron1=10, neuron2=9;, score=0.714 total time=   1.4s\n",
      "[CV 3/10; 12/36] START activation=relu, init=normal, neuron1=10, neuron2=9......\n"
     ]
    },
    {
     "name": "stderr",
     "output_type": "stream",
     "text": [
      "C:\\Users\\Shamikarani\\anaconda3\\lib\\site-packages\\keras\\optimizers\\optimizer_v2\\adam.py:114: UserWarning: The `lr` argument is deprecated, use `learning_rate` instead.\n",
      "  super().__init__(name, **kwargs)\n"
     ]
    },
    {
     "name": "stdout",
     "output_type": "stream",
     "text": [
      "[CV 3/10; 12/36] END activation=relu, init=normal, neuron1=10, neuron2=9;, score=0.643 total time=   1.3s\n",
      "[CV 4/10; 12/36] START activation=relu, init=normal, neuron1=10, neuron2=9......\n"
     ]
    },
    {
     "name": "stderr",
     "output_type": "stream",
     "text": [
      "C:\\Users\\Shamikarani\\anaconda3\\lib\\site-packages\\keras\\optimizers\\optimizer_v2\\adam.py:114: UserWarning: The `lr` argument is deprecated, use `learning_rate` instead.\n",
      "  super().__init__(name, **kwargs)\n"
     ]
    },
    {
     "name": "stdout",
     "output_type": "stream",
     "text": [
      "[CV 4/10; 12/36] END activation=relu, init=normal, neuron1=10, neuron2=9;, score=0.707 total time=   1.4s\n",
      "[CV 5/10; 12/36] START activation=relu, init=normal, neuron1=10, neuron2=9......\n"
     ]
    },
    {
     "name": "stderr",
     "output_type": "stream",
     "text": [
      "C:\\Users\\Shamikarani\\anaconda3\\lib\\site-packages\\keras\\optimizers\\optimizer_v2\\adam.py:114: UserWarning: The `lr` argument is deprecated, use `learning_rate` instead.\n",
      "  super().__init__(name, **kwargs)\n"
     ]
    },
    {
     "name": "stdout",
     "output_type": "stream",
     "text": [
      "[CV 5/10; 12/36] END activation=relu, init=normal, neuron1=10, neuron2=9;, score=0.707 total time=   1.6s\n",
      "[CV 6/10; 12/36] START activation=relu, init=normal, neuron1=10, neuron2=9......\n"
     ]
    },
    {
     "name": "stderr",
     "output_type": "stream",
     "text": [
      "C:\\Users\\Shamikarani\\anaconda3\\lib\\site-packages\\keras\\optimizers\\optimizer_v2\\adam.py:114: UserWarning: The `lr` argument is deprecated, use `learning_rate` instead.\n",
      "  super().__init__(name, **kwargs)\n"
     ]
    },
    {
     "name": "stdout",
     "output_type": "stream",
     "text": [
      "[CV 6/10; 12/36] END activation=relu, init=normal, neuron1=10, neuron2=9;, score=0.805 total time=   1.5s\n",
      "[CV 7/10; 12/36] START activation=relu, init=normal, neuron1=10, neuron2=9......\n"
     ]
    },
    {
     "name": "stderr",
     "output_type": "stream",
     "text": [
      "C:\\Users\\Shamikarani\\anaconda3\\lib\\site-packages\\keras\\optimizers\\optimizer_v2\\adam.py:114: UserWarning: The `lr` argument is deprecated, use `learning_rate` instead.\n",
      "  super().__init__(name, **kwargs)\n"
     ]
    },
    {
     "name": "stdout",
     "output_type": "stream",
     "text": [
      "[CV 7/10; 12/36] END activation=relu, init=normal, neuron1=10, neuron2=9;, score=0.756 total time=   1.4s\n",
      "[CV 8/10; 12/36] START activation=relu, init=normal, neuron1=10, neuron2=9......\n"
     ]
    },
    {
     "name": "stderr",
     "output_type": "stream",
     "text": [
      "C:\\Users\\Shamikarani\\anaconda3\\lib\\site-packages\\keras\\optimizers\\optimizer_v2\\adam.py:114: UserWarning: The `lr` argument is deprecated, use `learning_rate` instead.\n",
      "  super().__init__(name, **kwargs)\n"
     ]
    },
    {
     "name": "stdout",
     "output_type": "stream",
     "text": [
      "[CV 8/10; 12/36] END activation=relu, init=normal, neuron1=10, neuron2=9;, score=0.707 total time=   1.1s\n",
      "[CV 9/10; 12/36] START activation=relu, init=normal, neuron1=10, neuron2=9......\n"
     ]
    },
    {
     "name": "stderr",
     "output_type": "stream",
     "text": [
      "C:\\Users\\Shamikarani\\anaconda3\\lib\\site-packages\\keras\\optimizers\\optimizer_v2\\adam.py:114: UserWarning: The `lr` argument is deprecated, use `learning_rate` instead.\n",
      "  super().__init__(name, **kwargs)\n"
     ]
    },
    {
     "name": "stdout",
     "output_type": "stream",
     "text": [
      "[CV 9/10; 12/36] END activation=relu, init=normal, neuron1=10, neuron2=9;, score=0.854 total time=   1.2s\n",
      "[CV 10/10; 12/36] START activation=relu, init=normal, neuron1=10, neuron2=9.....\n"
     ]
    },
    {
     "name": "stderr",
     "output_type": "stream",
     "text": [
      "C:\\Users\\Shamikarani\\anaconda3\\lib\\site-packages\\keras\\optimizers\\optimizer_v2\\adam.py:114: UserWarning: The `lr` argument is deprecated, use `learning_rate` instead.\n",
      "  super().__init__(name, **kwargs)\n"
     ]
    },
    {
     "name": "stdout",
     "output_type": "stream",
     "text": [
      "[CV 10/10; 12/36] END activation=relu, init=normal, neuron1=10, neuron2=9;, score=0.732 total time=   1.5s\n",
      "[CV 1/10; 13/36] START activation=relu, init=normal, neuron1=12, neuron2=7......\n"
     ]
    },
    {
     "name": "stderr",
     "output_type": "stream",
     "text": [
      "C:\\Users\\Shamikarani\\anaconda3\\lib\\site-packages\\keras\\optimizers\\optimizer_v2\\adam.py:114: UserWarning: The `lr` argument is deprecated, use `learning_rate` instead.\n",
      "  super().__init__(name, **kwargs)\n"
     ]
    },
    {
     "name": "stdout",
     "output_type": "stream",
     "text": [
      "[CV 1/10; 13/36] END activation=relu, init=normal, neuron1=12, neuron2=7;, score=0.714 total time=   1.5s\n",
      "[CV 2/10; 13/36] START activation=relu, init=normal, neuron1=12, neuron2=7......\n"
     ]
    },
    {
     "name": "stderr",
     "output_type": "stream",
     "text": [
      "C:\\Users\\Shamikarani\\anaconda3\\lib\\site-packages\\keras\\optimizers\\optimizer_v2\\adam.py:114: UserWarning: The `lr` argument is deprecated, use `learning_rate` instead.\n",
      "  super().__init__(name, **kwargs)\n"
     ]
    },
    {
     "name": "stdout",
     "output_type": "stream",
     "text": [
      "[CV 2/10; 13/36] END activation=relu, init=normal, neuron1=12, neuron2=7;, score=0.714 total time=   1.6s\n",
      "[CV 3/10; 13/36] START activation=relu, init=normal, neuron1=12, neuron2=7......\n"
     ]
    },
    {
     "name": "stderr",
     "output_type": "stream",
     "text": [
      "C:\\Users\\Shamikarani\\anaconda3\\lib\\site-packages\\keras\\optimizers\\optimizer_v2\\adam.py:114: UserWarning: The `lr` argument is deprecated, use `learning_rate` instead.\n",
      "  super().__init__(name, **kwargs)\n"
     ]
    },
    {
     "name": "stdout",
     "output_type": "stream",
     "text": [
      "[CV 3/10; 13/36] END activation=relu, init=normal, neuron1=12, neuron2=7;, score=0.643 total time=   1.4s\n",
      "[CV 4/10; 13/36] START activation=relu, init=normal, neuron1=12, neuron2=7......\n"
     ]
    },
    {
     "name": "stderr",
     "output_type": "stream",
     "text": [
      "C:\\Users\\Shamikarani\\anaconda3\\lib\\site-packages\\keras\\optimizers\\optimizer_v2\\adam.py:114: UserWarning: The `lr` argument is deprecated, use `learning_rate` instead.\n",
      "  super().__init__(name, **kwargs)\n"
     ]
    },
    {
     "name": "stdout",
     "output_type": "stream",
     "text": [
      "[CV 4/10; 13/36] END activation=relu, init=normal, neuron1=12, neuron2=7;, score=0.707 total time=   2.0s\n",
      "[CV 5/10; 13/36] START activation=relu, init=normal, neuron1=12, neuron2=7......\n"
     ]
    },
    {
     "name": "stderr",
     "output_type": "stream",
     "text": [
      "C:\\Users\\Shamikarani\\anaconda3\\lib\\site-packages\\keras\\optimizers\\optimizer_v2\\adam.py:114: UserWarning: The `lr` argument is deprecated, use `learning_rate` instead.\n",
      "  super().__init__(name, **kwargs)\n"
     ]
    },
    {
     "name": "stdout",
     "output_type": "stream",
     "text": [
      "[CV 5/10; 13/36] END activation=relu, init=normal, neuron1=12, neuron2=7;, score=0.707 total time=   2.1s\n",
      "[CV 6/10; 13/36] START activation=relu, init=normal, neuron1=12, neuron2=7......\n"
     ]
    },
    {
     "name": "stderr",
     "output_type": "stream",
     "text": [
      "C:\\Users\\Shamikarani\\anaconda3\\lib\\site-packages\\keras\\optimizers\\optimizer_v2\\adam.py:114: UserWarning: The `lr` argument is deprecated, use `learning_rate` instead.\n",
      "  super().__init__(name, **kwargs)\n"
     ]
    },
    {
     "name": "stdout",
     "output_type": "stream",
     "text": [
      "[CV 6/10; 13/36] END activation=relu, init=normal, neuron1=12, neuron2=7;, score=0.805 total time=   1.7s\n",
      "[CV 7/10; 13/36] START activation=relu, init=normal, neuron1=12, neuron2=7......\n"
     ]
    },
    {
     "name": "stderr",
     "output_type": "stream",
     "text": [
      "C:\\Users\\Shamikarani\\anaconda3\\lib\\site-packages\\keras\\optimizers\\optimizer_v2\\adam.py:114: UserWarning: The `lr` argument is deprecated, use `learning_rate` instead.\n",
      "  super().__init__(name, **kwargs)\n"
     ]
    },
    {
     "name": "stdout",
     "output_type": "stream",
     "text": [
      "[CV 7/10; 13/36] END activation=relu, init=normal, neuron1=12, neuron2=7;, score=0.756 total time=   1.4s\n",
      "[CV 8/10; 13/36] START activation=relu, init=normal, neuron1=12, neuron2=7......\n"
     ]
    },
    {
     "name": "stderr",
     "output_type": "stream",
     "text": [
      "C:\\Users\\Shamikarani\\anaconda3\\lib\\site-packages\\keras\\optimizers\\optimizer_v2\\adam.py:114: UserWarning: The `lr` argument is deprecated, use `learning_rate` instead.\n",
      "  super().__init__(name, **kwargs)\n"
     ]
    },
    {
     "name": "stdout",
     "output_type": "stream",
     "text": [
      "[CV 8/10; 13/36] END activation=relu, init=normal, neuron1=12, neuron2=7;, score=0.707 total time=   2.2s\n",
      "[CV 9/10; 13/36] START activation=relu, init=normal, neuron1=12, neuron2=7......\n"
     ]
    },
    {
     "name": "stderr",
     "output_type": "stream",
     "text": [
      "C:\\Users\\Shamikarani\\anaconda3\\lib\\site-packages\\keras\\optimizers\\optimizer_v2\\adam.py:114: UserWarning: The `lr` argument is deprecated, use `learning_rate` instead.\n",
      "  super().__init__(name, **kwargs)\n"
     ]
    },
    {
     "name": "stdout",
     "output_type": "stream",
     "text": [
      "[CV 9/10; 13/36] END activation=relu, init=normal, neuron1=12, neuron2=7;, score=0.854 total time=   2.2s\n",
      "[CV 10/10; 13/36] START activation=relu, init=normal, neuron1=12, neuron2=7.....\n"
     ]
    },
    {
     "name": "stderr",
     "output_type": "stream",
     "text": [
      "C:\\Users\\Shamikarani\\anaconda3\\lib\\site-packages\\keras\\optimizers\\optimizer_v2\\adam.py:114: UserWarning: The `lr` argument is deprecated, use `learning_rate` instead.\n",
      "  super().__init__(name, **kwargs)\n"
     ]
    },
    {
     "name": "stdout",
     "output_type": "stream",
     "text": [
      "[CV 10/10; 13/36] END activation=relu, init=normal, neuron1=12, neuron2=7;, score=0.732 total time=   1.2s\n",
      "[CV 1/10; 14/36] START activation=relu, init=normal, neuron1=12, neuron2=8......\n"
     ]
    },
    {
     "name": "stderr",
     "output_type": "stream",
     "text": [
      "C:\\Users\\Shamikarani\\anaconda3\\lib\\site-packages\\keras\\optimizers\\optimizer_v2\\adam.py:114: UserWarning: The `lr` argument is deprecated, use `learning_rate` instead.\n",
      "  super().__init__(name, **kwargs)\n"
     ]
    },
    {
     "name": "stdout",
     "output_type": "stream",
     "text": [
      "[CV 1/10; 14/36] END activation=relu, init=normal, neuron1=12, neuron2=8;, score=0.714 total time=   1.3s\n",
      "[CV 2/10; 14/36] START activation=relu, init=normal, neuron1=12, neuron2=8......\n"
     ]
    },
    {
     "name": "stderr",
     "output_type": "stream",
     "text": [
      "C:\\Users\\Shamikarani\\anaconda3\\lib\\site-packages\\keras\\optimizers\\optimizer_v2\\adam.py:114: UserWarning: The `lr` argument is deprecated, use `learning_rate` instead.\n",
      "  super().__init__(name, **kwargs)\n"
     ]
    },
    {
     "name": "stdout",
     "output_type": "stream",
     "text": [
      "[CV 2/10; 14/36] END activation=relu, init=normal, neuron1=12, neuron2=8;, score=0.714 total time=   1.3s\n",
      "[CV 3/10; 14/36] START activation=relu, init=normal, neuron1=12, neuron2=8......\n"
     ]
    },
    {
     "name": "stderr",
     "output_type": "stream",
     "text": [
      "C:\\Users\\Shamikarani\\anaconda3\\lib\\site-packages\\keras\\optimizers\\optimizer_v2\\adam.py:114: UserWarning: The `lr` argument is deprecated, use `learning_rate` instead.\n",
      "  super().__init__(name, **kwargs)\n"
     ]
    },
    {
     "name": "stdout",
     "output_type": "stream",
     "text": [
      "[CV 3/10; 14/36] END activation=relu, init=normal, neuron1=12, neuron2=8;, score=0.643 total time=   1.4s\n",
      "[CV 4/10; 14/36] START activation=relu, init=normal, neuron1=12, neuron2=8......\n"
     ]
    },
    {
     "name": "stderr",
     "output_type": "stream",
     "text": [
      "C:\\Users\\Shamikarani\\anaconda3\\lib\\site-packages\\keras\\optimizers\\optimizer_v2\\adam.py:114: UserWarning: The `lr` argument is deprecated, use `learning_rate` instead.\n",
      "  super().__init__(name, **kwargs)\n"
     ]
    },
    {
     "name": "stdout",
     "output_type": "stream",
     "text": [
      "[CV 4/10; 14/36] END activation=relu, init=normal, neuron1=12, neuron2=8;, score=0.707 total time=   1.1s\n",
      "[CV 5/10; 14/36] START activation=relu, init=normal, neuron1=12, neuron2=8......\n"
     ]
    },
    {
     "name": "stderr",
     "output_type": "stream",
     "text": [
      "C:\\Users\\Shamikarani\\anaconda3\\lib\\site-packages\\keras\\optimizers\\optimizer_v2\\adam.py:114: UserWarning: The `lr` argument is deprecated, use `learning_rate` instead.\n",
      "  super().__init__(name, **kwargs)\n"
     ]
    },
    {
     "name": "stdout",
     "output_type": "stream",
     "text": [
      "[CV 5/10; 14/36] END activation=relu, init=normal, neuron1=12, neuron2=8;, score=0.707 total time=   1.2s\n",
      "[CV 6/10; 14/36] START activation=relu, init=normal, neuron1=12, neuron2=8......\n"
     ]
    },
    {
     "name": "stderr",
     "output_type": "stream",
     "text": [
      "C:\\Users\\Shamikarani\\anaconda3\\lib\\site-packages\\keras\\optimizers\\optimizer_v2\\adam.py:114: UserWarning: The `lr` argument is deprecated, use `learning_rate` instead.\n",
      "  super().__init__(name, **kwargs)\n"
     ]
    },
    {
     "name": "stdout",
     "output_type": "stream",
     "text": [
      "[CV 6/10; 14/36] END activation=relu, init=normal, neuron1=12, neuron2=8;, score=0.805 total time=   1.2s\n",
      "[CV 7/10; 14/36] START activation=relu, init=normal, neuron1=12, neuron2=8......\n"
     ]
    },
    {
     "name": "stderr",
     "output_type": "stream",
     "text": [
      "C:\\Users\\Shamikarani\\anaconda3\\lib\\site-packages\\keras\\optimizers\\optimizer_v2\\adam.py:114: UserWarning: The `lr` argument is deprecated, use `learning_rate` instead.\n",
      "  super().__init__(name, **kwargs)\n"
     ]
    },
    {
     "name": "stdout",
     "output_type": "stream",
     "text": [
      "[CV 7/10; 14/36] END activation=relu, init=normal, neuron1=12, neuron2=8;, score=0.756 total time=   1.4s\n",
      "[CV 8/10; 14/36] START activation=relu, init=normal, neuron1=12, neuron2=8......\n"
     ]
    },
    {
     "name": "stderr",
     "output_type": "stream",
     "text": [
      "C:\\Users\\Shamikarani\\anaconda3\\lib\\site-packages\\keras\\optimizers\\optimizer_v2\\adam.py:114: UserWarning: The `lr` argument is deprecated, use `learning_rate` instead.\n",
      "  super().__init__(name, **kwargs)\n"
     ]
    },
    {
     "name": "stdout",
     "output_type": "stream",
     "text": [
      "[CV 8/10; 14/36] END activation=relu, init=normal, neuron1=12, neuron2=8;, score=0.707 total time=   1.2s\n",
      "[CV 9/10; 14/36] START activation=relu, init=normal, neuron1=12, neuron2=8......\n"
     ]
    },
    {
     "name": "stderr",
     "output_type": "stream",
     "text": [
      "C:\\Users\\Shamikarani\\anaconda3\\lib\\site-packages\\keras\\optimizers\\optimizer_v2\\adam.py:114: UserWarning: The `lr` argument is deprecated, use `learning_rate` instead.\n",
      "  super().__init__(name, **kwargs)\n"
     ]
    },
    {
     "name": "stdout",
     "output_type": "stream",
     "text": [
      "[CV 9/10; 14/36] END activation=relu, init=normal, neuron1=12, neuron2=8;, score=0.854 total time=   1.2s\n",
      "[CV 10/10; 14/36] START activation=relu, init=normal, neuron1=12, neuron2=8.....\n"
     ]
    },
    {
     "name": "stderr",
     "output_type": "stream",
     "text": [
      "C:\\Users\\Shamikarani\\anaconda3\\lib\\site-packages\\keras\\optimizers\\optimizer_v2\\adam.py:114: UserWarning: The `lr` argument is deprecated, use `learning_rate` instead.\n",
      "  super().__init__(name, **kwargs)\n"
     ]
    },
    {
     "name": "stdout",
     "output_type": "stream",
     "text": [
      "[CV 10/10; 14/36] END activation=relu, init=normal, neuron1=12, neuron2=8;, score=0.732 total time=   1.2s\n",
      "[CV 1/10; 15/36] START activation=relu, init=normal, neuron1=12, neuron2=9......\n"
     ]
    },
    {
     "name": "stderr",
     "output_type": "stream",
     "text": [
      "C:\\Users\\Shamikarani\\anaconda3\\lib\\site-packages\\keras\\optimizers\\optimizer_v2\\adam.py:114: UserWarning: The `lr` argument is deprecated, use `learning_rate` instead.\n",
      "  super().__init__(name, **kwargs)\n"
     ]
    },
    {
     "name": "stdout",
     "output_type": "stream",
     "text": [
      "[CV 1/10; 15/36] END activation=relu, init=normal, neuron1=12, neuron2=9;, score=0.714 total time=   1.4s\n",
      "[CV 2/10; 15/36] START activation=relu, init=normal, neuron1=12, neuron2=9......\n"
     ]
    },
    {
     "name": "stderr",
     "output_type": "stream",
     "text": [
      "C:\\Users\\Shamikarani\\anaconda3\\lib\\site-packages\\keras\\optimizers\\optimizer_v2\\adam.py:114: UserWarning: The `lr` argument is deprecated, use `learning_rate` instead.\n",
      "  super().__init__(name, **kwargs)\n"
     ]
    },
    {
     "name": "stdout",
     "output_type": "stream",
     "text": [
      "[CV 2/10; 15/36] END activation=relu, init=normal, neuron1=12, neuron2=9;, score=0.714 total time=   1.1s\n",
      "[CV 3/10; 15/36] START activation=relu, init=normal, neuron1=12, neuron2=9......\n"
     ]
    },
    {
     "name": "stderr",
     "output_type": "stream",
     "text": [
      "C:\\Users\\Shamikarani\\anaconda3\\lib\\site-packages\\keras\\optimizers\\optimizer_v2\\adam.py:114: UserWarning: The `lr` argument is deprecated, use `learning_rate` instead.\n",
      "  super().__init__(name, **kwargs)\n"
     ]
    },
    {
     "name": "stdout",
     "output_type": "stream",
     "text": [
      "[CV 3/10; 15/36] END activation=relu, init=normal, neuron1=12, neuron2=9;, score=0.643 total time=   1.3s\n",
      "[CV 4/10; 15/36] START activation=relu, init=normal, neuron1=12, neuron2=9......\n"
     ]
    },
    {
     "name": "stderr",
     "output_type": "stream",
     "text": [
      "C:\\Users\\Shamikarani\\anaconda3\\lib\\site-packages\\keras\\optimizers\\optimizer_v2\\adam.py:114: UserWarning: The `lr` argument is deprecated, use `learning_rate` instead.\n",
      "  super().__init__(name, **kwargs)\n"
     ]
    },
    {
     "name": "stdout",
     "output_type": "stream",
     "text": [
      "[CV 4/10; 15/36] END activation=relu, init=normal, neuron1=12, neuron2=9;, score=0.707 total time=   1.6s\n",
      "[CV 5/10; 15/36] START activation=relu, init=normal, neuron1=12, neuron2=9......\n"
     ]
    },
    {
     "name": "stderr",
     "output_type": "stream",
     "text": [
      "C:\\Users\\Shamikarani\\anaconda3\\lib\\site-packages\\keras\\optimizers\\optimizer_v2\\adam.py:114: UserWarning: The `lr` argument is deprecated, use `learning_rate` instead.\n",
      "  super().__init__(name, **kwargs)\n"
     ]
    },
    {
     "name": "stdout",
     "output_type": "stream",
     "text": [
      "[CV 5/10; 15/36] END activation=relu, init=normal, neuron1=12, neuron2=9;, score=0.707 total time=   1.7s\n",
      "[CV 6/10; 15/36] START activation=relu, init=normal, neuron1=12, neuron2=9......\n"
     ]
    },
    {
     "name": "stderr",
     "output_type": "stream",
     "text": [
      "C:\\Users\\Shamikarani\\anaconda3\\lib\\site-packages\\keras\\optimizers\\optimizer_v2\\adam.py:114: UserWarning: The `lr` argument is deprecated, use `learning_rate` instead.\n",
      "  super().__init__(name, **kwargs)\n"
     ]
    },
    {
     "name": "stdout",
     "output_type": "stream",
     "text": [
      "[CV 6/10; 15/36] END activation=relu, init=normal, neuron1=12, neuron2=9;, score=0.805 total time=   1.5s\n",
      "[CV 7/10; 15/36] START activation=relu, init=normal, neuron1=12, neuron2=9......\n"
     ]
    },
    {
     "name": "stderr",
     "output_type": "stream",
     "text": [
      "C:\\Users\\Shamikarani\\anaconda3\\lib\\site-packages\\keras\\optimizers\\optimizer_v2\\adam.py:114: UserWarning: The `lr` argument is deprecated, use `learning_rate` instead.\n",
      "  super().__init__(name, **kwargs)\n"
     ]
    },
    {
     "name": "stdout",
     "output_type": "stream",
     "text": [
      "[CV 7/10; 15/36] END activation=relu, init=normal, neuron1=12, neuron2=9;, score=0.756 total time=   1.1s\n",
      "[CV 8/10; 15/36] START activation=relu, init=normal, neuron1=12, neuron2=9......\n"
     ]
    },
    {
     "name": "stderr",
     "output_type": "stream",
     "text": [
      "C:\\Users\\Shamikarani\\anaconda3\\lib\\site-packages\\keras\\optimizers\\optimizer_v2\\adam.py:114: UserWarning: The `lr` argument is deprecated, use `learning_rate` instead.\n",
      "  super().__init__(name, **kwargs)\n"
     ]
    },
    {
     "name": "stdout",
     "output_type": "stream",
     "text": [
      "[CV 8/10; 15/36] END activation=relu, init=normal, neuron1=12, neuron2=9;, score=0.707 total time=   1.1s\n",
      "[CV 9/10; 15/36] START activation=relu, init=normal, neuron1=12, neuron2=9......\n"
     ]
    },
    {
     "name": "stderr",
     "output_type": "stream",
     "text": [
      "C:\\Users\\Shamikarani\\anaconda3\\lib\\site-packages\\keras\\optimizers\\optimizer_v2\\adam.py:114: UserWarning: The `lr` argument is deprecated, use `learning_rate` instead.\n",
      "  super().__init__(name, **kwargs)\n"
     ]
    },
    {
     "name": "stdout",
     "output_type": "stream",
     "text": [
      "[CV 9/10; 15/36] END activation=relu, init=normal, neuron1=12, neuron2=9;, score=0.854 total time=   1.1s\n",
      "[CV 10/10; 15/36] START activation=relu, init=normal, neuron1=12, neuron2=9.....\n"
     ]
    },
    {
     "name": "stderr",
     "output_type": "stream",
     "text": [
      "C:\\Users\\Shamikarani\\anaconda3\\lib\\site-packages\\keras\\optimizers\\optimizer_v2\\adam.py:114: UserWarning: The `lr` argument is deprecated, use `learning_rate` instead.\n",
      "  super().__init__(name, **kwargs)\n"
     ]
    },
    {
     "name": "stdout",
     "output_type": "stream",
     "text": [
      "[CV 10/10; 15/36] END activation=relu, init=normal, neuron1=12, neuron2=9;, score=0.732 total time=   1.4s\n",
      "[CV 1/10; 16/36] START activation=relu, init=normal, neuron1=8, neuron2=7.......\n"
     ]
    },
    {
     "name": "stderr",
     "output_type": "stream",
     "text": [
      "C:\\Users\\Shamikarani\\anaconda3\\lib\\site-packages\\keras\\optimizers\\optimizer_v2\\adam.py:114: UserWarning: The `lr` argument is deprecated, use `learning_rate` instead.\n",
      "  super().__init__(name, **kwargs)\n"
     ]
    },
    {
     "name": "stdout",
     "output_type": "stream",
     "text": [
      "[CV 1/10; 16/36] END activation=relu, init=normal, neuron1=8, neuron2=7;, score=0.714 total time=   1.2s\n",
      "[CV 2/10; 16/36] START activation=relu, init=normal, neuron1=8, neuron2=7.......\n"
     ]
    },
    {
     "name": "stderr",
     "output_type": "stream",
     "text": [
      "C:\\Users\\Shamikarani\\anaconda3\\lib\\site-packages\\keras\\optimizers\\optimizer_v2\\adam.py:114: UserWarning: The `lr` argument is deprecated, use `learning_rate` instead.\n",
      "  super().__init__(name, **kwargs)\n"
     ]
    },
    {
     "name": "stdout",
     "output_type": "stream",
     "text": [
      "[CV 2/10; 16/36] END activation=relu, init=normal, neuron1=8, neuron2=7;, score=0.714 total time=   1.2s\n",
      "[CV 3/10; 16/36] START activation=relu, init=normal, neuron1=8, neuron2=7.......\n"
     ]
    },
    {
     "name": "stderr",
     "output_type": "stream",
     "text": [
      "C:\\Users\\Shamikarani\\anaconda3\\lib\\site-packages\\keras\\optimizers\\optimizer_v2\\adam.py:114: UserWarning: The `lr` argument is deprecated, use `learning_rate` instead.\n",
      "  super().__init__(name, **kwargs)\n"
     ]
    },
    {
     "name": "stdout",
     "output_type": "stream",
     "text": [
      "[CV 3/10; 16/36] END activation=relu, init=normal, neuron1=8, neuron2=7;, score=0.643 total time=   1.2s\n",
      "[CV 4/10; 16/36] START activation=relu, init=normal, neuron1=8, neuron2=7.......\n"
     ]
    },
    {
     "name": "stderr",
     "output_type": "stream",
     "text": [
      "C:\\Users\\Shamikarani\\anaconda3\\lib\\site-packages\\keras\\optimizers\\optimizer_v2\\adam.py:114: UserWarning: The `lr` argument is deprecated, use `learning_rate` instead.\n",
      "  super().__init__(name, **kwargs)\n"
     ]
    },
    {
     "name": "stdout",
     "output_type": "stream",
     "text": [
      "[CV 4/10; 16/36] END activation=relu, init=normal, neuron1=8, neuron2=7;, score=0.707 total time=   1.4s\n",
      "[CV 5/10; 16/36] START activation=relu, init=normal, neuron1=8, neuron2=7.......\n"
     ]
    },
    {
     "name": "stderr",
     "output_type": "stream",
     "text": [
      "C:\\Users\\Shamikarani\\anaconda3\\lib\\site-packages\\keras\\optimizers\\optimizer_v2\\adam.py:114: UserWarning: The `lr` argument is deprecated, use `learning_rate` instead.\n",
      "  super().__init__(name, **kwargs)\n"
     ]
    },
    {
     "name": "stdout",
     "output_type": "stream",
     "text": [
      "[CV 5/10; 16/36] END activation=relu, init=normal, neuron1=8, neuron2=7;, score=0.707 total time=   1.1s\n",
      "[CV 6/10; 16/36] START activation=relu, init=normal, neuron1=8, neuron2=7.......\n"
     ]
    },
    {
     "name": "stderr",
     "output_type": "stream",
     "text": [
      "C:\\Users\\Shamikarani\\anaconda3\\lib\\site-packages\\keras\\optimizers\\optimizer_v2\\adam.py:114: UserWarning: The `lr` argument is deprecated, use `learning_rate` instead.\n",
      "  super().__init__(name, **kwargs)\n"
     ]
    },
    {
     "name": "stdout",
     "output_type": "stream",
     "text": [
      "[CV 6/10; 16/36] END activation=relu, init=normal, neuron1=8, neuron2=7;, score=0.805 total time=   1.2s\n",
      "[CV 7/10; 16/36] START activation=relu, init=normal, neuron1=8, neuron2=7.......\n"
     ]
    },
    {
     "name": "stderr",
     "output_type": "stream",
     "text": [
      "C:\\Users\\Shamikarani\\anaconda3\\lib\\site-packages\\keras\\optimizers\\optimizer_v2\\adam.py:114: UserWarning: The `lr` argument is deprecated, use `learning_rate` instead.\n",
      "  super().__init__(name, **kwargs)\n"
     ]
    },
    {
     "name": "stdout",
     "output_type": "stream",
     "text": [
      "[CV 7/10; 16/36] END activation=relu, init=normal, neuron1=8, neuron2=7;, score=0.756 total time=   1.1s\n",
      "[CV 8/10; 16/36] START activation=relu, init=normal, neuron1=8, neuron2=7.......\n"
     ]
    },
    {
     "name": "stderr",
     "output_type": "stream",
     "text": [
      "C:\\Users\\Shamikarani\\anaconda3\\lib\\site-packages\\keras\\optimizers\\optimizer_v2\\adam.py:114: UserWarning: The `lr` argument is deprecated, use `learning_rate` instead.\n",
      "  super().__init__(name, **kwargs)\n"
     ]
    },
    {
     "name": "stdout",
     "output_type": "stream",
     "text": [
      "[CV 8/10; 16/36] END activation=relu, init=normal, neuron1=8, neuron2=7;, score=0.707 total time=   1.4s\n",
      "[CV 9/10; 16/36] START activation=relu, init=normal, neuron1=8, neuron2=7.......\n"
     ]
    },
    {
     "name": "stderr",
     "output_type": "stream",
     "text": [
      "C:\\Users\\Shamikarani\\anaconda3\\lib\\site-packages\\keras\\optimizers\\optimizer_v2\\adam.py:114: UserWarning: The `lr` argument is deprecated, use `learning_rate` instead.\n",
      "  super().__init__(name, **kwargs)\n"
     ]
    },
    {
     "name": "stdout",
     "output_type": "stream",
     "text": [
      "[CV 9/10; 16/36] END activation=relu, init=normal, neuron1=8, neuron2=7;, score=0.854 total time=   1.2s\n",
      "[CV 10/10; 16/36] START activation=relu, init=normal, neuron1=8, neuron2=7......\n"
     ]
    },
    {
     "name": "stderr",
     "output_type": "stream",
     "text": [
      "C:\\Users\\Shamikarani\\anaconda3\\lib\\site-packages\\keras\\optimizers\\optimizer_v2\\adam.py:114: UserWarning: The `lr` argument is deprecated, use `learning_rate` instead.\n",
      "  super().__init__(name, **kwargs)\n"
     ]
    },
    {
     "name": "stdout",
     "output_type": "stream",
     "text": [
      "[CV 10/10; 16/36] END activation=relu, init=normal, neuron1=8, neuron2=7;, score=0.732 total time=   1.2s\n",
      "[CV 1/10; 17/36] START activation=relu, init=normal, neuron1=8, neuron2=8.......\n"
     ]
    },
    {
     "name": "stderr",
     "output_type": "stream",
     "text": [
      "C:\\Users\\Shamikarani\\anaconda3\\lib\\site-packages\\keras\\optimizers\\optimizer_v2\\adam.py:114: UserWarning: The `lr` argument is deprecated, use `learning_rate` instead.\n",
      "  super().__init__(name, **kwargs)\n"
     ]
    },
    {
     "name": "stdout",
     "output_type": "stream",
     "text": [
      "[CV 1/10; 17/36] END activation=relu, init=normal, neuron1=8, neuron2=8;, score=0.714 total time=   1.2s\n",
      "[CV 2/10; 17/36] START activation=relu, init=normal, neuron1=8, neuron2=8.......\n"
     ]
    },
    {
     "name": "stderr",
     "output_type": "stream",
     "text": [
      "C:\\Users\\Shamikarani\\anaconda3\\lib\\site-packages\\keras\\optimizers\\optimizer_v2\\adam.py:114: UserWarning: The `lr` argument is deprecated, use `learning_rate` instead.\n",
      "  super().__init__(name, **kwargs)\n"
     ]
    },
    {
     "name": "stdout",
     "output_type": "stream",
     "text": [
      "[CV 2/10; 17/36] END activation=relu, init=normal, neuron1=8, neuron2=8;, score=0.714 total time=   1.1s\n",
      "[CV 3/10; 17/36] START activation=relu, init=normal, neuron1=8, neuron2=8.......\n"
     ]
    },
    {
     "name": "stderr",
     "output_type": "stream",
     "text": [
      "C:\\Users\\Shamikarani\\anaconda3\\lib\\site-packages\\keras\\optimizers\\optimizer_v2\\adam.py:114: UserWarning: The `lr` argument is deprecated, use `learning_rate` instead.\n",
      "  super().__init__(name, **kwargs)\n"
     ]
    },
    {
     "name": "stdout",
     "output_type": "stream",
     "text": [
      "[CV 3/10; 17/36] END activation=relu, init=normal, neuron1=8, neuron2=8;, score=0.643 total time=   1.4s\n",
      "[CV 4/10; 17/36] START activation=relu, init=normal, neuron1=8, neuron2=8.......\n"
     ]
    },
    {
     "name": "stderr",
     "output_type": "stream",
     "text": [
      "C:\\Users\\Shamikarani\\anaconda3\\lib\\site-packages\\keras\\optimizers\\optimizer_v2\\adam.py:114: UserWarning: The `lr` argument is deprecated, use `learning_rate` instead.\n",
      "  super().__init__(name, **kwargs)\n"
     ]
    },
    {
     "name": "stdout",
     "output_type": "stream",
     "text": [
      "[CV 4/10; 17/36] END activation=relu, init=normal, neuron1=8, neuron2=8;, score=0.707 total time=   1.1s\n",
      "[CV 5/10; 17/36] START activation=relu, init=normal, neuron1=8, neuron2=8.......\n"
     ]
    },
    {
     "name": "stderr",
     "output_type": "stream",
     "text": [
      "C:\\Users\\Shamikarani\\anaconda3\\lib\\site-packages\\keras\\optimizers\\optimizer_v2\\adam.py:114: UserWarning: The `lr` argument is deprecated, use `learning_rate` instead.\n",
      "  super().__init__(name, **kwargs)\n"
     ]
    },
    {
     "name": "stdout",
     "output_type": "stream",
     "text": [
      "[CV 5/10; 17/36] END activation=relu, init=normal, neuron1=8, neuron2=8;, score=0.707 total time=   1.1s\n",
      "[CV 6/10; 17/36] START activation=relu, init=normal, neuron1=8, neuron2=8.......\n"
     ]
    },
    {
     "name": "stderr",
     "output_type": "stream",
     "text": [
      "C:\\Users\\Shamikarani\\anaconda3\\lib\\site-packages\\keras\\optimizers\\optimizer_v2\\adam.py:114: UserWarning: The `lr` argument is deprecated, use `learning_rate` instead.\n",
      "  super().__init__(name, **kwargs)\n"
     ]
    },
    {
     "name": "stdout",
     "output_type": "stream",
     "text": [
      "[CV 6/10; 17/36] END activation=relu, init=normal, neuron1=8, neuron2=8;, score=0.805 total time=   1.2s\n",
      "[CV 7/10; 17/36] START activation=relu, init=normal, neuron1=8, neuron2=8.......\n"
     ]
    },
    {
     "name": "stderr",
     "output_type": "stream",
     "text": [
      "C:\\Users\\Shamikarani\\anaconda3\\lib\\site-packages\\keras\\optimizers\\optimizer_v2\\adam.py:114: UserWarning: The `lr` argument is deprecated, use `learning_rate` instead.\n",
      "  super().__init__(name, **kwargs)\n"
     ]
    },
    {
     "name": "stdout",
     "output_type": "stream",
     "text": [
      "[CV 7/10; 17/36] END activation=relu, init=normal, neuron1=8, neuron2=8;, score=0.756 total time=   1.5s\n",
      "[CV 8/10; 17/36] START activation=relu, init=normal, neuron1=8, neuron2=8.......\n"
     ]
    },
    {
     "name": "stderr",
     "output_type": "stream",
     "text": [
      "C:\\Users\\Shamikarani\\anaconda3\\lib\\site-packages\\keras\\optimizers\\optimizer_v2\\adam.py:114: UserWarning: The `lr` argument is deprecated, use `learning_rate` instead.\n",
      "  super().__init__(name, **kwargs)\n"
     ]
    },
    {
     "name": "stdout",
     "output_type": "stream",
     "text": [
      "[CV 8/10; 17/36] END activation=relu, init=normal, neuron1=8, neuron2=8;, score=0.707 total time=   1.2s\n",
      "[CV 9/10; 17/36] START activation=relu, init=normal, neuron1=8, neuron2=8.......\n"
     ]
    },
    {
     "name": "stderr",
     "output_type": "stream",
     "text": [
      "C:\\Users\\Shamikarani\\anaconda3\\lib\\site-packages\\keras\\optimizers\\optimizer_v2\\adam.py:114: UserWarning: The `lr` argument is deprecated, use `learning_rate` instead.\n",
      "  super().__init__(name, **kwargs)\n"
     ]
    },
    {
     "name": "stdout",
     "output_type": "stream",
     "text": [
      "[CV 9/10; 17/36] END activation=relu, init=normal, neuron1=8, neuron2=8;, score=0.854 total time=   1.2s\n",
      "[CV 10/10; 17/36] START activation=relu, init=normal, neuron1=8, neuron2=8......\n"
     ]
    },
    {
     "name": "stderr",
     "output_type": "stream",
     "text": [
      "C:\\Users\\Shamikarani\\anaconda3\\lib\\site-packages\\keras\\optimizers\\optimizer_v2\\adam.py:114: UserWarning: The `lr` argument is deprecated, use `learning_rate` instead.\n",
      "  super().__init__(name, **kwargs)\n"
     ]
    },
    {
     "name": "stdout",
     "output_type": "stream",
     "text": [
      "[CV 10/10; 17/36] END activation=relu, init=normal, neuron1=8, neuron2=8;, score=0.732 total time=   1.1s\n",
      "[CV 1/10; 18/36] START activation=relu, init=normal, neuron1=8, neuron2=9.......\n"
     ]
    },
    {
     "name": "stderr",
     "output_type": "stream",
     "text": [
      "C:\\Users\\Shamikarani\\anaconda3\\lib\\site-packages\\keras\\optimizers\\optimizer_v2\\adam.py:114: UserWarning: The `lr` argument is deprecated, use `learning_rate` instead.\n",
      "  super().__init__(name, **kwargs)\n"
     ]
    },
    {
     "name": "stdout",
     "output_type": "stream",
     "text": [
      "[CV 1/10; 18/36] END activation=relu, init=normal, neuron1=8, neuron2=9;, score=0.714 total time=   1.4s\n",
      "[CV 2/10; 18/36] START activation=relu, init=normal, neuron1=8, neuron2=9.......\n"
     ]
    },
    {
     "name": "stderr",
     "output_type": "stream",
     "text": [
      "C:\\Users\\Shamikarani\\anaconda3\\lib\\site-packages\\keras\\optimizers\\optimizer_v2\\adam.py:114: UserWarning: The `lr` argument is deprecated, use `learning_rate` instead.\n",
      "  super().__init__(name, **kwargs)\n"
     ]
    },
    {
     "name": "stdout",
     "output_type": "stream",
     "text": [
      "[CV 2/10; 18/36] END activation=relu, init=normal, neuron1=8, neuron2=9;, score=0.714 total time=   1.2s\n",
      "[CV 3/10; 18/36] START activation=relu, init=normal, neuron1=8, neuron2=9.......\n"
     ]
    },
    {
     "name": "stderr",
     "output_type": "stream",
     "text": [
      "C:\\Users\\Shamikarani\\anaconda3\\lib\\site-packages\\keras\\optimizers\\optimizer_v2\\adam.py:114: UserWarning: The `lr` argument is deprecated, use `learning_rate` instead.\n",
      "  super().__init__(name, **kwargs)\n"
     ]
    },
    {
     "name": "stdout",
     "output_type": "stream",
     "text": [
      "[CV 3/10; 18/36] END activation=relu, init=normal, neuron1=8, neuron2=9;, score=0.643 total time=   1.2s\n",
      "[CV 4/10; 18/36] START activation=relu, init=normal, neuron1=8, neuron2=9.......\n"
     ]
    },
    {
     "name": "stderr",
     "output_type": "stream",
     "text": [
      "C:\\Users\\Shamikarani\\anaconda3\\lib\\site-packages\\keras\\optimizers\\optimizer_v2\\adam.py:114: UserWarning: The `lr` argument is deprecated, use `learning_rate` instead.\n",
      "  super().__init__(name, **kwargs)\n"
     ]
    },
    {
     "name": "stdout",
     "output_type": "stream",
     "text": [
      "[CV 4/10; 18/36] END activation=relu, init=normal, neuron1=8, neuron2=9;, score=0.707 total time=   1.2s\n",
      "[CV 5/10; 18/36] START activation=relu, init=normal, neuron1=8, neuron2=9.......\n"
     ]
    },
    {
     "name": "stderr",
     "output_type": "stream",
     "text": [
      "C:\\Users\\Shamikarani\\anaconda3\\lib\\site-packages\\keras\\optimizers\\optimizer_v2\\adam.py:114: UserWarning: The `lr` argument is deprecated, use `learning_rate` instead.\n",
      "  super().__init__(name, **kwargs)\n"
     ]
    },
    {
     "name": "stdout",
     "output_type": "stream",
     "text": [
      "[CV 5/10; 18/36] END activation=relu, init=normal, neuron1=8, neuron2=9;, score=0.707 total time=   1.2s\n",
      "[CV 6/10; 18/36] START activation=relu, init=normal, neuron1=8, neuron2=9.......\n"
     ]
    },
    {
     "name": "stderr",
     "output_type": "stream",
     "text": [
      "C:\\Users\\Shamikarani\\anaconda3\\lib\\site-packages\\keras\\optimizers\\optimizer_v2\\adam.py:114: UserWarning: The `lr` argument is deprecated, use `learning_rate` instead.\n",
      "  super().__init__(name, **kwargs)\n"
     ]
    },
    {
     "name": "stdout",
     "output_type": "stream",
     "text": [
      "[CV 6/10; 18/36] END activation=relu, init=normal, neuron1=8, neuron2=9;, score=0.805 total time=   1.4s\n",
      "[CV 7/10; 18/36] START activation=relu, init=normal, neuron1=8, neuron2=9.......\n"
     ]
    },
    {
     "name": "stderr",
     "output_type": "stream",
     "text": [
      "C:\\Users\\Shamikarani\\anaconda3\\lib\\site-packages\\keras\\optimizers\\optimizer_v2\\adam.py:114: UserWarning: The `lr` argument is deprecated, use `learning_rate` instead.\n",
      "  super().__init__(name, **kwargs)\n"
     ]
    },
    {
     "name": "stdout",
     "output_type": "stream",
     "text": [
      "[CV 7/10; 18/36] END activation=relu, init=normal, neuron1=8, neuron2=9;, score=0.756 total time=   1.1s\n",
      "[CV 8/10; 18/36] START activation=relu, init=normal, neuron1=8, neuron2=9.......\n"
     ]
    },
    {
     "name": "stderr",
     "output_type": "stream",
     "text": [
      "C:\\Users\\Shamikarani\\anaconda3\\lib\\site-packages\\keras\\optimizers\\optimizer_v2\\adam.py:114: UserWarning: The `lr` argument is deprecated, use `learning_rate` instead.\n",
      "  super().__init__(name, **kwargs)\n"
     ]
    },
    {
     "name": "stdout",
     "output_type": "stream",
     "text": [
      "[CV 8/10; 18/36] END activation=relu, init=normal, neuron1=8, neuron2=9;, score=0.707 total time=   1.2s\n",
      "[CV 9/10; 18/36] START activation=relu, init=normal, neuron1=8, neuron2=9.......\n"
     ]
    },
    {
     "name": "stderr",
     "output_type": "stream",
     "text": [
      "C:\\Users\\Shamikarani\\anaconda3\\lib\\site-packages\\keras\\optimizers\\optimizer_v2\\adam.py:114: UserWarning: The `lr` argument is deprecated, use `learning_rate` instead.\n",
      "  super().__init__(name, **kwargs)\n"
     ]
    },
    {
     "name": "stdout",
     "output_type": "stream",
     "text": [
      "[CV 9/10; 18/36] END activation=relu, init=normal, neuron1=8, neuron2=9;, score=0.854 total time=   1.1s\n",
      "[CV 10/10; 18/36] START activation=relu, init=normal, neuron1=8, neuron2=9......\n"
     ]
    },
    {
     "name": "stderr",
     "output_type": "stream",
     "text": [
      "C:\\Users\\Shamikarani\\anaconda3\\lib\\site-packages\\keras\\optimizers\\optimizer_v2\\adam.py:114: UserWarning: The `lr` argument is deprecated, use `learning_rate` instead.\n",
      "  super().__init__(name, **kwargs)\n"
     ]
    },
    {
     "name": "stdout",
     "output_type": "stream",
     "text": [
      "[CV 10/10; 18/36] END activation=relu, init=normal, neuron1=8, neuron2=9;, score=0.732 total time=   1.4s\n",
      "[CV 1/10; 19/36] START activation=tanh, init=uniform, neuron1=10, neuron2=7.....\n"
     ]
    },
    {
     "name": "stderr",
     "output_type": "stream",
     "text": [
      "C:\\Users\\Shamikarani\\anaconda3\\lib\\site-packages\\keras\\optimizers\\optimizer_v2\\adam.py:114: UserWarning: The `lr` argument is deprecated, use `learning_rate` instead.\n",
      "  super().__init__(name, **kwargs)\n"
     ]
    },
    {
     "name": "stdout",
     "output_type": "stream",
     "text": [
      "[CV 1/10; 19/36] END activation=tanh, init=uniform, neuron1=10, neuron2=7;, score=0.714 total time=   1.2s\n",
      "[CV 2/10; 19/36] START activation=tanh, init=uniform, neuron1=10, neuron2=7.....\n"
     ]
    },
    {
     "name": "stderr",
     "output_type": "stream",
     "text": [
      "C:\\Users\\Shamikarani\\anaconda3\\lib\\site-packages\\keras\\optimizers\\optimizer_v2\\adam.py:114: UserWarning: The `lr` argument is deprecated, use `learning_rate` instead.\n",
      "  super().__init__(name, **kwargs)\n"
     ]
    },
    {
     "name": "stdout",
     "output_type": "stream",
     "text": [
      "[CV 2/10; 19/36] END activation=tanh, init=uniform, neuron1=10, neuron2=7;, score=0.714 total time=   1.3s\n",
      "[CV 3/10; 19/36] START activation=tanh, init=uniform, neuron1=10, neuron2=7.....\n"
     ]
    },
    {
     "name": "stderr",
     "output_type": "stream",
     "text": [
      "C:\\Users\\Shamikarani\\anaconda3\\lib\\site-packages\\keras\\optimizers\\optimizer_v2\\adam.py:114: UserWarning: The `lr` argument is deprecated, use `learning_rate` instead.\n",
      "  super().__init__(name, **kwargs)\n"
     ]
    },
    {
     "name": "stdout",
     "output_type": "stream",
     "text": [
      "[CV 3/10; 19/36] END activation=tanh, init=uniform, neuron1=10, neuron2=7;, score=0.643 total time=   1.1s\n",
      "[CV 4/10; 19/36] START activation=tanh, init=uniform, neuron1=10, neuron2=7.....\n"
     ]
    },
    {
     "name": "stderr",
     "output_type": "stream",
     "text": [
      "C:\\Users\\Shamikarani\\anaconda3\\lib\\site-packages\\keras\\optimizers\\optimizer_v2\\adam.py:114: UserWarning: The `lr` argument is deprecated, use `learning_rate` instead.\n",
      "  super().__init__(name, **kwargs)\n"
     ]
    },
    {
     "name": "stdout",
     "output_type": "stream",
     "text": [
      "[CV 4/10; 19/36] END activation=tanh, init=uniform, neuron1=10, neuron2=7;, score=0.707 total time=   1.4s\n",
      "[CV 5/10; 19/36] START activation=tanh, init=uniform, neuron1=10, neuron2=7.....\n"
     ]
    },
    {
     "name": "stderr",
     "output_type": "stream",
     "text": [
      "C:\\Users\\Shamikarani\\anaconda3\\lib\\site-packages\\keras\\optimizers\\optimizer_v2\\adam.py:114: UserWarning: The `lr` argument is deprecated, use `learning_rate` instead.\n",
      "  super().__init__(name, **kwargs)\n"
     ]
    },
    {
     "name": "stdout",
     "output_type": "stream",
     "text": [
      "[CV 5/10; 19/36] END activation=tanh, init=uniform, neuron1=10, neuron2=7;, score=0.707 total time=   1.4s\n",
      "[CV 6/10; 19/36] START activation=tanh, init=uniform, neuron1=10, neuron2=7.....\n"
     ]
    },
    {
     "name": "stderr",
     "output_type": "stream",
     "text": [
      "C:\\Users\\Shamikarani\\anaconda3\\lib\\site-packages\\keras\\optimizers\\optimizer_v2\\adam.py:114: UserWarning: The `lr` argument is deprecated, use `learning_rate` instead.\n",
      "  super().__init__(name, **kwargs)\n"
     ]
    },
    {
     "name": "stdout",
     "output_type": "stream",
     "text": [
      "[CV 6/10; 19/36] END activation=tanh, init=uniform, neuron1=10, neuron2=7;, score=0.805 total time=   1.4s\n",
      "[CV 7/10; 19/36] START activation=tanh, init=uniform, neuron1=10, neuron2=7.....\n"
     ]
    },
    {
     "name": "stderr",
     "output_type": "stream",
     "text": [
      "C:\\Users\\Shamikarani\\anaconda3\\lib\\site-packages\\keras\\optimizers\\optimizer_v2\\adam.py:114: UserWarning: The `lr` argument is deprecated, use `learning_rate` instead.\n",
      "  super().__init__(name, **kwargs)\n"
     ]
    },
    {
     "name": "stdout",
     "output_type": "stream",
     "text": [
      "[CV 7/10; 19/36] END activation=tanh, init=uniform, neuron1=10, neuron2=7;, score=0.756 total time=   1.5s\n",
      "[CV 8/10; 19/36] START activation=tanh, init=uniform, neuron1=10, neuron2=7.....\n"
     ]
    },
    {
     "name": "stderr",
     "output_type": "stream",
     "text": [
      "C:\\Users\\Shamikarani\\anaconda3\\lib\\site-packages\\keras\\optimizers\\optimizer_v2\\adam.py:114: UserWarning: The `lr` argument is deprecated, use `learning_rate` instead.\n",
      "  super().__init__(name, **kwargs)\n"
     ]
    },
    {
     "name": "stdout",
     "output_type": "stream",
     "text": [
      "[CV 8/10; 19/36] END activation=tanh, init=uniform, neuron1=10, neuron2=7;, score=0.707 total time=   1.4s\n",
      "[CV 9/10; 19/36] START activation=tanh, init=uniform, neuron1=10, neuron2=7.....\n"
     ]
    },
    {
     "name": "stderr",
     "output_type": "stream",
     "text": [
      "C:\\Users\\Shamikarani\\anaconda3\\lib\\site-packages\\keras\\optimizers\\optimizer_v2\\adam.py:114: UserWarning: The `lr` argument is deprecated, use `learning_rate` instead.\n",
      "  super().__init__(name, **kwargs)\n"
     ]
    },
    {
     "name": "stdout",
     "output_type": "stream",
     "text": [
      "[CV 9/10; 19/36] END activation=tanh, init=uniform, neuron1=10, neuron2=7;, score=0.854 total time=   1.5s\n",
      "[CV 10/10; 19/36] START activation=tanh, init=uniform, neuron1=10, neuron2=7....\n"
     ]
    },
    {
     "name": "stderr",
     "output_type": "stream",
     "text": [
      "C:\\Users\\Shamikarani\\anaconda3\\lib\\site-packages\\keras\\optimizers\\optimizer_v2\\adam.py:114: UserWarning: The `lr` argument is deprecated, use `learning_rate` instead.\n",
      "  super().__init__(name, **kwargs)\n"
     ]
    },
    {
     "name": "stdout",
     "output_type": "stream",
     "text": [
      "[CV 10/10; 19/36] END activation=tanh, init=uniform, neuron1=10, neuron2=7;, score=0.732 total time=   1.1s\n",
      "[CV 1/10; 20/36] START activation=tanh, init=uniform, neuron1=10, neuron2=8.....\n"
     ]
    },
    {
     "name": "stderr",
     "output_type": "stream",
     "text": [
      "C:\\Users\\Shamikarani\\anaconda3\\lib\\site-packages\\keras\\optimizers\\optimizer_v2\\adam.py:114: UserWarning: The `lr` argument is deprecated, use `learning_rate` instead.\n",
      "  super().__init__(name, **kwargs)\n"
     ]
    },
    {
     "name": "stdout",
     "output_type": "stream",
     "text": [
      "[CV 1/10; 20/36] END activation=tanh, init=uniform, neuron1=10, neuron2=8;, score=0.714 total time=   1.2s\n",
      "[CV 2/10; 20/36] START activation=tanh, init=uniform, neuron1=10, neuron2=8.....\n"
     ]
    },
    {
     "name": "stderr",
     "output_type": "stream",
     "text": [
      "C:\\Users\\Shamikarani\\anaconda3\\lib\\site-packages\\keras\\optimizers\\optimizer_v2\\adam.py:114: UserWarning: The `lr` argument is deprecated, use `learning_rate` instead.\n",
      "  super().__init__(name, **kwargs)\n"
     ]
    },
    {
     "name": "stdout",
     "output_type": "stream",
     "text": [
      "[CV 2/10; 20/36] END activation=tanh, init=uniform, neuron1=10, neuron2=8;, score=0.714 total time=   1.2s\n",
      "[CV 3/10; 20/36] START activation=tanh, init=uniform, neuron1=10, neuron2=8.....\n"
     ]
    },
    {
     "name": "stderr",
     "output_type": "stream",
     "text": [
      "C:\\Users\\Shamikarani\\anaconda3\\lib\\site-packages\\keras\\optimizers\\optimizer_v2\\adam.py:114: UserWarning: The `lr` argument is deprecated, use `learning_rate` instead.\n",
      "  super().__init__(name, **kwargs)\n"
     ]
    },
    {
     "name": "stdout",
     "output_type": "stream",
     "text": [
      "[CV 3/10; 20/36] END activation=tanh, init=uniform, neuron1=10, neuron2=8;, score=0.643 total time=   1.4s\n",
      "[CV 4/10; 20/36] START activation=tanh, init=uniform, neuron1=10, neuron2=8.....\n"
     ]
    },
    {
     "name": "stderr",
     "output_type": "stream",
     "text": [
      "C:\\Users\\Shamikarani\\anaconda3\\lib\\site-packages\\keras\\optimizers\\optimizer_v2\\adam.py:114: UserWarning: The `lr` argument is deprecated, use `learning_rate` instead.\n",
      "  super().__init__(name, **kwargs)\n"
     ]
    },
    {
     "name": "stdout",
     "output_type": "stream",
     "text": [
      "[CV 4/10; 20/36] END activation=tanh, init=uniform, neuron1=10, neuron2=8;, score=0.707 total time=   1.1s\n",
      "[CV 5/10; 20/36] START activation=tanh, init=uniform, neuron1=10, neuron2=8.....\n"
     ]
    },
    {
     "name": "stderr",
     "output_type": "stream",
     "text": [
      "C:\\Users\\Shamikarani\\anaconda3\\lib\\site-packages\\keras\\optimizers\\optimizer_v2\\adam.py:114: UserWarning: The `lr` argument is deprecated, use `learning_rate` instead.\n",
      "  super().__init__(name, **kwargs)\n"
     ]
    },
    {
     "name": "stdout",
     "output_type": "stream",
     "text": [
      "[CV 5/10; 20/36] END activation=tanh, init=uniform, neuron1=10, neuron2=8;, score=0.707 total time=   1.1s\n",
      "[CV 6/10; 20/36] START activation=tanh, init=uniform, neuron1=10, neuron2=8.....\n"
     ]
    },
    {
     "name": "stderr",
     "output_type": "stream",
     "text": [
      "C:\\Users\\Shamikarani\\anaconda3\\lib\\site-packages\\keras\\optimizers\\optimizer_v2\\adam.py:114: UserWarning: The `lr` argument is deprecated, use `learning_rate` instead.\n",
      "  super().__init__(name, **kwargs)\n"
     ]
    },
    {
     "name": "stdout",
     "output_type": "stream",
     "text": [
      "[CV 6/10; 20/36] END activation=tanh, init=uniform, neuron1=10, neuron2=8;, score=0.805 total time=   1.2s\n",
      "[CV 7/10; 20/36] START activation=tanh, init=uniform, neuron1=10, neuron2=8.....\n"
     ]
    },
    {
     "name": "stderr",
     "output_type": "stream",
     "text": [
      "C:\\Users\\Shamikarani\\anaconda3\\lib\\site-packages\\keras\\optimizers\\optimizer_v2\\adam.py:114: UserWarning: The `lr` argument is deprecated, use `learning_rate` instead.\n",
      "  super().__init__(name, **kwargs)\n"
     ]
    },
    {
     "name": "stdout",
     "output_type": "stream",
     "text": [
      "[CV 7/10; 20/36] END activation=tanh, init=uniform, neuron1=10, neuron2=8;, score=0.756 total time=   1.2s\n",
      "[CV 8/10; 20/36] START activation=tanh, init=uniform, neuron1=10, neuron2=8.....\n"
     ]
    },
    {
     "name": "stderr",
     "output_type": "stream",
     "text": [
      "C:\\Users\\Shamikarani\\anaconda3\\lib\\site-packages\\keras\\optimizers\\optimizer_v2\\adam.py:114: UserWarning: The `lr` argument is deprecated, use `learning_rate` instead.\n",
      "  super().__init__(name, **kwargs)\n"
     ]
    },
    {
     "name": "stdout",
     "output_type": "stream",
     "text": [
      "[CV 8/10; 20/36] END activation=tanh, init=uniform, neuron1=10, neuron2=8;, score=0.707 total time=   1.4s\n",
      "[CV 9/10; 20/36] START activation=tanh, init=uniform, neuron1=10, neuron2=8.....\n"
     ]
    },
    {
     "name": "stderr",
     "output_type": "stream",
     "text": [
      "C:\\Users\\Shamikarani\\anaconda3\\lib\\site-packages\\keras\\optimizers\\optimizer_v2\\adam.py:114: UserWarning: The `lr` argument is deprecated, use `learning_rate` instead.\n",
      "  super().__init__(name, **kwargs)\n"
     ]
    },
    {
     "name": "stdout",
     "output_type": "stream",
     "text": [
      "[CV 9/10; 20/36] END activation=tanh, init=uniform, neuron1=10, neuron2=8;, score=0.854 total time=   1.2s\n",
      "[CV 10/10; 20/36] START activation=tanh, init=uniform, neuron1=10, neuron2=8....\n"
     ]
    },
    {
     "name": "stderr",
     "output_type": "stream",
     "text": [
      "C:\\Users\\Shamikarani\\anaconda3\\lib\\site-packages\\keras\\optimizers\\optimizer_v2\\adam.py:114: UserWarning: The `lr` argument is deprecated, use `learning_rate` instead.\n",
      "  super().__init__(name, **kwargs)\n"
     ]
    },
    {
     "name": "stdout",
     "output_type": "stream",
     "text": [
      "[CV 10/10; 20/36] END activation=tanh, init=uniform, neuron1=10, neuron2=8;, score=0.732 total time=   1.3s\n",
      "[CV 1/10; 21/36] START activation=tanh, init=uniform, neuron1=10, neuron2=9.....\n"
     ]
    },
    {
     "name": "stderr",
     "output_type": "stream",
     "text": [
      "C:\\Users\\Shamikarani\\anaconda3\\lib\\site-packages\\keras\\optimizers\\optimizer_v2\\adam.py:114: UserWarning: The `lr` argument is deprecated, use `learning_rate` instead.\n",
      "  super().__init__(name, **kwargs)\n"
     ]
    },
    {
     "name": "stdout",
     "output_type": "stream",
     "text": [
      "[CV 1/10; 21/36] END activation=tanh, init=uniform, neuron1=10, neuron2=9;, score=0.714 total time=   1.2s\n",
      "[CV 2/10; 21/36] START activation=tanh, init=uniform, neuron1=10, neuron2=9.....\n"
     ]
    },
    {
     "name": "stderr",
     "output_type": "stream",
     "text": [
      "C:\\Users\\Shamikarani\\anaconda3\\lib\\site-packages\\keras\\optimizers\\optimizer_v2\\adam.py:114: UserWarning: The `lr` argument is deprecated, use `learning_rate` instead.\n",
      "  super().__init__(name, **kwargs)\n"
     ]
    },
    {
     "name": "stdout",
     "output_type": "stream",
     "text": [
      "[CV 2/10; 21/36] END activation=tanh, init=uniform, neuron1=10, neuron2=9;, score=0.714 total time=   1.4s\n",
      "[CV 3/10; 21/36] START activation=tanh, init=uniform, neuron1=10, neuron2=9.....\n"
     ]
    },
    {
     "name": "stderr",
     "output_type": "stream",
     "text": [
      "C:\\Users\\Shamikarani\\anaconda3\\lib\\site-packages\\keras\\optimizers\\optimizer_v2\\adam.py:114: UserWarning: The `lr` argument is deprecated, use `learning_rate` instead.\n",
      "  super().__init__(name, **kwargs)\n"
     ]
    },
    {
     "name": "stdout",
     "output_type": "stream",
     "text": [
      "[CV 3/10; 21/36] END activation=tanh, init=uniform, neuron1=10, neuron2=9;, score=0.643 total time=   1.1s\n",
      "[CV 4/10; 21/36] START activation=tanh, init=uniform, neuron1=10, neuron2=9.....\n"
     ]
    },
    {
     "name": "stderr",
     "output_type": "stream",
     "text": [
      "C:\\Users\\Shamikarani\\anaconda3\\lib\\site-packages\\keras\\optimizers\\optimizer_v2\\adam.py:114: UserWarning: The `lr` argument is deprecated, use `learning_rate` instead.\n",
      "  super().__init__(name, **kwargs)\n"
     ]
    },
    {
     "name": "stdout",
     "output_type": "stream",
     "text": [
      "[CV 4/10; 21/36] END activation=tanh, init=uniform, neuron1=10, neuron2=9;, score=0.707 total time=   1.1s\n",
      "[CV 5/10; 21/36] START activation=tanh, init=uniform, neuron1=10, neuron2=9.....\n"
     ]
    },
    {
     "name": "stderr",
     "output_type": "stream",
     "text": [
      "C:\\Users\\Shamikarani\\anaconda3\\lib\\site-packages\\keras\\optimizers\\optimizer_v2\\adam.py:114: UserWarning: The `lr` argument is deprecated, use `learning_rate` instead.\n",
      "  super().__init__(name, **kwargs)\n"
     ]
    },
    {
     "name": "stdout",
     "output_type": "stream",
     "text": [
      "[CV 5/10; 21/36] END activation=tanh, init=uniform, neuron1=10, neuron2=9;, score=0.707 total time=   1.2s\n",
      "[CV 6/10; 21/36] START activation=tanh, init=uniform, neuron1=10, neuron2=9.....\n"
     ]
    },
    {
     "name": "stderr",
     "output_type": "stream",
     "text": [
      "C:\\Users\\Shamikarani\\anaconda3\\lib\\site-packages\\keras\\optimizers\\optimizer_v2\\adam.py:114: UserWarning: The `lr` argument is deprecated, use `learning_rate` instead.\n",
      "  super().__init__(name, **kwargs)\n"
     ]
    },
    {
     "name": "stdout",
     "output_type": "stream",
     "text": [
      "[CV 6/10; 21/36] END activation=tanh, init=uniform, neuron1=10, neuron2=9;, score=0.805 total time=   1.4s\n",
      "[CV 7/10; 21/36] START activation=tanh, init=uniform, neuron1=10, neuron2=9.....\n"
     ]
    },
    {
     "name": "stderr",
     "output_type": "stream",
     "text": [
      "C:\\Users\\Shamikarani\\anaconda3\\lib\\site-packages\\keras\\optimizers\\optimizer_v2\\adam.py:114: UserWarning: The `lr` argument is deprecated, use `learning_rate` instead.\n",
      "  super().__init__(name, **kwargs)\n"
     ]
    },
    {
     "name": "stdout",
     "output_type": "stream",
     "text": [
      "[CV 7/10; 21/36] END activation=tanh, init=uniform, neuron1=10, neuron2=9;, score=0.756 total time=   1.1s\n",
      "[CV 8/10; 21/36] START activation=tanh, init=uniform, neuron1=10, neuron2=9.....\n"
     ]
    },
    {
     "name": "stderr",
     "output_type": "stream",
     "text": [
      "C:\\Users\\Shamikarani\\anaconda3\\lib\\site-packages\\keras\\optimizers\\optimizer_v2\\adam.py:114: UserWarning: The `lr` argument is deprecated, use `learning_rate` instead.\n",
      "  super().__init__(name, **kwargs)\n"
     ]
    },
    {
     "name": "stdout",
     "output_type": "stream",
     "text": [
      "[CV 8/10; 21/36] END activation=tanh, init=uniform, neuron1=10, neuron2=9;, score=0.707 total time=   1.2s\n",
      "[CV 9/10; 21/36] START activation=tanh, init=uniform, neuron1=10, neuron2=9.....\n"
     ]
    },
    {
     "name": "stderr",
     "output_type": "stream",
     "text": [
      "C:\\Users\\Shamikarani\\anaconda3\\lib\\site-packages\\keras\\optimizers\\optimizer_v2\\adam.py:114: UserWarning: The `lr` argument is deprecated, use `learning_rate` instead.\n",
      "  super().__init__(name, **kwargs)\n"
     ]
    },
    {
     "name": "stdout",
     "output_type": "stream",
     "text": [
      "[CV 9/10; 21/36] END activation=tanh, init=uniform, neuron1=10, neuron2=9;, score=0.854 total time=   1.1s\n",
      "[CV 10/10; 21/36] START activation=tanh, init=uniform, neuron1=10, neuron2=9....\n"
     ]
    },
    {
     "name": "stderr",
     "output_type": "stream",
     "text": [
      "C:\\Users\\Shamikarani\\anaconda3\\lib\\site-packages\\keras\\optimizers\\optimizer_v2\\adam.py:114: UserWarning: The `lr` argument is deprecated, use `learning_rate` instead.\n",
      "  super().__init__(name, **kwargs)\n"
     ]
    },
    {
     "name": "stdout",
     "output_type": "stream",
     "text": [
      "[CV 10/10; 21/36] END activation=tanh, init=uniform, neuron1=10, neuron2=9;, score=0.732 total time=   1.1s\n",
      "[CV 1/10; 22/36] START activation=tanh, init=uniform, neuron1=12, neuron2=7.....\n"
     ]
    },
    {
     "name": "stderr",
     "output_type": "stream",
     "text": [
      "C:\\Users\\Shamikarani\\anaconda3\\lib\\site-packages\\keras\\optimizers\\optimizer_v2\\adam.py:114: UserWarning: The `lr` argument is deprecated, use `learning_rate` instead.\n",
      "  super().__init__(name, **kwargs)\n"
     ]
    },
    {
     "name": "stdout",
     "output_type": "stream",
     "text": [
      "[CV 1/10; 22/36] END activation=tanh, init=uniform, neuron1=12, neuron2=7;, score=0.714 total time=   1.4s\n",
      "[CV 2/10; 22/36] START activation=tanh, init=uniform, neuron1=12, neuron2=7.....\n"
     ]
    },
    {
     "name": "stderr",
     "output_type": "stream",
     "text": [
      "C:\\Users\\Shamikarani\\anaconda3\\lib\\site-packages\\keras\\optimizers\\optimizer_v2\\adam.py:114: UserWarning: The `lr` argument is deprecated, use `learning_rate` instead.\n",
      "  super().__init__(name, **kwargs)\n"
     ]
    },
    {
     "name": "stdout",
     "output_type": "stream",
     "text": [
      "[CV 2/10; 22/36] END activation=tanh, init=uniform, neuron1=12, neuron2=7;, score=0.714 total time=   1.2s\n",
      "[CV 3/10; 22/36] START activation=tanh, init=uniform, neuron1=12, neuron2=7.....\n"
     ]
    },
    {
     "name": "stderr",
     "output_type": "stream",
     "text": [
      "C:\\Users\\Shamikarani\\anaconda3\\lib\\site-packages\\keras\\optimizers\\optimizer_v2\\adam.py:114: UserWarning: The `lr` argument is deprecated, use `learning_rate` instead.\n",
      "  super().__init__(name, **kwargs)\n"
     ]
    },
    {
     "name": "stdout",
     "output_type": "stream",
     "text": [
      "[CV 3/10; 22/36] END activation=tanh, init=uniform, neuron1=12, neuron2=7;, score=0.643 total time=   1.3s\n",
      "[CV 4/10; 22/36] START activation=tanh, init=uniform, neuron1=12, neuron2=7.....\n"
     ]
    },
    {
     "name": "stderr",
     "output_type": "stream",
     "text": [
      "C:\\Users\\Shamikarani\\anaconda3\\lib\\site-packages\\keras\\optimizers\\optimizer_v2\\adam.py:114: UserWarning: The `lr` argument is deprecated, use `learning_rate` instead.\n",
      "  super().__init__(name, **kwargs)\n"
     ]
    },
    {
     "name": "stdout",
     "output_type": "stream",
     "text": [
      "[CV 4/10; 22/36] END activation=tanh, init=uniform, neuron1=12, neuron2=7;, score=0.707 total time=   1.1s\n",
      "[CV 5/10; 22/36] START activation=tanh, init=uniform, neuron1=12, neuron2=7.....\n"
     ]
    },
    {
     "name": "stderr",
     "output_type": "stream",
     "text": [
      "C:\\Users\\Shamikarani\\anaconda3\\lib\\site-packages\\keras\\optimizers\\optimizer_v2\\adam.py:114: UserWarning: The `lr` argument is deprecated, use `learning_rate` instead.\n",
      "  super().__init__(name, **kwargs)\n"
     ]
    },
    {
     "name": "stdout",
     "output_type": "stream",
     "text": [
      "[CV 5/10; 22/36] END activation=tanh, init=uniform, neuron1=12, neuron2=7;, score=0.707 total time=   1.4s\n",
      "[CV 6/10; 22/36] START activation=tanh, init=uniform, neuron1=12, neuron2=7.....\n"
     ]
    },
    {
     "name": "stderr",
     "output_type": "stream",
     "text": [
      "C:\\Users\\Shamikarani\\anaconda3\\lib\\site-packages\\keras\\optimizers\\optimizer_v2\\adam.py:114: UserWarning: The `lr` argument is deprecated, use `learning_rate` instead.\n",
      "  super().__init__(name, **kwargs)\n"
     ]
    },
    {
     "name": "stdout",
     "output_type": "stream",
     "text": [
      "[CV 6/10; 22/36] END activation=tanh, init=uniform, neuron1=12, neuron2=7;, score=0.805 total time=   1.2s\n",
      "[CV 7/10; 22/36] START activation=tanh, init=uniform, neuron1=12, neuron2=7.....\n"
     ]
    },
    {
     "name": "stderr",
     "output_type": "stream",
     "text": [
      "C:\\Users\\Shamikarani\\anaconda3\\lib\\site-packages\\keras\\optimizers\\optimizer_v2\\adam.py:114: UserWarning: The `lr` argument is deprecated, use `learning_rate` instead.\n",
      "  super().__init__(name, **kwargs)\n"
     ]
    },
    {
     "name": "stdout",
     "output_type": "stream",
     "text": [
      "[CV 7/10; 22/36] END activation=tanh, init=uniform, neuron1=12, neuron2=7;, score=0.756 total time=   1.2s\n",
      "[CV 8/10; 22/36] START activation=tanh, init=uniform, neuron1=12, neuron2=7.....\n"
     ]
    },
    {
     "name": "stderr",
     "output_type": "stream",
     "text": [
      "C:\\Users\\Shamikarani\\anaconda3\\lib\\site-packages\\keras\\optimizers\\optimizer_v2\\adam.py:114: UserWarning: The `lr` argument is deprecated, use `learning_rate` instead.\n",
      "  super().__init__(name, **kwargs)\n"
     ]
    },
    {
     "name": "stdout",
     "output_type": "stream",
     "text": [
      "[CV 8/10; 22/36] END activation=tanh, init=uniform, neuron1=12, neuron2=7;, score=0.707 total time=   1.2s\n",
      "[CV 9/10; 22/36] START activation=tanh, init=uniform, neuron1=12, neuron2=7.....\n"
     ]
    },
    {
     "name": "stderr",
     "output_type": "stream",
     "text": [
      "C:\\Users\\Shamikarani\\anaconda3\\lib\\site-packages\\keras\\optimizers\\optimizer_v2\\adam.py:114: UserWarning: The `lr` argument is deprecated, use `learning_rate` instead.\n",
      "  super().__init__(name, **kwargs)\n"
     ]
    },
    {
     "name": "stdout",
     "output_type": "stream",
     "text": [
      "[CV 9/10; 22/36] END activation=tanh, init=uniform, neuron1=12, neuron2=7;, score=0.854 total time=   1.4s\n",
      "[CV 10/10; 22/36] START activation=tanh, init=uniform, neuron1=12, neuron2=7....\n"
     ]
    },
    {
     "name": "stderr",
     "output_type": "stream",
     "text": [
      "C:\\Users\\Shamikarani\\anaconda3\\lib\\site-packages\\keras\\optimizers\\optimizer_v2\\adam.py:114: UserWarning: The `lr` argument is deprecated, use `learning_rate` instead.\n",
      "  super().__init__(name, **kwargs)\n"
     ]
    },
    {
     "name": "stdout",
     "output_type": "stream",
     "text": [
      "[CV 10/10; 22/36] END activation=tanh, init=uniform, neuron1=12, neuron2=7;, score=0.732 total time=   1.3s\n",
      "[CV 1/10; 23/36] START activation=tanh, init=uniform, neuron1=12, neuron2=8.....\n"
     ]
    },
    {
     "name": "stderr",
     "output_type": "stream",
     "text": [
      "C:\\Users\\Shamikarani\\anaconda3\\lib\\site-packages\\keras\\optimizers\\optimizer_v2\\adam.py:114: UserWarning: The `lr` argument is deprecated, use `learning_rate` instead.\n",
      "  super().__init__(name, **kwargs)\n"
     ]
    },
    {
     "name": "stdout",
     "output_type": "stream",
     "text": [
      "[CV 1/10; 23/36] END activation=tanh, init=uniform, neuron1=12, neuron2=8;, score=0.714 total time=   1.2s\n",
      "[CV 2/10; 23/36] START activation=tanh, init=uniform, neuron1=12, neuron2=8.....\n"
     ]
    },
    {
     "name": "stderr",
     "output_type": "stream",
     "text": [
      "C:\\Users\\Shamikarani\\anaconda3\\lib\\site-packages\\keras\\optimizers\\optimizer_v2\\adam.py:114: UserWarning: The `lr` argument is deprecated, use `learning_rate` instead.\n",
      "  super().__init__(name, **kwargs)\n"
     ]
    },
    {
     "name": "stdout",
     "output_type": "stream",
     "text": [
      "[CV 2/10; 23/36] END activation=tanh, init=uniform, neuron1=12, neuron2=8;, score=0.714 total time=   1.4s\n",
      "[CV 3/10; 23/36] START activation=tanh, init=uniform, neuron1=12, neuron2=8.....\n"
     ]
    },
    {
     "name": "stderr",
     "output_type": "stream",
     "text": [
      "C:\\Users\\Shamikarani\\anaconda3\\lib\\site-packages\\keras\\optimizers\\optimizer_v2\\adam.py:114: UserWarning: The `lr` argument is deprecated, use `learning_rate` instead.\n",
      "  super().__init__(name, **kwargs)\n"
     ]
    },
    {
     "name": "stdout",
     "output_type": "stream",
     "text": [
      "[CV 3/10; 23/36] END activation=tanh, init=uniform, neuron1=12, neuron2=8;, score=0.643 total time=   1.6s\n",
      "[CV 4/10; 23/36] START activation=tanh, init=uniform, neuron1=12, neuron2=8.....\n"
     ]
    },
    {
     "name": "stderr",
     "output_type": "stream",
     "text": [
      "C:\\Users\\Shamikarani\\anaconda3\\lib\\site-packages\\keras\\optimizers\\optimizer_v2\\adam.py:114: UserWarning: The `lr` argument is deprecated, use `learning_rate` instead.\n",
      "  super().__init__(name, **kwargs)\n"
     ]
    },
    {
     "name": "stdout",
     "output_type": "stream",
     "text": [
      "[CV 4/10; 23/36] END activation=tanh, init=uniform, neuron1=12, neuron2=8;, score=0.707 total time=   1.6s\n",
      "[CV 5/10; 23/36] START activation=tanh, init=uniform, neuron1=12, neuron2=8.....\n"
     ]
    },
    {
     "name": "stderr",
     "output_type": "stream",
     "text": [
      "C:\\Users\\Shamikarani\\anaconda3\\lib\\site-packages\\keras\\optimizers\\optimizer_v2\\adam.py:114: UserWarning: The `lr` argument is deprecated, use `learning_rate` instead.\n",
      "  super().__init__(name, **kwargs)\n"
     ]
    },
    {
     "name": "stdout",
     "output_type": "stream",
     "text": [
      "[CV 5/10; 23/36] END activation=tanh, init=uniform, neuron1=12, neuron2=8;, score=0.707 total time=   1.2s\n",
      "[CV 6/10; 23/36] START activation=tanh, init=uniform, neuron1=12, neuron2=8.....\n"
     ]
    },
    {
     "name": "stderr",
     "output_type": "stream",
     "text": [
      "C:\\Users\\Shamikarani\\anaconda3\\lib\\site-packages\\keras\\optimizers\\optimizer_v2\\adam.py:114: UserWarning: The `lr` argument is deprecated, use `learning_rate` instead.\n",
      "  super().__init__(name, **kwargs)\n"
     ]
    },
    {
     "name": "stdout",
     "output_type": "stream",
     "text": [
      "[CV 6/10; 23/36] END activation=tanh, init=uniform, neuron1=12, neuron2=8;, score=0.805 total time=   1.2s\n",
      "[CV 7/10; 23/36] START activation=tanh, init=uniform, neuron1=12, neuron2=8.....\n"
     ]
    },
    {
     "name": "stderr",
     "output_type": "stream",
     "text": [
      "C:\\Users\\Shamikarani\\anaconda3\\lib\\site-packages\\keras\\optimizers\\optimizer_v2\\adam.py:114: UserWarning: The `lr` argument is deprecated, use `learning_rate` instead.\n",
      "  super().__init__(name, **kwargs)\n"
     ]
    },
    {
     "name": "stdout",
     "output_type": "stream",
     "text": [
      "[CV 7/10; 23/36] END activation=tanh, init=uniform, neuron1=12, neuron2=8;, score=0.756 total time=   1.2s\n",
      "[CV 8/10; 23/36] START activation=tanh, init=uniform, neuron1=12, neuron2=8.....\n"
     ]
    },
    {
     "name": "stderr",
     "output_type": "stream",
     "text": [
      "C:\\Users\\Shamikarani\\anaconda3\\lib\\site-packages\\keras\\optimizers\\optimizer_v2\\adam.py:114: UserWarning: The `lr` argument is deprecated, use `learning_rate` instead.\n",
      "  super().__init__(name, **kwargs)\n"
     ]
    },
    {
     "name": "stdout",
     "output_type": "stream",
     "text": [
      "[CV 8/10; 23/36] END activation=tanh, init=uniform, neuron1=12, neuron2=8;, score=0.707 total time=   1.5s\n",
      "[CV 9/10; 23/36] START activation=tanh, init=uniform, neuron1=12, neuron2=8.....\n"
     ]
    },
    {
     "name": "stderr",
     "output_type": "stream",
     "text": [
      "C:\\Users\\Shamikarani\\anaconda3\\lib\\site-packages\\keras\\optimizers\\optimizer_v2\\adam.py:114: UserWarning: The `lr` argument is deprecated, use `learning_rate` instead.\n",
      "  super().__init__(name, **kwargs)\n"
     ]
    },
    {
     "name": "stdout",
     "output_type": "stream",
     "text": [
      "[CV 9/10; 23/36] END activation=tanh, init=uniform, neuron1=12, neuron2=8;, score=0.854 total time=   1.2s\n",
      "[CV 10/10; 23/36] START activation=tanh, init=uniform, neuron1=12, neuron2=8....\n"
     ]
    },
    {
     "name": "stderr",
     "output_type": "stream",
     "text": [
      "C:\\Users\\Shamikarani\\anaconda3\\lib\\site-packages\\keras\\optimizers\\optimizer_v2\\adam.py:114: UserWarning: The `lr` argument is deprecated, use `learning_rate` instead.\n",
      "  super().__init__(name, **kwargs)\n"
     ]
    },
    {
     "name": "stdout",
     "output_type": "stream",
     "text": [
      "[CV 10/10; 23/36] END activation=tanh, init=uniform, neuron1=12, neuron2=8;, score=0.732 total time=   1.2s\n",
      "[CV 1/10; 24/36] START activation=tanh, init=uniform, neuron1=12, neuron2=9.....\n"
     ]
    },
    {
     "name": "stderr",
     "output_type": "stream",
     "text": [
      "C:\\Users\\Shamikarani\\anaconda3\\lib\\site-packages\\keras\\optimizers\\optimizer_v2\\adam.py:114: UserWarning: The `lr` argument is deprecated, use `learning_rate` instead.\n",
      "  super().__init__(name, **kwargs)\n"
     ]
    },
    {
     "name": "stdout",
     "output_type": "stream",
     "text": [
      "[CV 1/10; 24/36] END activation=tanh, init=uniform, neuron1=12, neuron2=9;, score=0.714 total time=   1.1s\n",
      "[CV 2/10; 24/36] START activation=tanh, init=uniform, neuron1=12, neuron2=9.....\n"
     ]
    },
    {
     "name": "stderr",
     "output_type": "stream",
     "text": [
      "C:\\Users\\Shamikarani\\anaconda3\\lib\\site-packages\\keras\\optimizers\\optimizer_v2\\adam.py:114: UserWarning: The `lr` argument is deprecated, use `learning_rate` instead.\n",
      "  super().__init__(name, **kwargs)\n"
     ]
    },
    {
     "name": "stdout",
     "output_type": "stream",
     "text": [
      "[CV 2/10; 24/36] END activation=tanh, init=uniform, neuron1=12, neuron2=9;, score=0.714 total time=   1.4s\n",
      "[CV 3/10; 24/36] START activation=tanh, init=uniform, neuron1=12, neuron2=9.....\n"
     ]
    },
    {
     "name": "stderr",
     "output_type": "stream",
     "text": [
      "C:\\Users\\Shamikarani\\anaconda3\\lib\\site-packages\\keras\\optimizers\\optimizer_v2\\adam.py:114: UserWarning: The `lr` argument is deprecated, use `learning_rate` instead.\n",
      "  super().__init__(name, **kwargs)\n"
     ]
    },
    {
     "name": "stdout",
     "output_type": "stream",
     "text": [
      "[CV 3/10; 24/36] END activation=tanh, init=uniform, neuron1=12, neuron2=9;, score=0.643 total time=   1.2s\n",
      "[CV 4/10; 24/36] START activation=tanh, init=uniform, neuron1=12, neuron2=9.....\n"
     ]
    },
    {
     "name": "stderr",
     "output_type": "stream",
     "text": [
      "C:\\Users\\Shamikarani\\anaconda3\\lib\\site-packages\\keras\\optimizers\\optimizer_v2\\adam.py:114: UserWarning: The `lr` argument is deprecated, use `learning_rate` instead.\n",
      "  super().__init__(name, **kwargs)\n"
     ]
    },
    {
     "name": "stdout",
     "output_type": "stream",
     "text": [
      "[CV 4/10; 24/36] END activation=tanh, init=uniform, neuron1=12, neuron2=9;, score=0.707 total time=   1.2s\n",
      "[CV 5/10; 24/36] START activation=tanh, init=uniform, neuron1=12, neuron2=9.....\n"
     ]
    },
    {
     "name": "stderr",
     "output_type": "stream",
     "text": [
      "C:\\Users\\Shamikarani\\anaconda3\\lib\\site-packages\\keras\\optimizers\\optimizer_v2\\adam.py:114: UserWarning: The `lr` argument is deprecated, use `learning_rate` instead.\n",
      "  super().__init__(name, **kwargs)\n"
     ]
    },
    {
     "name": "stdout",
     "output_type": "stream",
     "text": [
      "[CV 5/10; 24/36] END activation=tanh, init=uniform, neuron1=12, neuron2=9;, score=0.707 total time=   1.2s\n",
      "[CV 6/10; 24/36] START activation=tanh, init=uniform, neuron1=12, neuron2=9.....\n"
     ]
    },
    {
     "name": "stderr",
     "output_type": "stream",
     "text": [
      "C:\\Users\\Shamikarani\\anaconda3\\lib\\site-packages\\keras\\optimizers\\optimizer_v2\\adam.py:114: UserWarning: The `lr` argument is deprecated, use `learning_rate` instead.\n",
      "  super().__init__(name, **kwargs)\n"
     ]
    },
    {
     "name": "stdout",
     "output_type": "stream",
     "text": [
      "[CV 6/10; 24/36] END activation=tanh, init=uniform, neuron1=12, neuron2=9;, score=0.805 total time=   1.2s\n",
      "[CV 7/10; 24/36] START activation=tanh, init=uniform, neuron1=12, neuron2=9.....\n"
     ]
    },
    {
     "name": "stderr",
     "output_type": "stream",
     "text": [
      "C:\\Users\\Shamikarani\\anaconda3\\lib\\site-packages\\keras\\optimizers\\optimizer_v2\\adam.py:114: UserWarning: The `lr` argument is deprecated, use `learning_rate` instead.\n",
      "  super().__init__(name, **kwargs)\n"
     ]
    },
    {
     "name": "stdout",
     "output_type": "stream",
     "text": [
      "[CV 7/10; 24/36] END activation=tanh, init=uniform, neuron1=12, neuron2=9;, score=0.756 total time=   1.6s\n",
      "[CV 8/10; 24/36] START activation=tanh, init=uniform, neuron1=12, neuron2=9.....\n"
     ]
    },
    {
     "name": "stderr",
     "output_type": "stream",
     "text": [
      "C:\\Users\\Shamikarani\\anaconda3\\lib\\site-packages\\keras\\optimizers\\optimizer_v2\\adam.py:114: UserWarning: The `lr` argument is deprecated, use `learning_rate` instead.\n",
      "  super().__init__(name, **kwargs)\n"
     ]
    },
    {
     "name": "stdout",
     "output_type": "stream",
     "text": [
      "[CV 8/10; 24/36] END activation=tanh, init=uniform, neuron1=12, neuron2=9;, score=0.707 total time=   1.4s\n",
      "[CV 9/10; 24/36] START activation=tanh, init=uniform, neuron1=12, neuron2=9.....\n"
     ]
    },
    {
     "name": "stderr",
     "output_type": "stream",
     "text": [
      "C:\\Users\\Shamikarani\\anaconda3\\lib\\site-packages\\keras\\optimizers\\optimizer_v2\\adam.py:114: UserWarning: The `lr` argument is deprecated, use `learning_rate` instead.\n",
      "  super().__init__(name, **kwargs)\n"
     ]
    },
    {
     "name": "stdout",
     "output_type": "stream",
     "text": [
      "[CV 9/10; 24/36] END activation=tanh, init=uniform, neuron1=12, neuron2=9;, score=0.854 total time=   1.3s\n",
      "[CV 10/10; 24/36] START activation=tanh, init=uniform, neuron1=12, neuron2=9....\n"
     ]
    },
    {
     "name": "stderr",
     "output_type": "stream",
     "text": [
      "C:\\Users\\Shamikarani\\anaconda3\\lib\\site-packages\\keras\\optimizers\\optimizer_v2\\adam.py:114: UserWarning: The `lr` argument is deprecated, use `learning_rate` instead.\n",
      "  super().__init__(name, **kwargs)\n"
     ]
    },
    {
     "name": "stdout",
     "output_type": "stream",
     "text": [
      "[CV 10/10; 24/36] END activation=tanh, init=uniform, neuron1=12, neuron2=9;, score=0.732 total time=   1.5s\n",
      "[CV 1/10; 25/36] START activation=tanh, init=uniform, neuron1=8, neuron2=7......\n"
     ]
    },
    {
     "name": "stderr",
     "output_type": "stream",
     "text": [
      "C:\\Users\\Shamikarani\\anaconda3\\lib\\site-packages\\keras\\optimizers\\optimizer_v2\\adam.py:114: UserWarning: The `lr` argument is deprecated, use `learning_rate` instead.\n",
      "  super().__init__(name, **kwargs)\n"
     ]
    },
    {
     "name": "stdout",
     "output_type": "stream",
     "text": [
      "[CV 1/10; 25/36] END activation=tanh, init=uniform, neuron1=8, neuron2=7;, score=0.714 total time=   1.8s\n",
      "[CV 2/10; 25/36] START activation=tanh, init=uniform, neuron1=8, neuron2=7......\n"
     ]
    },
    {
     "name": "stderr",
     "output_type": "stream",
     "text": [
      "C:\\Users\\Shamikarani\\anaconda3\\lib\\site-packages\\keras\\optimizers\\optimizer_v2\\adam.py:114: UserWarning: The `lr` argument is deprecated, use `learning_rate` instead.\n",
      "  super().__init__(name, **kwargs)\n"
     ]
    },
    {
     "name": "stdout",
     "output_type": "stream",
     "text": [
      "[CV 2/10; 25/36] END activation=tanh, init=uniform, neuron1=8, neuron2=7;, score=0.714 total time=   1.2s\n",
      "[CV 3/10; 25/36] START activation=tanh, init=uniform, neuron1=8, neuron2=7......\n"
     ]
    },
    {
     "name": "stderr",
     "output_type": "stream",
     "text": [
      "C:\\Users\\Shamikarani\\anaconda3\\lib\\site-packages\\keras\\optimizers\\optimizer_v2\\adam.py:114: UserWarning: The `lr` argument is deprecated, use `learning_rate` instead.\n",
      "  super().__init__(name, **kwargs)\n"
     ]
    },
    {
     "name": "stdout",
     "output_type": "stream",
     "text": [
      "[CV 3/10; 25/36] END activation=tanh, init=uniform, neuron1=8, neuron2=7;, score=0.643 total time=   1.4s\n",
      "[CV 4/10; 25/36] START activation=tanh, init=uniform, neuron1=8, neuron2=7......\n"
     ]
    },
    {
     "name": "stderr",
     "output_type": "stream",
     "text": [
      "C:\\Users\\Shamikarani\\anaconda3\\lib\\site-packages\\keras\\optimizers\\optimizer_v2\\adam.py:114: UserWarning: The `lr` argument is deprecated, use `learning_rate` instead.\n",
      "  super().__init__(name, **kwargs)\n"
     ]
    },
    {
     "name": "stdout",
     "output_type": "stream",
     "text": [
      "[CV 4/10; 25/36] END activation=tanh, init=uniform, neuron1=8, neuron2=7;, score=0.707 total time=   1.1s\n",
      "[CV 5/10; 25/36] START activation=tanh, init=uniform, neuron1=8, neuron2=7......\n"
     ]
    },
    {
     "name": "stderr",
     "output_type": "stream",
     "text": [
      "C:\\Users\\Shamikarani\\anaconda3\\lib\\site-packages\\keras\\optimizers\\optimizer_v2\\adam.py:114: UserWarning: The `lr` argument is deprecated, use `learning_rate` instead.\n",
      "  super().__init__(name, **kwargs)\n"
     ]
    },
    {
     "name": "stdout",
     "output_type": "stream",
     "text": [
      "[CV 5/10; 25/36] END activation=tanh, init=uniform, neuron1=8, neuron2=7;, score=0.707 total time=   1.8s\n",
      "[CV 6/10; 25/36] START activation=tanh, init=uniform, neuron1=8, neuron2=7......\n"
     ]
    },
    {
     "name": "stderr",
     "output_type": "stream",
     "text": [
      "C:\\Users\\Shamikarani\\anaconda3\\lib\\site-packages\\keras\\optimizers\\optimizer_v2\\adam.py:114: UserWarning: The `lr` argument is deprecated, use `learning_rate` instead.\n",
      "  super().__init__(name, **kwargs)\n"
     ]
    },
    {
     "name": "stdout",
     "output_type": "stream",
     "text": [
      "[CV 6/10; 25/36] END activation=tanh, init=uniform, neuron1=8, neuron2=7;, score=0.805 total time=   1.2s\n",
      "[CV 7/10; 25/36] START activation=tanh, init=uniform, neuron1=8, neuron2=7......\n"
     ]
    },
    {
     "name": "stderr",
     "output_type": "stream",
     "text": [
      "C:\\Users\\Shamikarani\\anaconda3\\lib\\site-packages\\keras\\optimizers\\optimizer_v2\\adam.py:114: UserWarning: The `lr` argument is deprecated, use `learning_rate` instead.\n",
      "  super().__init__(name, **kwargs)\n"
     ]
    },
    {
     "name": "stdout",
     "output_type": "stream",
     "text": [
      "[CV 7/10; 25/36] END activation=tanh, init=uniform, neuron1=8, neuron2=7;, score=0.756 total time=   1.1s\n",
      "[CV 8/10; 25/36] START activation=tanh, init=uniform, neuron1=8, neuron2=7......\n"
     ]
    },
    {
     "name": "stderr",
     "output_type": "stream",
     "text": [
      "C:\\Users\\Shamikarani\\anaconda3\\lib\\site-packages\\keras\\optimizers\\optimizer_v2\\adam.py:114: UserWarning: The `lr` argument is deprecated, use `learning_rate` instead.\n",
      "  super().__init__(name, **kwargs)\n"
     ]
    },
    {
     "name": "stdout",
     "output_type": "stream",
     "text": [
      "[CV 8/10; 25/36] END activation=tanh, init=uniform, neuron1=8, neuron2=7;, score=0.707 total time=   1.2s\n",
      "[CV 9/10; 25/36] START activation=tanh, init=uniform, neuron1=8, neuron2=7......\n"
     ]
    },
    {
     "name": "stderr",
     "output_type": "stream",
     "text": [
      "C:\\Users\\Shamikarani\\anaconda3\\lib\\site-packages\\keras\\optimizers\\optimizer_v2\\adam.py:114: UserWarning: The `lr` argument is deprecated, use `learning_rate` instead.\n",
      "  super().__init__(name, **kwargs)\n"
     ]
    },
    {
     "name": "stdout",
     "output_type": "stream",
     "text": [
      "[CV 9/10; 25/36] END activation=tanh, init=uniform, neuron1=8, neuron2=7;, score=0.854 total time=   1.5s\n",
      "[CV 10/10; 25/36] START activation=tanh, init=uniform, neuron1=8, neuron2=7.....\n"
     ]
    },
    {
     "name": "stderr",
     "output_type": "stream",
     "text": [
      "C:\\Users\\Shamikarani\\anaconda3\\lib\\site-packages\\keras\\optimizers\\optimizer_v2\\adam.py:114: UserWarning: The `lr` argument is deprecated, use `learning_rate` instead.\n",
      "  super().__init__(name, **kwargs)\n"
     ]
    },
    {
     "name": "stdout",
     "output_type": "stream",
     "text": [
      "[CV 10/10; 25/36] END activation=tanh, init=uniform, neuron1=8, neuron2=7;, score=0.732 total time=   1.2s\n",
      "[CV 1/10; 26/36] START activation=tanh, init=uniform, neuron1=8, neuron2=8......\n"
     ]
    },
    {
     "name": "stderr",
     "output_type": "stream",
     "text": [
      "C:\\Users\\Shamikarani\\anaconda3\\lib\\site-packages\\keras\\optimizers\\optimizer_v2\\adam.py:114: UserWarning: The `lr` argument is deprecated, use `learning_rate` instead.\n",
      "  super().__init__(name, **kwargs)\n"
     ]
    },
    {
     "name": "stdout",
     "output_type": "stream",
     "text": [
      "[CV 1/10; 26/36] END activation=tanh, init=uniform, neuron1=8, neuron2=8;, score=0.714 total time=   1.2s\n",
      "[CV 2/10; 26/36] START activation=tanh, init=uniform, neuron1=8, neuron2=8......\n"
     ]
    },
    {
     "name": "stderr",
     "output_type": "stream",
     "text": [
      "C:\\Users\\Shamikarani\\anaconda3\\lib\\site-packages\\keras\\optimizers\\optimizer_v2\\adam.py:114: UserWarning: The `lr` argument is deprecated, use `learning_rate` instead.\n",
      "  super().__init__(name, **kwargs)\n"
     ]
    },
    {
     "name": "stdout",
     "output_type": "stream",
     "text": [
      "[CV 2/10; 26/36] END activation=tanh, init=uniform, neuron1=8, neuron2=8;, score=0.714 total time=   1.2s\n",
      "[CV 3/10; 26/36] START activation=tanh, init=uniform, neuron1=8, neuron2=8......\n"
     ]
    },
    {
     "name": "stderr",
     "output_type": "stream",
     "text": [
      "C:\\Users\\Shamikarani\\anaconda3\\lib\\site-packages\\keras\\optimizers\\optimizer_v2\\adam.py:114: UserWarning: The `lr` argument is deprecated, use `learning_rate` instead.\n",
      "  super().__init__(name, **kwargs)\n"
     ]
    },
    {
     "name": "stdout",
     "output_type": "stream",
     "text": [
      "[CV 3/10; 26/36] END activation=tanh, init=uniform, neuron1=8, neuron2=8;, score=0.643 total time=   1.4s\n",
      "[CV 4/10; 26/36] START activation=tanh, init=uniform, neuron1=8, neuron2=8......\n"
     ]
    },
    {
     "name": "stderr",
     "output_type": "stream",
     "text": [
      "C:\\Users\\Shamikarani\\anaconda3\\lib\\site-packages\\keras\\optimizers\\optimizer_v2\\adam.py:114: UserWarning: The `lr` argument is deprecated, use `learning_rate` instead.\n",
      "  super().__init__(name, **kwargs)\n"
     ]
    },
    {
     "name": "stdout",
     "output_type": "stream",
     "text": [
      "[CV 4/10; 26/36] END activation=tanh, init=uniform, neuron1=8, neuron2=8;, score=0.707 total time=   1.7s\n",
      "[CV 5/10; 26/36] START activation=tanh, init=uniform, neuron1=8, neuron2=8......\n"
     ]
    },
    {
     "name": "stderr",
     "output_type": "stream",
     "text": [
      "C:\\Users\\Shamikarani\\anaconda3\\lib\\site-packages\\keras\\optimizers\\optimizer_v2\\adam.py:114: UserWarning: The `lr` argument is deprecated, use `learning_rate` instead.\n",
      "  super().__init__(name, **kwargs)\n"
     ]
    },
    {
     "name": "stdout",
     "output_type": "stream",
     "text": [
      "[CV 5/10; 26/36] END activation=tanh, init=uniform, neuron1=8, neuron2=8;, score=0.707 total time=   1.4s\n",
      "[CV 6/10; 26/36] START activation=tanh, init=uniform, neuron1=8, neuron2=8......\n"
     ]
    },
    {
     "name": "stderr",
     "output_type": "stream",
     "text": [
      "C:\\Users\\Shamikarani\\anaconda3\\lib\\site-packages\\keras\\optimizers\\optimizer_v2\\adam.py:114: UserWarning: The `lr` argument is deprecated, use `learning_rate` instead.\n",
      "  super().__init__(name, **kwargs)\n"
     ]
    },
    {
     "name": "stdout",
     "output_type": "stream",
     "text": [
      "[CV 6/10; 26/36] END activation=tanh, init=uniform, neuron1=8, neuron2=8;, score=0.805 total time=   1.6s\n",
      "[CV 7/10; 26/36] START activation=tanh, init=uniform, neuron1=8, neuron2=8......\n"
     ]
    },
    {
     "name": "stderr",
     "output_type": "stream",
     "text": [
      "C:\\Users\\Shamikarani\\anaconda3\\lib\\site-packages\\keras\\optimizers\\optimizer_v2\\adam.py:114: UserWarning: The `lr` argument is deprecated, use `learning_rate` instead.\n",
      "  super().__init__(name, **kwargs)\n"
     ]
    },
    {
     "name": "stdout",
     "output_type": "stream",
     "text": [
      "[CV 7/10; 26/36] END activation=tanh, init=uniform, neuron1=8, neuron2=8;, score=0.756 total time=   1.3s\n",
      "[CV 8/10; 26/36] START activation=tanh, init=uniform, neuron1=8, neuron2=8......\n"
     ]
    },
    {
     "name": "stderr",
     "output_type": "stream",
     "text": [
      "C:\\Users\\Shamikarani\\anaconda3\\lib\\site-packages\\keras\\optimizers\\optimizer_v2\\adam.py:114: UserWarning: The `lr` argument is deprecated, use `learning_rate` instead.\n",
      "  super().__init__(name, **kwargs)\n"
     ]
    },
    {
     "name": "stdout",
     "output_type": "stream",
     "text": [
      "[CV 8/10; 26/36] END activation=tanh, init=uniform, neuron1=8, neuron2=8;, score=0.707 total time=   1.4s\n",
      "[CV 9/10; 26/36] START activation=tanh, init=uniform, neuron1=8, neuron2=8......\n"
     ]
    },
    {
     "name": "stderr",
     "output_type": "stream",
     "text": [
      "C:\\Users\\Shamikarani\\anaconda3\\lib\\site-packages\\keras\\optimizers\\optimizer_v2\\adam.py:114: UserWarning: The `lr` argument is deprecated, use `learning_rate` instead.\n",
      "  super().__init__(name, **kwargs)\n"
     ]
    },
    {
     "name": "stdout",
     "output_type": "stream",
     "text": [
      "[CV 9/10; 26/36] END activation=tanh, init=uniform, neuron1=8, neuron2=8;, score=0.854 total time=   1.4s\n",
      "[CV 10/10; 26/36] START activation=tanh, init=uniform, neuron1=8, neuron2=8.....\n"
     ]
    },
    {
     "name": "stderr",
     "output_type": "stream",
     "text": [
      "C:\\Users\\Shamikarani\\anaconda3\\lib\\site-packages\\keras\\optimizers\\optimizer_v2\\adam.py:114: UserWarning: The `lr` argument is deprecated, use `learning_rate` instead.\n",
      "  super().__init__(name, **kwargs)\n"
     ]
    },
    {
     "name": "stdout",
     "output_type": "stream",
     "text": [
      "[CV 10/10; 26/36] END activation=tanh, init=uniform, neuron1=8, neuron2=8;, score=0.732 total time=   1.2s\n",
      "[CV 1/10; 27/36] START activation=tanh, init=uniform, neuron1=8, neuron2=9......\n"
     ]
    },
    {
     "name": "stderr",
     "output_type": "stream",
     "text": [
      "C:\\Users\\Shamikarani\\anaconda3\\lib\\site-packages\\keras\\optimizers\\optimizer_v2\\adam.py:114: UserWarning: The `lr` argument is deprecated, use `learning_rate` instead.\n",
      "  super().__init__(name, **kwargs)\n"
     ]
    },
    {
     "name": "stdout",
     "output_type": "stream",
     "text": [
      "[CV 1/10; 27/36] END activation=tanh, init=uniform, neuron1=8, neuron2=9;, score=0.714 total time=   1.2s\n",
      "[CV 2/10; 27/36] START activation=tanh, init=uniform, neuron1=8, neuron2=9......\n"
     ]
    },
    {
     "name": "stderr",
     "output_type": "stream",
     "text": [
      "C:\\Users\\Shamikarani\\anaconda3\\lib\\site-packages\\keras\\optimizers\\optimizer_v2\\adam.py:114: UserWarning: The `lr` argument is deprecated, use `learning_rate` instead.\n",
      "  super().__init__(name, **kwargs)\n"
     ]
    },
    {
     "name": "stdout",
     "output_type": "stream",
     "text": [
      "[CV 2/10; 27/36] END activation=tanh, init=uniform, neuron1=8, neuron2=9;, score=0.714 total time=   1.2s\n",
      "[CV 3/10; 27/36] START activation=tanh, init=uniform, neuron1=8, neuron2=9......\n"
     ]
    },
    {
     "name": "stderr",
     "output_type": "stream",
     "text": [
      "C:\\Users\\Shamikarani\\anaconda3\\lib\\site-packages\\keras\\optimizers\\optimizer_v2\\adam.py:114: UserWarning: The `lr` argument is deprecated, use `learning_rate` instead.\n",
      "  super().__init__(name, **kwargs)\n"
     ]
    },
    {
     "name": "stdout",
     "output_type": "stream",
     "text": [
      "[CV 3/10; 27/36] END activation=tanh, init=uniform, neuron1=8, neuron2=9;, score=0.643 total time=   1.4s\n",
      "[CV 4/10; 27/36] START activation=tanh, init=uniform, neuron1=8, neuron2=9......\n"
     ]
    },
    {
     "name": "stderr",
     "output_type": "stream",
     "text": [
      "C:\\Users\\Shamikarani\\anaconda3\\lib\\site-packages\\keras\\optimizers\\optimizer_v2\\adam.py:114: UserWarning: The `lr` argument is deprecated, use `learning_rate` instead.\n",
      "  super().__init__(name, **kwargs)\n"
     ]
    },
    {
     "name": "stdout",
     "output_type": "stream",
     "text": [
      "[CV 4/10; 27/36] END activation=tanh, init=uniform, neuron1=8, neuron2=9;, score=0.707 total time=   1.3s\n",
      "[CV 5/10; 27/36] START activation=tanh, init=uniform, neuron1=8, neuron2=9......\n"
     ]
    },
    {
     "name": "stderr",
     "output_type": "stream",
     "text": [
      "C:\\Users\\Shamikarani\\anaconda3\\lib\\site-packages\\keras\\optimizers\\optimizer_v2\\adam.py:114: UserWarning: The `lr` argument is deprecated, use `learning_rate` instead.\n",
      "  super().__init__(name, **kwargs)\n"
     ]
    },
    {
     "name": "stdout",
     "output_type": "stream",
     "text": [
      "[CV 5/10; 27/36] END activation=tanh, init=uniform, neuron1=8, neuron2=9;, score=0.707 total time=   1.2s\n",
      "[CV 6/10; 27/36] START activation=tanh, init=uniform, neuron1=8, neuron2=9......\n"
     ]
    },
    {
     "name": "stderr",
     "output_type": "stream",
     "text": [
      "C:\\Users\\Shamikarani\\anaconda3\\lib\\site-packages\\keras\\optimizers\\optimizer_v2\\adam.py:114: UserWarning: The `lr` argument is deprecated, use `learning_rate` instead.\n",
      "  super().__init__(name, **kwargs)\n"
     ]
    },
    {
     "name": "stdout",
     "output_type": "stream",
     "text": [
      "[CV 6/10; 27/36] END activation=tanh, init=uniform, neuron1=8, neuron2=9;, score=0.805 total time=   1.1s\n",
      "[CV 7/10; 27/36] START activation=tanh, init=uniform, neuron1=8, neuron2=9......\n"
     ]
    },
    {
     "name": "stderr",
     "output_type": "stream",
     "text": [
      "C:\\Users\\Shamikarani\\anaconda3\\lib\\site-packages\\keras\\optimizers\\optimizer_v2\\adam.py:114: UserWarning: The `lr` argument is deprecated, use `learning_rate` instead.\n",
      "  super().__init__(name, **kwargs)\n"
     ]
    },
    {
     "name": "stdout",
     "output_type": "stream",
     "text": [
      "[CV 7/10; 27/36] END activation=tanh, init=uniform, neuron1=8, neuron2=9;, score=0.756 total time=   1.4s\n",
      "[CV 8/10; 27/36] START activation=tanh, init=uniform, neuron1=8, neuron2=9......\n"
     ]
    },
    {
     "name": "stderr",
     "output_type": "stream",
     "text": [
      "C:\\Users\\Shamikarani\\anaconda3\\lib\\site-packages\\keras\\optimizers\\optimizer_v2\\adam.py:114: UserWarning: The `lr` argument is deprecated, use `learning_rate` instead.\n",
      "  super().__init__(name, **kwargs)\n"
     ]
    },
    {
     "name": "stdout",
     "output_type": "stream",
     "text": [
      "[CV 8/10; 27/36] END activation=tanh, init=uniform, neuron1=8, neuron2=9;, score=0.707 total time=   1.2s\n",
      "[CV 9/10; 27/36] START activation=tanh, init=uniform, neuron1=8, neuron2=9......\n"
     ]
    },
    {
     "name": "stderr",
     "output_type": "stream",
     "text": [
      "C:\\Users\\Shamikarani\\anaconda3\\lib\\site-packages\\keras\\optimizers\\optimizer_v2\\adam.py:114: UserWarning: The `lr` argument is deprecated, use `learning_rate` instead.\n",
      "  super().__init__(name, **kwargs)\n"
     ]
    },
    {
     "name": "stdout",
     "output_type": "stream",
     "text": [
      "[CV 9/10; 27/36] END activation=tanh, init=uniform, neuron1=8, neuron2=9;, score=0.854 total time=   1.2s\n",
      "[CV 10/10; 27/36] START activation=tanh, init=uniform, neuron1=8, neuron2=9.....\n"
     ]
    },
    {
     "name": "stderr",
     "output_type": "stream",
     "text": [
      "C:\\Users\\Shamikarani\\anaconda3\\lib\\site-packages\\keras\\optimizers\\optimizer_v2\\adam.py:114: UserWarning: The `lr` argument is deprecated, use `learning_rate` instead.\n",
      "  super().__init__(name, **kwargs)\n"
     ]
    },
    {
     "name": "stdout",
     "output_type": "stream",
     "text": [
      "[CV 10/10; 27/36] END activation=tanh, init=uniform, neuron1=8, neuron2=9;, score=0.732 total time=   1.2s\n",
      "[CV 1/10; 28/36] START activation=tanh, init=normal, neuron1=10, neuron2=7......\n"
     ]
    },
    {
     "name": "stderr",
     "output_type": "stream",
     "text": [
      "C:\\Users\\Shamikarani\\anaconda3\\lib\\site-packages\\keras\\optimizers\\optimizer_v2\\adam.py:114: UserWarning: The `lr` argument is deprecated, use `learning_rate` instead.\n",
      "  super().__init__(name, **kwargs)\n"
     ]
    },
    {
     "name": "stdout",
     "output_type": "stream",
     "text": [
      "[CV 1/10; 28/36] END activation=tanh, init=normal, neuron1=10, neuron2=7;, score=0.714 total time=   1.4s\n",
      "[CV 2/10; 28/36] START activation=tanh, init=normal, neuron1=10, neuron2=7......\n"
     ]
    },
    {
     "name": "stderr",
     "output_type": "stream",
     "text": [
      "C:\\Users\\Shamikarani\\anaconda3\\lib\\site-packages\\keras\\optimizers\\optimizer_v2\\adam.py:114: UserWarning: The `lr` argument is deprecated, use `learning_rate` instead.\n",
      "  super().__init__(name, **kwargs)\n"
     ]
    },
    {
     "name": "stdout",
     "output_type": "stream",
     "text": [
      "[CV 2/10; 28/36] END activation=tanh, init=normal, neuron1=10, neuron2=7;, score=0.714 total time=   1.2s\n",
      "[CV 3/10; 28/36] START activation=tanh, init=normal, neuron1=10, neuron2=7......\n"
     ]
    },
    {
     "name": "stderr",
     "output_type": "stream",
     "text": [
      "C:\\Users\\Shamikarani\\anaconda3\\lib\\site-packages\\keras\\optimizers\\optimizer_v2\\adam.py:114: UserWarning: The `lr` argument is deprecated, use `learning_rate` instead.\n",
      "  super().__init__(name, **kwargs)\n"
     ]
    },
    {
     "name": "stdout",
     "output_type": "stream",
     "text": [
      "[CV 3/10; 28/36] END activation=tanh, init=normal, neuron1=10, neuron2=7;, score=0.643 total time=   1.1s\n",
      "[CV 4/10; 28/36] START activation=tanh, init=normal, neuron1=10, neuron2=7......\n"
     ]
    },
    {
     "name": "stderr",
     "output_type": "stream",
     "text": [
      "C:\\Users\\Shamikarani\\anaconda3\\lib\\site-packages\\keras\\optimizers\\optimizer_v2\\adam.py:114: UserWarning: The `lr` argument is deprecated, use `learning_rate` instead.\n",
      "  super().__init__(name, **kwargs)\n"
     ]
    },
    {
     "name": "stdout",
     "output_type": "stream",
     "text": [
      "[CV 4/10; 28/36] END activation=tanh, init=normal, neuron1=10, neuron2=7;, score=0.707 total time=   1.2s\n",
      "[CV 5/10; 28/36] START activation=tanh, init=normal, neuron1=10, neuron2=7......\n"
     ]
    },
    {
     "name": "stderr",
     "output_type": "stream",
     "text": [
      "C:\\Users\\Shamikarani\\anaconda3\\lib\\site-packages\\keras\\optimizers\\optimizer_v2\\adam.py:114: UserWarning: The `lr` argument is deprecated, use `learning_rate` instead.\n",
      "  super().__init__(name, **kwargs)\n"
     ]
    },
    {
     "name": "stdout",
     "output_type": "stream",
     "text": [
      "[CV 5/10; 28/36] END activation=tanh, init=normal, neuron1=10, neuron2=7;, score=0.707 total time=   1.1s\n",
      "[CV 6/10; 28/36] START activation=tanh, init=normal, neuron1=10, neuron2=7......\n"
     ]
    },
    {
     "name": "stderr",
     "output_type": "stream",
     "text": [
      "C:\\Users\\Shamikarani\\anaconda3\\lib\\site-packages\\keras\\optimizers\\optimizer_v2\\adam.py:114: UserWarning: The `lr` argument is deprecated, use `learning_rate` instead.\n",
      "  super().__init__(name, **kwargs)\n"
     ]
    },
    {
     "name": "stdout",
     "output_type": "stream",
     "text": [
      "[CV 6/10; 28/36] END activation=tanh, init=normal, neuron1=10, neuron2=7;, score=0.805 total time=   1.4s\n",
      "[CV 7/10; 28/36] START activation=tanh, init=normal, neuron1=10, neuron2=7......\n"
     ]
    },
    {
     "name": "stderr",
     "output_type": "stream",
     "text": [
      "C:\\Users\\Shamikarani\\anaconda3\\lib\\site-packages\\keras\\optimizers\\optimizer_v2\\adam.py:114: UserWarning: The `lr` argument is deprecated, use `learning_rate` instead.\n",
      "  super().__init__(name, **kwargs)\n"
     ]
    },
    {
     "name": "stdout",
     "output_type": "stream",
     "text": [
      "[CV 7/10; 28/36] END activation=tanh, init=normal, neuron1=10, neuron2=7;, score=0.756 total time=   1.2s\n",
      "[CV 8/10; 28/36] START activation=tanh, init=normal, neuron1=10, neuron2=7......\n"
     ]
    },
    {
     "name": "stderr",
     "output_type": "stream",
     "text": [
      "C:\\Users\\Shamikarani\\anaconda3\\lib\\site-packages\\keras\\optimizers\\optimizer_v2\\adam.py:114: UserWarning: The `lr` argument is deprecated, use `learning_rate` instead.\n",
      "  super().__init__(name, **kwargs)\n"
     ]
    },
    {
     "name": "stdout",
     "output_type": "stream",
     "text": [
      "[CV 8/10; 28/36] END activation=tanh, init=normal, neuron1=10, neuron2=7;, score=0.707 total time=   1.1s\n",
      "[CV 9/10; 28/36] START activation=tanh, init=normal, neuron1=10, neuron2=7......\n"
     ]
    },
    {
     "name": "stderr",
     "output_type": "stream",
     "text": [
      "C:\\Users\\Shamikarani\\anaconda3\\lib\\site-packages\\keras\\optimizers\\optimizer_v2\\adam.py:114: UserWarning: The `lr` argument is deprecated, use `learning_rate` instead.\n",
      "  super().__init__(name, **kwargs)\n"
     ]
    },
    {
     "name": "stdout",
     "output_type": "stream",
     "text": [
      "[CV 9/10; 28/36] END activation=tanh, init=normal, neuron1=10, neuron2=7;, score=0.854 total time=   1.2s\n",
      "[CV 10/10; 28/36] START activation=tanh, init=normal, neuron1=10, neuron2=7.....\n"
     ]
    },
    {
     "name": "stderr",
     "output_type": "stream",
     "text": [
      "C:\\Users\\Shamikarani\\anaconda3\\lib\\site-packages\\keras\\optimizers\\optimizer_v2\\adam.py:114: UserWarning: The `lr` argument is deprecated, use `learning_rate` instead.\n",
      "  super().__init__(name, **kwargs)\n"
     ]
    },
    {
     "name": "stdout",
     "output_type": "stream",
     "text": [
      "[CV 10/10; 28/36] END activation=tanh, init=normal, neuron1=10, neuron2=7;, score=0.732 total time=   1.4s\n",
      "[CV 1/10; 29/36] START activation=tanh, init=normal, neuron1=10, neuron2=8......\n"
     ]
    },
    {
     "name": "stderr",
     "output_type": "stream",
     "text": [
      "C:\\Users\\Shamikarani\\anaconda3\\lib\\site-packages\\keras\\optimizers\\optimizer_v2\\adam.py:114: UserWarning: The `lr` argument is deprecated, use `learning_rate` instead.\n",
      "  super().__init__(name, **kwargs)\n"
     ]
    },
    {
     "name": "stdout",
     "output_type": "stream",
     "text": [
      "[CV 1/10; 29/36] END activation=tanh, init=normal, neuron1=10, neuron2=8;, score=0.714 total time=   1.2s\n",
      "[CV 2/10; 29/36] START activation=tanh, init=normal, neuron1=10, neuron2=8......\n"
     ]
    },
    {
     "name": "stderr",
     "output_type": "stream",
     "text": [
      "C:\\Users\\Shamikarani\\anaconda3\\lib\\site-packages\\keras\\optimizers\\optimizer_v2\\adam.py:114: UserWarning: The `lr` argument is deprecated, use `learning_rate` instead.\n",
      "  super().__init__(name, **kwargs)\n"
     ]
    },
    {
     "name": "stdout",
     "output_type": "stream",
     "text": [
      "[CV 2/10; 29/36] END activation=tanh, init=normal, neuron1=10, neuron2=8;, score=0.714 total time=   1.2s\n",
      "[CV 3/10; 29/36] START activation=tanh, init=normal, neuron1=10, neuron2=8......\n"
     ]
    },
    {
     "name": "stderr",
     "output_type": "stream",
     "text": [
      "C:\\Users\\Shamikarani\\anaconda3\\lib\\site-packages\\keras\\optimizers\\optimizer_v2\\adam.py:114: UserWarning: The `lr` argument is deprecated, use `learning_rate` instead.\n",
      "  super().__init__(name, **kwargs)\n"
     ]
    },
    {
     "name": "stdout",
     "output_type": "stream",
     "text": [
      "[CV 3/10; 29/36] END activation=tanh, init=normal, neuron1=10, neuron2=8;, score=0.643 total time=   1.2s\n",
      "[CV 4/10; 29/36] START activation=tanh, init=normal, neuron1=10, neuron2=8......\n"
     ]
    },
    {
     "name": "stderr",
     "output_type": "stream",
     "text": [
      "C:\\Users\\Shamikarani\\anaconda3\\lib\\site-packages\\keras\\optimizers\\optimizer_v2\\adam.py:114: UserWarning: The `lr` argument is deprecated, use `learning_rate` instead.\n",
      "  super().__init__(name, **kwargs)\n"
     ]
    },
    {
     "name": "stdout",
     "output_type": "stream",
     "text": [
      "[CV 4/10; 29/36] END activation=tanh, init=normal, neuron1=10, neuron2=8;, score=0.707 total time=   1.6s\n",
      "[CV 5/10; 29/36] START activation=tanh, init=normal, neuron1=10, neuron2=8......\n"
     ]
    },
    {
     "name": "stderr",
     "output_type": "stream",
     "text": [
      "C:\\Users\\Shamikarani\\anaconda3\\lib\\site-packages\\keras\\optimizers\\optimizer_v2\\adam.py:114: UserWarning: The `lr` argument is deprecated, use `learning_rate` instead.\n",
      "  super().__init__(name, **kwargs)\n"
     ]
    },
    {
     "name": "stdout",
     "output_type": "stream",
     "text": [
      "[CV 5/10; 29/36] END activation=tanh, init=normal, neuron1=10, neuron2=8;, score=0.707 total time=   1.1s\n",
      "[CV 6/10; 29/36] START activation=tanh, init=normal, neuron1=10, neuron2=8......\n"
     ]
    },
    {
     "name": "stderr",
     "output_type": "stream",
     "text": [
      "C:\\Users\\Shamikarani\\anaconda3\\lib\\site-packages\\keras\\optimizers\\optimizer_v2\\adam.py:114: UserWarning: The `lr` argument is deprecated, use `learning_rate` instead.\n",
      "  super().__init__(name, **kwargs)\n"
     ]
    },
    {
     "name": "stdout",
     "output_type": "stream",
     "text": [
      "[CV 6/10; 29/36] END activation=tanh, init=normal, neuron1=10, neuron2=8;, score=0.805 total time=   1.1s\n",
      "[CV 7/10; 29/36] START activation=tanh, init=normal, neuron1=10, neuron2=8......\n"
     ]
    },
    {
     "name": "stderr",
     "output_type": "stream",
     "text": [
      "C:\\Users\\Shamikarani\\anaconda3\\lib\\site-packages\\keras\\optimizers\\optimizer_v2\\adam.py:114: UserWarning: The `lr` argument is deprecated, use `learning_rate` instead.\n",
      "  super().__init__(name, **kwargs)\n"
     ]
    },
    {
     "name": "stdout",
     "output_type": "stream",
     "text": [
      "[CV 7/10; 29/36] END activation=tanh, init=normal, neuron1=10, neuron2=8;, score=0.756 total time=   1.4s\n",
      "[CV 8/10; 29/36] START activation=tanh, init=normal, neuron1=10, neuron2=8......\n"
     ]
    },
    {
     "name": "stderr",
     "output_type": "stream",
     "text": [
      "C:\\Users\\Shamikarani\\anaconda3\\lib\\site-packages\\keras\\optimizers\\optimizer_v2\\adam.py:114: UserWarning: The `lr` argument is deprecated, use `learning_rate` instead.\n",
      "  super().__init__(name, **kwargs)\n"
     ]
    },
    {
     "name": "stdout",
     "output_type": "stream",
     "text": [
      "[CV 8/10; 29/36] END activation=tanh, init=normal, neuron1=10, neuron2=8;, score=0.707 total time=   1.2s\n",
      "[CV 9/10; 29/36] START activation=tanh, init=normal, neuron1=10, neuron2=8......\n"
     ]
    },
    {
     "name": "stderr",
     "output_type": "stream",
     "text": [
      "C:\\Users\\Shamikarani\\anaconda3\\lib\\site-packages\\keras\\optimizers\\optimizer_v2\\adam.py:114: UserWarning: The `lr` argument is deprecated, use `learning_rate` instead.\n",
      "  super().__init__(name, **kwargs)\n"
     ]
    },
    {
     "name": "stdout",
     "output_type": "stream",
     "text": [
      "[CV 9/10; 29/36] END activation=tanh, init=normal, neuron1=10, neuron2=8;, score=0.854 total time=   1.4s\n",
      "[CV 10/10; 29/36] START activation=tanh, init=normal, neuron1=10, neuron2=8.....\n"
     ]
    },
    {
     "name": "stderr",
     "output_type": "stream",
     "text": [
      "C:\\Users\\Shamikarani\\anaconda3\\lib\\site-packages\\keras\\optimizers\\optimizer_v2\\adam.py:114: UserWarning: The `lr` argument is deprecated, use `learning_rate` instead.\n",
      "  super().__init__(name, **kwargs)\n"
     ]
    },
    {
     "name": "stdout",
     "output_type": "stream",
     "text": [
      "[CV 10/10; 29/36] END activation=tanh, init=normal, neuron1=10, neuron2=8;, score=0.732 total time=   1.2s\n",
      "[CV 1/10; 30/36] START activation=tanh, init=normal, neuron1=10, neuron2=9......\n"
     ]
    },
    {
     "name": "stderr",
     "output_type": "stream",
     "text": [
      "C:\\Users\\Shamikarani\\anaconda3\\lib\\site-packages\\keras\\optimizers\\optimizer_v2\\adam.py:114: UserWarning: The `lr` argument is deprecated, use `learning_rate` instead.\n",
      "  super().__init__(name, **kwargs)\n"
     ]
    },
    {
     "name": "stdout",
     "output_type": "stream",
     "text": [
      "[CV 1/10; 30/36] END activation=tanh, init=normal, neuron1=10, neuron2=9;, score=0.714 total time=   1.2s\n",
      "[CV 2/10; 30/36] START activation=tanh, init=normal, neuron1=10, neuron2=9......\n"
     ]
    },
    {
     "name": "stderr",
     "output_type": "stream",
     "text": [
      "C:\\Users\\Shamikarani\\anaconda3\\lib\\site-packages\\keras\\optimizers\\optimizer_v2\\adam.py:114: UserWarning: The `lr` argument is deprecated, use `learning_rate` instead.\n",
      "  super().__init__(name, **kwargs)\n"
     ]
    },
    {
     "name": "stdout",
     "output_type": "stream",
     "text": [
      "[CV 2/10; 30/36] END activation=tanh, init=normal, neuron1=10, neuron2=9;, score=0.714 total time=   1.1s\n",
      "[CV 3/10; 30/36] START activation=tanh, init=normal, neuron1=10, neuron2=9......\n"
     ]
    },
    {
     "name": "stderr",
     "output_type": "stream",
     "text": [
      "C:\\Users\\Shamikarani\\anaconda3\\lib\\site-packages\\keras\\optimizers\\optimizer_v2\\adam.py:114: UserWarning: The `lr` argument is deprecated, use `learning_rate` instead.\n",
      "  super().__init__(name, **kwargs)\n"
     ]
    },
    {
     "name": "stdout",
     "output_type": "stream",
     "text": [
      "[CV 3/10; 30/36] END activation=tanh, init=normal, neuron1=10, neuron2=9;, score=0.643 total time=   1.4s\n",
      "[CV 4/10; 30/36] START activation=tanh, init=normal, neuron1=10, neuron2=9......\n"
     ]
    },
    {
     "name": "stderr",
     "output_type": "stream",
     "text": [
      "C:\\Users\\Shamikarani\\anaconda3\\lib\\site-packages\\keras\\optimizers\\optimizer_v2\\adam.py:114: UserWarning: The `lr` argument is deprecated, use `learning_rate` instead.\n",
      "  super().__init__(name, **kwargs)\n"
     ]
    },
    {
     "name": "stdout",
     "output_type": "stream",
     "text": [
      "[CV 4/10; 30/36] END activation=tanh, init=normal, neuron1=10, neuron2=9;, score=0.707 total time=   1.2s\n",
      "[CV 5/10; 30/36] START activation=tanh, init=normal, neuron1=10, neuron2=9......\n"
     ]
    },
    {
     "name": "stderr",
     "output_type": "stream",
     "text": [
      "C:\\Users\\Shamikarani\\anaconda3\\lib\\site-packages\\keras\\optimizers\\optimizer_v2\\adam.py:114: UserWarning: The `lr` argument is deprecated, use `learning_rate` instead.\n",
      "  super().__init__(name, **kwargs)\n"
     ]
    },
    {
     "name": "stdout",
     "output_type": "stream",
     "text": [
      "[CV 5/10; 30/36] END activation=tanh, init=normal, neuron1=10, neuron2=9;, score=0.707 total time=   1.2s\n",
      "[CV 6/10; 30/36] START activation=tanh, init=normal, neuron1=10, neuron2=9......\n"
     ]
    },
    {
     "name": "stderr",
     "output_type": "stream",
     "text": [
      "C:\\Users\\Shamikarani\\anaconda3\\lib\\site-packages\\keras\\optimizers\\optimizer_v2\\adam.py:114: UserWarning: The `lr` argument is deprecated, use `learning_rate` instead.\n",
      "  super().__init__(name, **kwargs)\n"
     ]
    },
    {
     "name": "stdout",
     "output_type": "stream",
     "text": [
      "[CV 6/10; 30/36] END activation=tanh, init=normal, neuron1=10, neuron2=9;, score=0.805 total time=   1.1s\n",
      "[CV 7/10; 30/36] START activation=tanh, init=normal, neuron1=10, neuron2=9......\n"
     ]
    },
    {
     "name": "stderr",
     "output_type": "stream",
     "text": [
      "C:\\Users\\Shamikarani\\anaconda3\\lib\\site-packages\\keras\\optimizers\\optimizer_v2\\adam.py:114: UserWarning: The `lr` argument is deprecated, use `learning_rate` instead.\n",
      "  super().__init__(name, **kwargs)\n"
     ]
    },
    {
     "name": "stdout",
     "output_type": "stream",
     "text": [
      "[CV 7/10; 30/36] END activation=tanh, init=normal, neuron1=10, neuron2=9;, score=0.756 total time=   1.4s\n",
      "[CV 8/10; 30/36] START activation=tanh, init=normal, neuron1=10, neuron2=9......\n"
     ]
    },
    {
     "name": "stderr",
     "output_type": "stream",
     "text": [
      "C:\\Users\\Shamikarani\\anaconda3\\lib\\site-packages\\keras\\optimizers\\optimizer_v2\\adam.py:114: UserWarning: The `lr` argument is deprecated, use `learning_rate` instead.\n",
      "  super().__init__(name, **kwargs)\n"
     ]
    },
    {
     "name": "stdout",
     "output_type": "stream",
     "text": [
      "[CV 8/10; 30/36] END activation=tanh, init=normal, neuron1=10, neuron2=9;, score=0.707 total time=   1.1s\n",
      "[CV 9/10; 30/36] START activation=tanh, init=normal, neuron1=10, neuron2=9......\n"
     ]
    },
    {
     "name": "stderr",
     "output_type": "stream",
     "text": [
      "C:\\Users\\Shamikarani\\anaconda3\\lib\\site-packages\\keras\\optimizers\\optimizer_v2\\adam.py:114: UserWarning: The `lr` argument is deprecated, use `learning_rate` instead.\n",
      "  super().__init__(name, **kwargs)\n"
     ]
    },
    {
     "name": "stdout",
     "output_type": "stream",
     "text": [
      "[CV 9/10; 30/36] END activation=tanh, init=normal, neuron1=10, neuron2=9;, score=0.854 total time=   1.2s\n",
      "[CV 10/10; 30/36] START activation=tanh, init=normal, neuron1=10, neuron2=9.....\n"
     ]
    },
    {
     "name": "stderr",
     "output_type": "stream",
     "text": [
      "C:\\Users\\Shamikarani\\anaconda3\\lib\\site-packages\\keras\\optimizers\\optimizer_v2\\adam.py:114: UserWarning: The `lr` argument is deprecated, use `learning_rate` instead.\n",
      "  super().__init__(name, **kwargs)\n"
     ]
    },
    {
     "name": "stdout",
     "output_type": "stream",
     "text": [
      "[CV 10/10; 30/36] END activation=tanh, init=normal, neuron1=10, neuron2=9;, score=0.732 total time=   1.2s\n",
      "[CV 1/10; 31/36] START activation=tanh, init=normal, neuron1=12, neuron2=7......\n"
     ]
    },
    {
     "name": "stderr",
     "output_type": "stream",
     "text": [
      "C:\\Users\\Shamikarani\\anaconda3\\lib\\site-packages\\keras\\optimizers\\optimizer_v2\\adam.py:114: UserWarning: The `lr` argument is deprecated, use `learning_rate` instead.\n",
      "  super().__init__(name, **kwargs)\n"
     ]
    },
    {
     "name": "stdout",
     "output_type": "stream",
     "text": [
      "[CV 1/10; 31/36] END activation=tanh, init=normal, neuron1=12, neuron2=7;, score=0.714 total time=   1.2s\n",
      "[CV 2/10; 31/36] START activation=tanh, init=normal, neuron1=12, neuron2=7......\n"
     ]
    },
    {
     "name": "stderr",
     "output_type": "stream",
     "text": [
      "C:\\Users\\Shamikarani\\anaconda3\\lib\\site-packages\\keras\\optimizers\\optimizer_v2\\adam.py:114: UserWarning: The `lr` argument is deprecated, use `learning_rate` instead.\n",
      "  super().__init__(name, **kwargs)\n"
     ]
    },
    {
     "name": "stdout",
     "output_type": "stream",
     "text": [
      "[CV 2/10; 31/36] END activation=tanh, init=normal, neuron1=12, neuron2=7;, score=0.714 total time=   1.4s\n",
      "[CV 3/10; 31/36] START activation=tanh, init=normal, neuron1=12, neuron2=7......\n"
     ]
    },
    {
     "name": "stderr",
     "output_type": "stream",
     "text": [
      "C:\\Users\\Shamikarani\\anaconda3\\lib\\site-packages\\keras\\optimizers\\optimizer_v2\\adam.py:114: UserWarning: The `lr` argument is deprecated, use `learning_rate` instead.\n",
      "  super().__init__(name, **kwargs)\n"
     ]
    },
    {
     "name": "stdout",
     "output_type": "stream",
     "text": [
      "[CV 3/10; 31/36] END activation=tanh, init=normal, neuron1=12, neuron2=7;, score=0.643 total time=   1.3s\n",
      "[CV 4/10; 31/36] START activation=tanh, init=normal, neuron1=12, neuron2=7......\n"
     ]
    },
    {
     "name": "stderr",
     "output_type": "stream",
     "text": [
      "C:\\Users\\Shamikarani\\anaconda3\\lib\\site-packages\\keras\\optimizers\\optimizer_v2\\adam.py:114: UserWarning: The `lr` argument is deprecated, use `learning_rate` instead.\n",
      "  super().__init__(name, **kwargs)\n"
     ]
    },
    {
     "name": "stdout",
     "output_type": "stream",
     "text": [
      "[CV 4/10; 31/36] END activation=tanh, init=normal, neuron1=12, neuron2=7;, score=0.707 total time=   1.2s\n",
      "[CV 5/10; 31/36] START activation=tanh, init=normal, neuron1=12, neuron2=7......\n"
     ]
    },
    {
     "name": "stderr",
     "output_type": "stream",
     "text": [
      "C:\\Users\\Shamikarani\\anaconda3\\lib\\site-packages\\keras\\optimizers\\optimizer_v2\\adam.py:114: UserWarning: The `lr` argument is deprecated, use `learning_rate` instead.\n",
      "  super().__init__(name, **kwargs)\n"
     ]
    },
    {
     "name": "stdout",
     "output_type": "stream",
     "text": [
      "[CV 5/10; 31/36] END activation=tanh, init=normal, neuron1=12, neuron2=7;, score=0.707 total time=   1.2s\n",
      "[CV 6/10; 31/36] START activation=tanh, init=normal, neuron1=12, neuron2=7......\n"
     ]
    },
    {
     "name": "stderr",
     "output_type": "stream",
     "text": [
      "C:\\Users\\Shamikarani\\anaconda3\\lib\\site-packages\\keras\\optimizers\\optimizer_v2\\adam.py:114: UserWarning: The `lr` argument is deprecated, use `learning_rate` instead.\n",
      "  super().__init__(name, **kwargs)\n"
     ]
    },
    {
     "name": "stdout",
     "output_type": "stream",
     "text": [
      "[CV 6/10; 31/36] END activation=tanh, init=normal, neuron1=12, neuron2=7;, score=0.805 total time=   1.4s\n",
      "[CV 7/10; 31/36] START activation=tanh, init=normal, neuron1=12, neuron2=7......\n"
     ]
    },
    {
     "name": "stderr",
     "output_type": "stream",
     "text": [
      "C:\\Users\\Shamikarani\\anaconda3\\lib\\site-packages\\keras\\optimizers\\optimizer_v2\\adam.py:114: UserWarning: The `lr` argument is deprecated, use `learning_rate` instead.\n",
      "  super().__init__(name, **kwargs)\n"
     ]
    },
    {
     "name": "stdout",
     "output_type": "stream",
     "text": [
      "[CV 7/10; 31/36] END activation=tanh, init=normal, neuron1=12, neuron2=7;, score=0.756 total time=   1.2s\n",
      "[CV 8/10; 31/36] START activation=tanh, init=normal, neuron1=12, neuron2=7......\n"
     ]
    },
    {
     "name": "stderr",
     "output_type": "stream",
     "text": [
      "C:\\Users\\Shamikarani\\anaconda3\\lib\\site-packages\\keras\\optimizers\\optimizer_v2\\adam.py:114: UserWarning: The `lr` argument is deprecated, use `learning_rate` instead.\n",
      "  super().__init__(name, **kwargs)\n"
     ]
    },
    {
     "name": "stdout",
     "output_type": "stream",
     "text": [
      "[CV 8/10; 31/36] END activation=tanh, init=normal, neuron1=12, neuron2=7;, score=0.707 total time=   1.2s\n",
      "[CV 9/10; 31/36] START activation=tanh, init=normal, neuron1=12, neuron2=7......\n"
     ]
    },
    {
     "name": "stderr",
     "output_type": "stream",
     "text": [
      "C:\\Users\\Shamikarani\\anaconda3\\lib\\site-packages\\keras\\optimizers\\optimizer_v2\\adam.py:114: UserWarning: The `lr` argument is deprecated, use `learning_rate` instead.\n",
      "  super().__init__(name, **kwargs)\n"
     ]
    },
    {
     "name": "stdout",
     "output_type": "stream",
     "text": [
      "[CV 9/10; 31/36] END activation=tanh, init=normal, neuron1=12, neuron2=7;, score=0.854 total time=   1.2s\n",
      "[CV 10/10; 31/36] START activation=tanh, init=normal, neuron1=12, neuron2=7.....\n"
     ]
    },
    {
     "name": "stderr",
     "output_type": "stream",
     "text": [
      "C:\\Users\\Shamikarani\\anaconda3\\lib\\site-packages\\keras\\optimizers\\optimizer_v2\\adam.py:114: UserWarning: The `lr` argument is deprecated, use `learning_rate` instead.\n",
      "  super().__init__(name, **kwargs)\n"
     ]
    },
    {
     "name": "stdout",
     "output_type": "stream",
     "text": [
      "[CV 10/10; 31/36] END activation=tanh, init=normal, neuron1=12, neuron2=7;, score=0.732 total time=   1.5s\n",
      "[CV 1/10; 32/36] START activation=tanh, init=normal, neuron1=12, neuron2=8......\n"
     ]
    },
    {
     "name": "stderr",
     "output_type": "stream",
     "text": [
      "C:\\Users\\Shamikarani\\anaconda3\\lib\\site-packages\\keras\\optimizers\\optimizer_v2\\adam.py:114: UserWarning: The `lr` argument is deprecated, use `learning_rate` instead.\n",
      "  super().__init__(name, **kwargs)\n"
     ]
    },
    {
     "name": "stdout",
     "output_type": "stream",
     "text": [
      "[CV 1/10; 32/36] END activation=tanh, init=normal, neuron1=12, neuron2=8;, score=0.714 total time=   1.2s\n",
      "[CV 2/10; 32/36] START activation=tanh, init=normal, neuron1=12, neuron2=8......\n"
     ]
    },
    {
     "name": "stderr",
     "output_type": "stream",
     "text": [
      "C:\\Users\\Shamikarani\\anaconda3\\lib\\site-packages\\keras\\optimizers\\optimizer_v2\\adam.py:114: UserWarning: The `lr` argument is deprecated, use `learning_rate` instead.\n",
      "  super().__init__(name, **kwargs)\n"
     ]
    },
    {
     "name": "stdout",
     "output_type": "stream",
     "text": [
      "[CV 2/10; 32/36] END activation=tanh, init=normal, neuron1=12, neuron2=8;, score=0.714 total time=   1.1s\n",
      "[CV 3/10; 32/36] START activation=tanh, init=normal, neuron1=12, neuron2=8......\n"
     ]
    },
    {
     "name": "stderr",
     "output_type": "stream",
     "text": [
      "C:\\Users\\Shamikarani\\anaconda3\\lib\\site-packages\\keras\\optimizers\\optimizer_v2\\adam.py:114: UserWarning: The `lr` argument is deprecated, use `learning_rate` instead.\n",
      "  super().__init__(name, **kwargs)\n"
     ]
    },
    {
     "name": "stdout",
     "output_type": "stream",
     "text": [
      "[CV 3/10; 32/36] END activation=tanh, init=normal, neuron1=12, neuron2=8;, score=0.643 total time=   1.1s\n",
      "[CV 4/10; 32/36] START activation=tanh, init=normal, neuron1=12, neuron2=8......\n"
     ]
    },
    {
     "name": "stderr",
     "output_type": "stream",
     "text": [
      "C:\\Users\\Shamikarani\\anaconda3\\lib\\site-packages\\keras\\optimizers\\optimizer_v2\\adam.py:114: UserWarning: The `lr` argument is deprecated, use `learning_rate` instead.\n",
      "  super().__init__(name, **kwargs)\n"
     ]
    },
    {
     "name": "stdout",
     "output_type": "stream",
     "text": [
      "[CV 4/10; 32/36] END activation=tanh, init=normal, neuron1=12, neuron2=8;, score=0.707 total time=   1.2s\n",
      "[CV 5/10; 32/36] START activation=tanh, init=normal, neuron1=12, neuron2=8......\n"
     ]
    },
    {
     "name": "stderr",
     "output_type": "stream",
     "text": [
      "C:\\Users\\Shamikarani\\anaconda3\\lib\\site-packages\\keras\\optimizers\\optimizer_v2\\adam.py:114: UserWarning: The `lr` argument is deprecated, use `learning_rate` instead.\n",
      "  super().__init__(name, **kwargs)\n"
     ]
    },
    {
     "name": "stdout",
     "output_type": "stream",
     "text": [
      "[CV 5/10; 32/36] END activation=tanh, init=normal, neuron1=12, neuron2=8;, score=0.707 total time=   1.4s\n",
      "[CV 6/10; 32/36] START activation=tanh, init=normal, neuron1=12, neuron2=8......\n"
     ]
    },
    {
     "name": "stderr",
     "output_type": "stream",
     "text": [
      "C:\\Users\\Shamikarani\\anaconda3\\lib\\site-packages\\keras\\optimizers\\optimizer_v2\\adam.py:114: UserWarning: The `lr` argument is deprecated, use `learning_rate` instead.\n",
      "  super().__init__(name, **kwargs)\n"
     ]
    },
    {
     "name": "stdout",
     "output_type": "stream",
     "text": [
      "[CV 6/10; 32/36] END activation=tanh, init=normal, neuron1=12, neuron2=8;, score=0.805 total time=   1.2s\n",
      "[CV 7/10; 32/36] START activation=tanh, init=normal, neuron1=12, neuron2=8......\n"
     ]
    },
    {
     "name": "stderr",
     "output_type": "stream",
     "text": [
      "C:\\Users\\Shamikarani\\anaconda3\\lib\\site-packages\\keras\\optimizers\\optimizer_v2\\adam.py:114: UserWarning: The `lr` argument is deprecated, use `learning_rate` instead.\n",
      "  super().__init__(name, **kwargs)\n"
     ]
    },
    {
     "name": "stdout",
     "output_type": "stream",
     "text": [
      "[CV 7/10; 32/36] END activation=tanh, init=normal, neuron1=12, neuron2=8;, score=0.756 total time=   1.2s\n",
      "[CV 8/10; 32/36] START activation=tanh, init=normal, neuron1=12, neuron2=8......\n"
     ]
    },
    {
     "name": "stderr",
     "output_type": "stream",
     "text": [
      "C:\\Users\\Shamikarani\\anaconda3\\lib\\site-packages\\keras\\optimizers\\optimizer_v2\\adam.py:114: UserWarning: The `lr` argument is deprecated, use `learning_rate` instead.\n",
      "  super().__init__(name, **kwargs)\n"
     ]
    },
    {
     "name": "stdout",
     "output_type": "stream",
     "text": [
      "[CV 8/10; 32/36] END activation=tanh, init=normal, neuron1=12, neuron2=8;, score=0.707 total time=   1.2s\n",
      "[CV 9/10; 32/36] START activation=tanh, init=normal, neuron1=12, neuron2=8......\n"
     ]
    },
    {
     "name": "stderr",
     "output_type": "stream",
     "text": [
      "C:\\Users\\Shamikarani\\anaconda3\\lib\\site-packages\\keras\\optimizers\\optimizer_v2\\adam.py:114: UserWarning: The `lr` argument is deprecated, use `learning_rate` instead.\n",
      "  super().__init__(name, **kwargs)\n"
     ]
    },
    {
     "name": "stdout",
     "output_type": "stream",
     "text": [
      "[CV 9/10; 32/36] END activation=tanh, init=normal, neuron1=12, neuron2=8;, score=0.854 total time=   1.4s\n",
      "[CV 10/10; 32/36] START activation=tanh, init=normal, neuron1=12, neuron2=8.....\n"
     ]
    },
    {
     "name": "stderr",
     "output_type": "stream",
     "text": [
      "C:\\Users\\Shamikarani\\anaconda3\\lib\\site-packages\\keras\\optimizers\\optimizer_v2\\adam.py:114: UserWarning: The `lr` argument is deprecated, use `learning_rate` instead.\n",
      "  super().__init__(name, **kwargs)\n"
     ]
    },
    {
     "name": "stdout",
     "output_type": "stream",
     "text": [
      "[CV 10/10; 32/36] END activation=tanh, init=normal, neuron1=12, neuron2=8;, score=0.732 total time=   1.2s\n",
      "[CV 1/10; 33/36] START activation=tanh, init=normal, neuron1=12, neuron2=9......\n"
     ]
    },
    {
     "name": "stderr",
     "output_type": "stream",
     "text": [
      "C:\\Users\\Shamikarani\\anaconda3\\lib\\site-packages\\keras\\optimizers\\optimizer_v2\\adam.py:114: UserWarning: The `lr` argument is deprecated, use `learning_rate` instead.\n",
      "  super().__init__(name, **kwargs)\n"
     ]
    },
    {
     "name": "stdout",
     "output_type": "stream",
     "text": [
      "[CV 1/10; 33/36] END activation=tanh, init=normal, neuron1=12, neuron2=9;, score=0.714 total time=   1.2s\n",
      "[CV 2/10; 33/36] START activation=tanh, init=normal, neuron1=12, neuron2=9......\n"
     ]
    },
    {
     "name": "stderr",
     "output_type": "stream",
     "text": [
      "C:\\Users\\Shamikarani\\anaconda3\\lib\\site-packages\\keras\\optimizers\\optimizer_v2\\adam.py:114: UserWarning: The `lr` argument is deprecated, use `learning_rate` instead.\n",
      "  super().__init__(name, **kwargs)\n"
     ]
    },
    {
     "name": "stdout",
     "output_type": "stream",
     "text": [
      "[CV 2/10; 33/36] END activation=tanh, init=normal, neuron1=12, neuron2=9;, score=0.714 total time=   1.2s\n",
      "[CV 3/10; 33/36] START activation=tanh, init=normal, neuron1=12, neuron2=9......\n"
     ]
    },
    {
     "name": "stderr",
     "output_type": "stream",
     "text": [
      "C:\\Users\\Shamikarani\\anaconda3\\lib\\site-packages\\keras\\optimizers\\optimizer_v2\\adam.py:114: UserWarning: The `lr` argument is deprecated, use `learning_rate` instead.\n",
      "  super().__init__(name, **kwargs)\n"
     ]
    },
    {
     "name": "stdout",
     "output_type": "stream",
     "text": [
      "[CV 3/10; 33/36] END activation=tanh, init=normal, neuron1=12, neuron2=9;, score=0.643 total time=   1.5s\n",
      "[CV 4/10; 33/36] START activation=tanh, init=normal, neuron1=12, neuron2=9......\n"
     ]
    },
    {
     "name": "stderr",
     "output_type": "stream",
     "text": [
      "C:\\Users\\Shamikarani\\anaconda3\\lib\\site-packages\\keras\\optimizers\\optimizer_v2\\adam.py:114: UserWarning: The `lr` argument is deprecated, use `learning_rate` instead.\n",
      "  super().__init__(name, **kwargs)\n"
     ]
    },
    {
     "name": "stdout",
     "output_type": "stream",
     "text": [
      "[CV 4/10; 33/36] END activation=tanh, init=normal, neuron1=12, neuron2=9;, score=0.707 total time=   1.2s\n",
      "[CV 5/10; 33/36] START activation=tanh, init=normal, neuron1=12, neuron2=9......\n"
     ]
    },
    {
     "name": "stderr",
     "output_type": "stream",
     "text": [
      "C:\\Users\\Shamikarani\\anaconda3\\lib\\site-packages\\keras\\optimizers\\optimizer_v2\\adam.py:114: UserWarning: The `lr` argument is deprecated, use `learning_rate` instead.\n",
      "  super().__init__(name, **kwargs)\n"
     ]
    },
    {
     "name": "stdout",
     "output_type": "stream",
     "text": [
      "[CV 5/10; 33/36] END activation=tanh, init=normal, neuron1=12, neuron2=9;, score=0.707 total time=   1.2s\n",
      "[CV 6/10; 33/36] START activation=tanh, init=normal, neuron1=12, neuron2=9......\n"
     ]
    },
    {
     "name": "stderr",
     "output_type": "stream",
     "text": [
      "C:\\Users\\Shamikarani\\anaconda3\\lib\\site-packages\\keras\\optimizers\\optimizer_v2\\adam.py:114: UserWarning: The `lr` argument is deprecated, use `learning_rate` instead.\n",
      "  super().__init__(name, **kwargs)\n"
     ]
    },
    {
     "name": "stdout",
     "output_type": "stream",
     "text": [
      "[CV 6/10; 33/36] END activation=tanh, init=normal, neuron1=12, neuron2=9;, score=0.805 total time=   1.3s\n",
      "[CV 7/10; 33/36] START activation=tanh, init=normal, neuron1=12, neuron2=9......\n"
     ]
    },
    {
     "name": "stderr",
     "output_type": "stream",
     "text": [
      "C:\\Users\\Shamikarani\\anaconda3\\lib\\site-packages\\keras\\optimizers\\optimizer_v2\\adam.py:114: UserWarning: The `lr` argument is deprecated, use `learning_rate` instead.\n",
      "  super().__init__(name, **kwargs)\n"
     ]
    },
    {
     "name": "stdout",
     "output_type": "stream",
     "text": [
      "[CV 7/10; 33/36] END activation=tanh, init=normal, neuron1=12, neuron2=9;, score=0.756 total time=   1.2s\n",
      "[CV 8/10; 33/36] START activation=tanh, init=normal, neuron1=12, neuron2=9......\n"
     ]
    },
    {
     "name": "stderr",
     "output_type": "stream",
     "text": [
      "C:\\Users\\Shamikarani\\anaconda3\\lib\\site-packages\\keras\\optimizers\\optimizer_v2\\adam.py:114: UserWarning: The `lr` argument is deprecated, use `learning_rate` instead.\n",
      "  super().__init__(name, **kwargs)\n"
     ]
    },
    {
     "name": "stdout",
     "output_type": "stream",
     "text": [
      "[CV 8/10; 33/36] END activation=tanh, init=normal, neuron1=12, neuron2=9;, score=0.707 total time=   1.4s\n",
      "[CV 9/10; 33/36] START activation=tanh, init=normal, neuron1=12, neuron2=9......\n"
     ]
    },
    {
     "name": "stderr",
     "output_type": "stream",
     "text": [
      "C:\\Users\\Shamikarani\\anaconda3\\lib\\site-packages\\keras\\optimizers\\optimizer_v2\\adam.py:114: UserWarning: The `lr` argument is deprecated, use `learning_rate` instead.\n",
      "  super().__init__(name, **kwargs)\n"
     ]
    },
    {
     "name": "stdout",
     "output_type": "stream",
     "text": [
      "[CV 9/10; 33/36] END activation=tanh, init=normal, neuron1=12, neuron2=9;, score=0.854 total time=   1.1s\n",
      "[CV 10/10; 33/36] START activation=tanh, init=normal, neuron1=12, neuron2=9.....\n"
     ]
    },
    {
     "name": "stderr",
     "output_type": "stream",
     "text": [
      "C:\\Users\\Shamikarani\\anaconda3\\lib\\site-packages\\keras\\optimizers\\optimizer_v2\\adam.py:114: UserWarning: The `lr` argument is deprecated, use `learning_rate` instead.\n",
      "  super().__init__(name, **kwargs)\n"
     ]
    },
    {
     "name": "stdout",
     "output_type": "stream",
     "text": [
      "[CV 10/10; 33/36] END activation=tanh, init=normal, neuron1=12, neuron2=9;, score=0.732 total time=   1.2s\n",
      "[CV 1/10; 34/36] START activation=tanh, init=normal, neuron1=8, neuron2=7.......\n"
     ]
    },
    {
     "name": "stderr",
     "output_type": "stream",
     "text": [
      "C:\\Users\\Shamikarani\\anaconda3\\lib\\site-packages\\keras\\optimizers\\optimizer_v2\\adam.py:114: UserWarning: The `lr` argument is deprecated, use `learning_rate` instead.\n",
      "  super().__init__(name, **kwargs)\n"
     ]
    },
    {
     "name": "stdout",
     "output_type": "stream",
     "text": [
      "[CV 1/10; 34/36] END activation=tanh, init=normal, neuron1=8, neuron2=7;, score=0.714 total time=   1.1s\n",
      "[CV 2/10; 34/36] START activation=tanh, init=normal, neuron1=8, neuron2=7.......\n"
     ]
    },
    {
     "name": "stderr",
     "output_type": "stream",
     "text": [
      "C:\\Users\\Shamikarani\\anaconda3\\lib\\site-packages\\keras\\optimizers\\optimizer_v2\\adam.py:114: UserWarning: The `lr` argument is deprecated, use `learning_rate` instead.\n",
      "  super().__init__(name, **kwargs)\n"
     ]
    },
    {
     "name": "stdout",
     "output_type": "stream",
     "text": [
      "[CV 2/10; 34/36] END activation=tanh, init=normal, neuron1=8, neuron2=7;, score=0.714 total time=   1.2s\n",
      "[CV 3/10; 34/36] START activation=tanh, init=normal, neuron1=8, neuron2=7.......\n"
     ]
    },
    {
     "name": "stderr",
     "output_type": "stream",
     "text": [
      "C:\\Users\\Shamikarani\\anaconda3\\lib\\site-packages\\keras\\optimizers\\optimizer_v2\\adam.py:114: UserWarning: The `lr` argument is deprecated, use `learning_rate` instead.\n",
      "  super().__init__(name, **kwargs)\n"
     ]
    },
    {
     "name": "stdout",
     "output_type": "stream",
     "text": [
      "[CV 3/10; 34/36] END activation=tanh, init=normal, neuron1=8, neuron2=7;, score=0.643 total time=   1.8s\n",
      "[CV 4/10; 34/36] START activation=tanh, init=normal, neuron1=8, neuron2=7.......\n"
     ]
    },
    {
     "name": "stderr",
     "output_type": "stream",
     "text": [
      "C:\\Users\\Shamikarani\\anaconda3\\lib\\site-packages\\keras\\optimizers\\optimizer_v2\\adam.py:114: UserWarning: The `lr` argument is deprecated, use `learning_rate` instead.\n",
      "  super().__init__(name, **kwargs)\n"
     ]
    },
    {
     "name": "stdout",
     "output_type": "stream",
     "text": [
      "[CV 4/10; 34/36] END activation=tanh, init=normal, neuron1=8, neuron2=7;, score=0.707 total time=   1.2s\n",
      "[CV 5/10; 34/36] START activation=tanh, init=normal, neuron1=8, neuron2=7.......\n"
     ]
    },
    {
     "name": "stderr",
     "output_type": "stream",
     "text": [
      "C:\\Users\\Shamikarani\\anaconda3\\lib\\site-packages\\keras\\optimizers\\optimizer_v2\\adam.py:114: UserWarning: The `lr` argument is deprecated, use `learning_rate` instead.\n",
      "  super().__init__(name, **kwargs)\n"
     ]
    },
    {
     "name": "stdout",
     "output_type": "stream",
     "text": [
      "[CV 5/10; 34/36] END activation=tanh, init=normal, neuron1=8, neuron2=7;, score=0.707 total time=   1.2s\n",
      "[CV 6/10; 34/36] START activation=tanh, init=normal, neuron1=8, neuron2=7.......\n"
     ]
    },
    {
     "name": "stderr",
     "output_type": "stream",
     "text": [
      "C:\\Users\\Shamikarani\\anaconda3\\lib\\site-packages\\keras\\optimizers\\optimizer_v2\\adam.py:114: UserWarning: The `lr` argument is deprecated, use `learning_rate` instead.\n",
      "  super().__init__(name, **kwargs)\n"
     ]
    },
    {
     "name": "stdout",
     "output_type": "stream",
     "text": [
      "[CV 6/10; 34/36] END activation=tanh, init=normal, neuron1=8, neuron2=7;, score=0.805 total time=   1.1s\n",
      "[CV 7/10; 34/36] START activation=tanh, init=normal, neuron1=8, neuron2=7.......\n"
     ]
    },
    {
     "name": "stderr",
     "output_type": "stream",
     "text": [
      "C:\\Users\\Shamikarani\\anaconda3\\lib\\site-packages\\keras\\optimizers\\optimizer_v2\\adam.py:114: UserWarning: The `lr` argument is deprecated, use `learning_rate` instead.\n",
      "  super().__init__(name, **kwargs)\n"
     ]
    },
    {
     "name": "stdout",
     "output_type": "stream",
     "text": [
      "[CV 7/10; 34/36] END activation=tanh, init=normal, neuron1=8, neuron2=7;, score=0.756 total time=   1.4s\n",
      "[CV 8/10; 34/36] START activation=tanh, init=normal, neuron1=8, neuron2=7.......\n"
     ]
    },
    {
     "name": "stderr",
     "output_type": "stream",
     "text": [
      "C:\\Users\\Shamikarani\\anaconda3\\lib\\site-packages\\keras\\optimizers\\optimizer_v2\\adam.py:114: UserWarning: The `lr` argument is deprecated, use `learning_rate` instead.\n",
      "  super().__init__(name, **kwargs)\n"
     ]
    },
    {
     "name": "stdout",
     "output_type": "stream",
     "text": [
      "[CV 8/10; 34/36] END activation=tanh, init=normal, neuron1=8, neuron2=7;, score=0.707 total time=   1.1s\n",
      "[CV 9/10; 34/36] START activation=tanh, init=normal, neuron1=8, neuron2=7.......\n"
     ]
    },
    {
     "name": "stderr",
     "output_type": "stream",
     "text": [
      "C:\\Users\\Shamikarani\\anaconda3\\lib\\site-packages\\keras\\optimizers\\optimizer_v2\\adam.py:114: UserWarning: The `lr` argument is deprecated, use `learning_rate` instead.\n",
      "  super().__init__(name, **kwargs)\n"
     ]
    },
    {
     "name": "stdout",
     "output_type": "stream",
     "text": [
      "[CV 9/10; 34/36] END activation=tanh, init=normal, neuron1=8, neuron2=7;, score=0.854 total time=   1.1s\n",
      "[CV 10/10; 34/36] START activation=tanh, init=normal, neuron1=8, neuron2=7......\n"
     ]
    },
    {
     "name": "stderr",
     "output_type": "stream",
     "text": [
      "C:\\Users\\Shamikarani\\anaconda3\\lib\\site-packages\\keras\\optimizers\\optimizer_v2\\adam.py:114: UserWarning: The `lr` argument is deprecated, use `learning_rate` instead.\n",
      "  super().__init__(name, **kwargs)\n"
     ]
    },
    {
     "name": "stdout",
     "output_type": "stream",
     "text": [
      "[CV 10/10; 34/36] END activation=tanh, init=normal, neuron1=8, neuron2=7;, score=0.732 total time=   1.1s\n",
      "[CV 1/10; 35/36] START activation=tanh, init=normal, neuron1=8, neuron2=8.......\n"
     ]
    },
    {
     "name": "stderr",
     "output_type": "stream",
     "text": [
      "C:\\Users\\Shamikarani\\anaconda3\\lib\\site-packages\\keras\\optimizers\\optimizer_v2\\adam.py:114: UserWarning: The `lr` argument is deprecated, use `learning_rate` instead.\n",
      "  super().__init__(name, **kwargs)\n"
     ]
    },
    {
     "name": "stdout",
     "output_type": "stream",
     "text": [
      "[CV 1/10; 35/36] END activation=tanh, init=normal, neuron1=8, neuron2=8;, score=0.714 total time=   1.5s\n",
      "[CV 2/10; 35/36] START activation=tanh, init=normal, neuron1=8, neuron2=8.......\n"
     ]
    },
    {
     "name": "stderr",
     "output_type": "stream",
     "text": [
      "C:\\Users\\Shamikarani\\anaconda3\\lib\\site-packages\\keras\\optimizers\\optimizer_v2\\adam.py:114: UserWarning: The `lr` argument is deprecated, use `learning_rate` instead.\n",
      "  super().__init__(name, **kwargs)\n"
     ]
    },
    {
     "name": "stdout",
     "output_type": "stream",
     "text": [
      "[CV 2/10; 35/36] END activation=tanh, init=normal, neuron1=8, neuron2=8;, score=0.714 total time=   1.2s\n",
      "[CV 3/10; 35/36] START activation=tanh, init=normal, neuron1=8, neuron2=8.......\n"
     ]
    },
    {
     "name": "stderr",
     "output_type": "stream",
     "text": [
      "C:\\Users\\Shamikarani\\anaconda3\\lib\\site-packages\\keras\\optimizers\\optimizer_v2\\adam.py:114: UserWarning: The `lr` argument is deprecated, use `learning_rate` instead.\n",
      "  super().__init__(name, **kwargs)\n"
     ]
    },
    {
     "name": "stdout",
     "output_type": "stream",
     "text": [
      "[CV 3/10; 35/36] END activation=tanh, init=normal, neuron1=8, neuron2=8;, score=0.643 total time=   1.1s\n",
      "[CV 4/10; 35/36] START activation=tanh, init=normal, neuron1=8, neuron2=8.......\n"
     ]
    },
    {
     "name": "stderr",
     "output_type": "stream",
     "text": [
      "C:\\Users\\Shamikarani\\anaconda3\\lib\\site-packages\\keras\\optimizers\\optimizer_v2\\adam.py:114: UserWarning: The `lr` argument is deprecated, use `learning_rate` instead.\n",
      "  super().__init__(name, **kwargs)\n"
     ]
    },
    {
     "name": "stdout",
     "output_type": "stream",
     "text": [
      "[CV 4/10; 35/36] END activation=tanh, init=normal, neuron1=8, neuron2=8;, score=0.707 total time=   1.2s\n",
      "[CV 5/10; 35/36] START activation=tanh, init=normal, neuron1=8, neuron2=8.......\n"
     ]
    },
    {
     "name": "stderr",
     "output_type": "stream",
     "text": [
      "C:\\Users\\Shamikarani\\anaconda3\\lib\\site-packages\\keras\\optimizers\\optimizer_v2\\adam.py:114: UserWarning: The `lr` argument is deprecated, use `learning_rate` instead.\n",
      "  super().__init__(name, **kwargs)\n"
     ]
    },
    {
     "name": "stdout",
     "output_type": "stream",
     "text": [
      "[CV 5/10; 35/36] END activation=tanh, init=normal, neuron1=8, neuron2=8;, score=0.707 total time=   1.4s\n",
      "[CV 6/10; 35/36] START activation=tanh, init=normal, neuron1=8, neuron2=8.......\n"
     ]
    },
    {
     "name": "stderr",
     "output_type": "stream",
     "text": [
      "C:\\Users\\Shamikarani\\anaconda3\\lib\\site-packages\\keras\\optimizers\\optimizer_v2\\adam.py:114: UserWarning: The `lr` argument is deprecated, use `learning_rate` instead.\n",
      "  super().__init__(name, **kwargs)\n"
     ]
    },
    {
     "name": "stdout",
     "output_type": "stream",
     "text": [
      "[CV 6/10; 35/36] END activation=tanh, init=normal, neuron1=8, neuron2=8;, score=0.805 total time=   1.2s\n",
      "[CV 7/10; 35/36] START activation=tanh, init=normal, neuron1=8, neuron2=8.......\n"
     ]
    },
    {
     "name": "stderr",
     "output_type": "stream",
     "text": [
      "C:\\Users\\Shamikarani\\anaconda3\\lib\\site-packages\\keras\\optimizers\\optimizer_v2\\adam.py:114: UserWarning: The `lr` argument is deprecated, use `learning_rate` instead.\n",
      "  super().__init__(name, **kwargs)\n"
     ]
    },
    {
     "name": "stdout",
     "output_type": "stream",
     "text": [
      "[CV 7/10; 35/36] END activation=tanh, init=normal, neuron1=8, neuron2=8;, score=0.756 total time=   1.2s\n",
      "[CV 8/10; 35/36] START activation=tanh, init=normal, neuron1=8, neuron2=8.......\n"
     ]
    },
    {
     "name": "stderr",
     "output_type": "stream",
     "text": [
      "C:\\Users\\Shamikarani\\anaconda3\\lib\\site-packages\\keras\\optimizers\\optimizer_v2\\adam.py:114: UserWarning: The `lr` argument is deprecated, use `learning_rate` instead.\n",
      "  super().__init__(name, **kwargs)\n"
     ]
    },
    {
     "name": "stdout",
     "output_type": "stream",
     "text": [
      "[CV 8/10; 35/36] END activation=tanh, init=normal, neuron1=8, neuron2=8;, score=0.707 total time=   1.2s\n",
      "[CV 9/10; 35/36] START activation=tanh, init=normal, neuron1=8, neuron2=8.......\n"
     ]
    },
    {
     "name": "stderr",
     "output_type": "stream",
     "text": [
      "C:\\Users\\Shamikarani\\anaconda3\\lib\\site-packages\\keras\\optimizers\\optimizer_v2\\adam.py:114: UserWarning: The `lr` argument is deprecated, use `learning_rate` instead.\n",
      "  super().__init__(name, **kwargs)\n"
     ]
    },
    {
     "name": "stdout",
     "output_type": "stream",
     "text": [
      "[CV 9/10; 35/36] END activation=tanh, init=normal, neuron1=8, neuron2=8;, score=0.854 total time=   1.2s\n",
      "[CV 10/10; 35/36] START activation=tanh, init=normal, neuron1=8, neuron2=8......\n"
     ]
    },
    {
     "name": "stderr",
     "output_type": "stream",
     "text": [
      "C:\\Users\\Shamikarani\\anaconda3\\lib\\site-packages\\keras\\optimizers\\optimizer_v2\\adam.py:114: UserWarning: The `lr` argument is deprecated, use `learning_rate` instead.\n",
      "  super().__init__(name, **kwargs)\n"
     ]
    },
    {
     "name": "stdout",
     "output_type": "stream",
     "text": [
      "[CV 10/10; 35/36] END activation=tanh, init=normal, neuron1=8, neuron2=8;, score=0.732 total time=   1.4s\n",
      "[CV 1/10; 36/36] START activation=tanh, init=normal, neuron1=8, neuron2=9.......\n"
     ]
    },
    {
     "name": "stderr",
     "output_type": "stream",
     "text": [
      "C:\\Users\\Shamikarani\\anaconda3\\lib\\site-packages\\keras\\optimizers\\optimizer_v2\\adam.py:114: UserWarning: The `lr` argument is deprecated, use `learning_rate` instead.\n",
      "  super().__init__(name, **kwargs)\n"
     ]
    },
    {
     "name": "stdout",
     "output_type": "stream",
     "text": [
      "[CV 1/10; 36/36] END activation=tanh, init=normal, neuron1=8, neuron2=9;, score=0.714 total time=   1.2s\n",
      "[CV 2/10; 36/36] START activation=tanh, init=normal, neuron1=8, neuron2=9.......\n"
     ]
    },
    {
     "name": "stderr",
     "output_type": "stream",
     "text": [
      "C:\\Users\\Shamikarani\\anaconda3\\lib\\site-packages\\keras\\optimizers\\optimizer_v2\\adam.py:114: UserWarning: The `lr` argument is deprecated, use `learning_rate` instead.\n",
      "  super().__init__(name, **kwargs)\n"
     ]
    },
    {
     "name": "stdout",
     "output_type": "stream",
     "text": [
      "[CV 2/10; 36/36] END activation=tanh, init=normal, neuron1=8, neuron2=9;, score=0.714 total time=   1.2s\n",
      "[CV 3/10; 36/36] START activation=tanh, init=normal, neuron1=8, neuron2=9.......\n"
     ]
    },
    {
     "name": "stderr",
     "output_type": "stream",
     "text": [
      "C:\\Users\\Shamikarani\\anaconda3\\lib\\site-packages\\keras\\optimizers\\optimizer_v2\\adam.py:114: UserWarning: The `lr` argument is deprecated, use `learning_rate` instead.\n",
      "  super().__init__(name, **kwargs)\n"
     ]
    },
    {
     "name": "stdout",
     "output_type": "stream",
     "text": [
      "[CV 3/10; 36/36] END activation=tanh, init=normal, neuron1=8, neuron2=9;, score=0.643 total time=   1.2s\n",
      "[CV 4/10; 36/36] START activation=tanh, init=normal, neuron1=8, neuron2=9.......\n"
     ]
    },
    {
     "name": "stderr",
     "output_type": "stream",
     "text": [
      "C:\\Users\\Shamikarani\\anaconda3\\lib\\site-packages\\keras\\optimizers\\optimizer_v2\\adam.py:114: UserWarning: The `lr` argument is deprecated, use `learning_rate` instead.\n",
      "  super().__init__(name, **kwargs)\n"
     ]
    },
    {
     "name": "stdout",
     "output_type": "stream",
     "text": [
      "[CV 4/10; 36/36] END activation=tanh, init=normal, neuron1=8, neuron2=9;, score=0.707 total time=   1.2s\n",
      "[CV 5/10; 36/36] START activation=tanh, init=normal, neuron1=8, neuron2=9.......\n"
     ]
    },
    {
     "name": "stderr",
     "output_type": "stream",
     "text": [
      "C:\\Users\\Shamikarani\\anaconda3\\lib\\site-packages\\keras\\optimizers\\optimizer_v2\\adam.py:114: UserWarning: The `lr` argument is deprecated, use `learning_rate` instead.\n",
      "  super().__init__(name, **kwargs)\n"
     ]
    },
    {
     "name": "stdout",
     "output_type": "stream",
     "text": [
      "[CV 5/10; 36/36] END activation=tanh, init=normal, neuron1=8, neuron2=9;, score=0.707 total time=   1.4s\n",
      "[CV 6/10; 36/36] START activation=tanh, init=normal, neuron1=8, neuron2=9.......\n"
     ]
    },
    {
     "name": "stderr",
     "output_type": "stream",
     "text": [
      "C:\\Users\\Shamikarani\\anaconda3\\lib\\site-packages\\keras\\optimizers\\optimizer_v2\\adam.py:114: UserWarning: The `lr` argument is deprecated, use `learning_rate` instead.\n",
      "  super().__init__(name, **kwargs)\n"
     ]
    },
    {
     "name": "stdout",
     "output_type": "stream",
     "text": [
      "[CV 6/10; 36/36] END activation=tanh, init=normal, neuron1=8, neuron2=9;, score=0.805 total time=   1.2s\n",
      "[CV 7/10; 36/36] START activation=tanh, init=normal, neuron1=8, neuron2=9.......\n"
     ]
    },
    {
     "name": "stderr",
     "output_type": "stream",
     "text": [
      "C:\\Users\\Shamikarani\\anaconda3\\lib\\site-packages\\keras\\optimizers\\optimizer_v2\\adam.py:114: UserWarning: The `lr` argument is deprecated, use `learning_rate` instead.\n",
      "  super().__init__(name, **kwargs)\n"
     ]
    },
    {
     "name": "stdout",
     "output_type": "stream",
     "text": [
      "[CV 7/10; 36/36] END activation=tanh, init=normal, neuron1=8, neuron2=9;, score=0.756 total time=   1.3s\n",
      "[CV 8/10; 36/36] START activation=tanh, init=normal, neuron1=8, neuron2=9.......\n"
     ]
    },
    {
     "name": "stderr",
     "output_type": "stream",
     "text": [
      "C:\\Users\\Shamikarani\\anaconda3\\lib\\site-packages\\keras\\optimizers\\optimizer_v2\\adam.py:114: UserWarning: The `lr` argument is deprecated, use `learning_rate` instead.\n",
      "  super().__init__(name, **kwargs)\n"
     ]
    },
    {
     "name": "stdout",
     "output_type": "stream",
     "text": [
      "[CV 8/10; 36/36] END activation=tanh, init=normal, neuron1=8, neuron2=9;, score=0.707 total time=   1.2s\n",
      "[CV 9/10; 36/36] START activation=tanh, init=normal, neuron1=8, neuron2=9.......\n"
     ]
    },
    {
     "name": "stderr",
     "output_type": "stream",
     "text": [
      "C:\\Users\\Shamikarani\\anaconda3\\lib\\site-packages\\keras\\optimizers\\optimizer_v2\\adam.py:114: UserWarning: The `lr` argument is deprecated, use `learning_rate` instead.\n",
      "  super().__init__(name, **kwargs)\n"
     ]
    },
    {
     "name": "stdout",
     "output_type": "stream",
     "text": [
      "[CV 9/10; 36/36] END activation=tanh, init=normal, neuron1=8, neuron2=9;, score=0.854 total time=   1.4s\n",
      "[CV 10/10; 36/36] START activation=tanh, init=normal, neuron1=8, neuron2=9......\n"
     ]
    },
    {
     "name": "stderr",
     "output_type": "stream",
     "text": [
      "C:\\Users\\Shamikarani\\anaconda3\\lib\\site-packages\\keras\\optimizers\\optimizer_v2\\adam.py:114: UserWarning: The `lr` argument is deprecated, use `learning_rate` instead.\n",
      "  super().__init__(name, **kwargs)\n"
     ]
    },
    {
     "name": "stdout",
     "output_type": "stream",
     "text": [
      "[CV 10/10; 36/36] END activation=tanh, init=normal, neuron1=8, neuron2=9;, score=0.732 total time=   1.2s\n"
     ]
    }
   ],
   "source": [
    "grid_result = grid_cv.fit(X_train,y_train)"
   ]
  },
  {
   "cell_type": "code",
   "execution_count": 38,
   "id": "0a68c629",
   "metadata": {},
   "outputs": [
    {
     "data": {
      "text/plain": [
       "{'activation': 'relu', 'init': 'uniform', 'neuron1': 10, 'neuron2': 7}"
      ]
     },
     "execution_count": 38,
     "metadata": {},
     "output_type": "execute_result"
    }
   ],
   "source": [
    "grid_result.best_params_"
   ]
  },
  {
   "cell_type": "code",
   "execution_count": 39,
   "id": "ded65291",
   "metadata": {},
   "outputs": [
    {
     "data": {
      "text/plain": [
       "0.7339721262454987"
      ]
     },
     "execution_count": 39,
     "metadata": {},
     "output_type": "execute_result"
    }
   ],
   "source": [
    "grid_result.best_score_"
   ]
  },
  {
   "cell_type": "code",
   "execution_count": null,
   "id": "8bc761c7",
   "metadata": {},
   "outputs": [],
   "source": []
  },
  {
   "cell_type": "code",
   "execution_count": null,
   "id": "3c9f6a6b",
   "metadata": {},
   "outputs": [],
   "source": []
  }
 ],
 "metadata": {
  "kernelspec": {
   "display_name": "Python 3 (ipykernel)",
   "language": "python",
   "name": "python3"
  },
  "language_info": {
   "codemirror_mode": {
    "name": "ipython",
    "version": 3
   },
   "file_extension": ".py",
   "mimetype": "text/x-python",
   "name": "python",
   "nbconvert_exporter": "python",
   "pygments_lexer": "ipython3",
   "version": "3.9.12"
  }
 },
 "nbformat": 4,
 "nbformat_minor": 5
}
